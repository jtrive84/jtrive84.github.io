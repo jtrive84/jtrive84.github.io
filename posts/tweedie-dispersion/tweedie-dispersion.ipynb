{
 "cells": [
  {
   "cell_type": "markdown",
   "metadata": {},
   "source": []
  },
  {
   "cell_type": "raw",
   "metadata": {},
   "source": [
    "---\n",
    "title: The Buried Assumption in Constant Dispersion Tweedie Models            \n",
    "date: 2024-02-01\n",
    "description: The buried assumption in constant dispersion tweedie models\n",
    "categories: [Statistical Modeling]\n",
    "---"
   ]
  },
  {
   "cell_type": "markdown",
   "metadata": {},
   "source": [
    "Instead of building separate models for claim frequency and claim severity, the Tweedie distribution can be used to model pure premium directly. The Tweedie family of distributions are Exponential Dispersion Models with variance function $V(\\mu) = \\mu^{p}$ where $1 \\lt p \\lt 2$. \n",
    "\n",
    "However, the Tweedie distribution has an important limitation: Buried in the model parameterization is the assumption of positive correlation between claim frequency and severity. Put another way, as commonly implemented within various GLM frameworks, the Tweedie distribution assumes that each covariate impacts frequency and severity in the same direction.\n",
    "\n",
    "Tweedie is a compund Poisson-gamma process, where claim frequency is assumed to follow Poisson distribution and claim severity assumed to follow a gamma distribution (conditional on the occurrence of a claim). In the original [Smyth and Jorgensen paper](https://www.casact.org/sites/default/files/old/astin_vol32no1_143.pdf), the Tweedie distribution is parameterized as follows:\n",
    "\n",
    "$$\n",
    "\\mu = \\lambda \\cdot \\alpha \\cdot \\theta; \\hspace{.75em} p = \\frac{\\alpha + 2}{\\alpha + 1}; \\hspace{.75em} \\phi = \\frac{\\lambda^{1 - p} \\cdot (\\alpha \\cdot \\theta)^{2 - p}}{2 - p}\n",
    "$$\n",
    "\n",
    "Where:\n",
    "\n",
    "- $\\lambda$ is the mean of the underlying Poisson distribution.\n",
    "- $\\alpha$ is the gamma distribution shape parameter.\n",
    "- $\\theta$ is the gamma distribution scale parameter.\n",
    "- $p$ is constant across the dataset, specified by the user. Since $\\alpha \\gt 0$, $1 \\lt p \\lt 2$.\n",
    "\n",
    "\n",
    "Because $p$ is constant, we have:\n",
    "\n",
    "$$\n",
    "\\phi \\sim \\frac{(\\alpha \\cdot \\theta)^{2 - p}}{\\lambda^{p-1}}\n",
    "$$\n",
    "\n",
    "$\\phi$ is proportional to the mean severity raised to some positive power divided by the mean frequency raised to some positive power. If $\\phi$ is assumed to be constant across the dataset (as is the default assumption in many popular libraries such as scikit-learn and statsmodels), any factor that increases mean severity must also increase mean frequency. To ensure that $\\phi$ remains constant, mean frequency and mean severity must move in the same direction. However, the assumption that frequency and severity move in the same direction is often unrealistic. Think of how auto claims are usually distributed: A large number of low severity claims, along with fewer of high severity. \n",
    "\n",
    "\n",
    "The Tweedie distribution can still be used in situations in which frequency and severity move in opposite directions, as long as $\\phi$ and $\\mu$ are modeled together. This is referred to as a double GLM, and is outlined in the Smyth and Jorgensen paper. If the dispersion parameter is allowed to vary across the dataset, the assumption of positive association between frequency and severity no longer applies.\n",
    "\n",
    "Fitting a Tweedie double GLM can be accomplished as follows:\n",
    "\n",
    "1. Using pure premium as the target, fit a Tweedie GLM for the mean. The weight is exposures divided by $\\phi$, where initially $\\phi = 1$ for all inputs.\n",
    "\n",
    "2. Calculate the weighted deviance for each record. The sum of these unit deviances equals the total deviance for the initial model for the mean.\n",
    "\n",
    "3. Fit a gamma GLM for dispersion. The target variable is the unit deviance with each record given equal weight. The predictions from this model represent the new per observation dispersion.\n",
    "\n",
    "4. Re-fit the GLM for the mean from step 1., this time using the dispersion parameters obtained in step 3. The weight for this GLM is exposure divided by the new dispersion parameters.\n",
    "\n",
    "This is straightforward to implement, and is left as an exercise for the reader. For R users, the [dglm package](https://cran.r-project.org/web/packages/dglm/dglm.pdf) is available. \n",
    "\n",
    "I recall a few years back it wasn't possible to set `p` to a variable when using the dglm package; `p` had to be hard-coded with a scalar value, which was inconvenient if you wanted to evaluate a number of Tweedie models with different `p`s in an iterative fashion. A work-around was proposed [here](https://stackoverflow.com/questions/28810479/package-dglm-in-r), but the package creator may have since incorporated the update into the codebase. \n"
   ]
  }
 ],
 "metadata": {
  "kernelspec": {
   "display_name": "pics",
   "language": "python",
   "name": "python3"
  },
  "language_info": {
   "name": "python",
   "version": "3.11.4"
  }
 },
 "nbformat": 4,
 "nbformat_minor": 2
}
