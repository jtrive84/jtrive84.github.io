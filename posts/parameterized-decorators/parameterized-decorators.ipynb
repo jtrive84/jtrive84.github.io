{
 "cells": [
  {
   "cell_type": "raw",
   "metadata": {},
   "source": [
    "---\n",
    "title: Parameterized Decorators in Python\n",
    "date: 2024-02-01\n",
    "description: Parameterized decorators in Python\n",
    "categories: [Python]\n",
    "highlight-style: dracula\n",
    "---"
   ]
  },
  {
   "cell_type": "markdown",
   "metadata": {},
   "source": [
    "A decorator is a function that takes another function and extends the behavior of the latter function without explicitly modifying it. \n",
    "In what follows, I demonstrate a practical use case for parameterized decorators focusing on units conversion. \n",
    "\n",
    "To illustrate, we refer to the `get_speed` function used to estimate the spped of the International Space Station w.r.t. the surface of \n",
    "the Earth. `get_speed` returns a scalar representing the average speed of the ISS over a given time differential. The result is returned \n",
    "in kilometers per hour, with no parameter available to apply a change of units. To incorporate this functionality, we can either (1) \n",
    "add a units parameter to change the units of the calculated speed prior to `get_speed` returning, or (2) implement a decorator specifying the units of the calculated value fully outside of `get_speed`. The declarations for `haverdist`, `getiss` and `get_speed`\n",
    "are provided below:\n",
    "\n"
   ]
  },
  {
   "cell_type": "code",
   "execution_count": 1,
   "metadata": {},
   "outputs": [],
   "source": [
    "\n",
    "\n",
    "import datetime\n",
    "import math\n",
    "import requests\n",
    "\n",
    "\n",
    "def haverdist(coords1, coords2):\n",
    "    \"\"\"\n",
    "    Compute distance between geographic coordinate pairs.\n",
    "\n",
    "    Parameters\n",
    "    ----------\n",
    "    coords1: tuple or list;\n",
    "        (lat1, lon1) of first geolocation.\n",
    "        \n",
    "    coords2: tuple or list\n",
    "        (lat2, lon2) of second geolocation.\n",
    "\n",
    "    Returns\n",
    "    -------\n",
    "    float\n",
    "        Distance in kilometers between coords1 and coords2.\n",
    "    \"\"\"\n",
    "    # Convert degrees to radians then compute differences.\n",
    "    R = 6367 \n",
    "    rlat1, rlon1 = [ii * math.pi / 180 for ii in coords1]\n",
    "    rlat2, rlon2 = [ii * math.pi / 180 for ii in coords2]\n",
    "    drlat, drlon = (rlat2 - rlat1), (rlon2 - rlon1)\n",
    "    inner = (math.sin(drlat / 2.))**2 + (math.cos(rlat1)) * \\\n",
    "            (math.cos(rlat2)) * (math.sin(drlon /2.))**2\n",
    "    return 2.0 * R * math.asin(min(1., math.sqrt(inner)))\n",
    "\n",
    "\n",
    "def getiss():\n",
    "    \"\"\"\n",
    "    Get timestamped geo-coordinates of International Space Station.\n",
    "\n",
    "    Returns\n",
    "    -------\n",
    "    dict\n",
    "        Dictionary with keys \"latitude\", \"longitude\" and \n",
    "        \"timestamp\" indicating time and position of ISS. \n",
    "    \"\"\"\n",
    "    dpos = dict()\n",
    "    resp = requests.get(\"http://api.open-notify.org/iss-now.json\").json()\n",
    "    if resp[\"message\"] != \"success\":\n",
    "        raise RuntimeError(\"Unable to access Open Notify API.\")\n",
    "    dpos[\"timestamp\"] = resp[\"timestamp\"]\n",
    "    dpos[\"latitude\"]  = float(resp[\"iss_position\"][\"latitude\"])\n",
    "    dpos[\"longitude\"] = float(resp[\"iss_position\"][\"longitude\"])\n",
    "    return dpos\n",
    "\n",
    "\n",
    "\n",
    "def get_speed(dloc1, dloc2):\n",
    "    \"\"\"\n",
    "    Compute speed of ISS relative to Earth's surface using a pair of coordinates \n",
    "    retrieved via `getiss`. \n",
    "\n",
    "    Parameters\n",
    "    ----------\n",
    "    dloc1: dict\n",
    "        Dictionary with keys \"latitude\", \"longitude\" \"timestamp\"\n",
    "        associated with the first positional snapshot.\n",
    "    dloc2: dict\n",
    "        Dictionary with keys \"latitude\", \"longitude\" \"timestamp\"\n",
    "        associated with the second positional snapshot.\n",
    "\n",
    "    Returns\n",
    "    -------\n",
    "    float\n",
    "        Scalar value representing the average speed in km/s of the\n",
    "        International Space Station relative to the Earth in translation \n",
    "        from `dloc1` to `dloc2`. \n",
    "    \"\"\"\n",
    "    # Convert unix epochs to timestamp datetime objects.\n",
    "    ts1  = datetime.datetime.fromtimestamp(dloc1['timestamp'])\n",
    "    ts2  = datetime.datetime.fromtimestamp(dloc2['timestamp'])\n",
    "    secs = abs((ts2 - ts1).total_seconds())\n",
    "    loc1 = (dloc1[\"latitude\"], dloc1[\"longitude\"])\n",
    "    loc2 = (dloc2[\"latitude\"], dloc2[\"longitude\"])\n",
    "    dist = haverdist(loc1, loc2)\n",
    "    return (dist / secs) * 3600\n",
    "\n"
   ]
  },
  {
   "cell_type": "markdown",
   "metadata": {},
   "source": [
    "In this case, the first option seems like a good choice. But instead of a simple function like `get_speed`, imagine a different function (call it `legacyfunc`) that we didn't author and which has been in production for a very long time, which has lots of unfamiliar optional parameters and many more lines of code than `get_speed`, is responsible for returning the value and this value is the one requiring a change of units. In this case, leaving `legacyfunc` unmodified and wrapping its result with logic to handle the change of units would be preferable.\n",
    "\n",
    "We'll implement a function to handle the change of units conversion. This will result in a parameterized decorator, the parameter indicating which units the final result should be converted to. For this example, the only options will be kilometers per hour or miles per hour, but the decorator can be extended to facilitate any number of additional distance or time conversions."
   ]
  },
  {
   "cell_type": "code",
   "execution_count": 2,
   "metadata": {},
   "outputs": [],
   "source": [
    "\n",
    "import functools\n",
    "\n",
    "\n",
    "def units(spec):\n",
    "    \"\"\"\n",
    "    Specify the units to represent orbital speed. \n",
    "\n",
    "    Parameters\n",
    "    ----------\n",
    "    spec: str {\"kph\", \"mph\"}\n",
    "        Determines the final units for representing orbital speed,\n",
    "        \"kph\" for kilometers-per-hour, \"mph\" for miles-per-hour. \n",
    "    \"\"\"\n",
    "    def decorator(func):\n",
    "        @functools.wraps(func)\n",
    "        def wrapper(*args, **kwargs):\n",
    "            result_init = func(*args, **kwargs)\n",
    "            # result_init is result returned by func.\n",
    "            if spec == \"mph\":\n",
    "                result = result_init * 0.62137119 \n",
    "            else: \n",
    "                result = result_init\n",
    "            return(result)\n",
    "        return(wrapper)\n",
    "    return(decorator)\n",
    "\n"
   ]
  },
  {
   "cell_type": "markdown",
   "metadata": {},
   "source": [
    "\n",
    "Next, `get_speed` is modified by referencing the `units` decorator as follows:"
   ]
  },
  {
   "cell_type": "code",
   "execution_count": 3,
   "metadata": {},
   "outputs": [],
   "source": [
    "\n",
    "\n",
    "@units(\"mph\")\n",
    "def get_speed(dloc1: dict, dloc2: dict) ->float:\n",
    "    \"\"\"\n",
    "    Compute speed of ISS relative to Earth's surface using\n",
    "    a pair of coordinates retrieved from `getiss` in \n",
    "    kilometers-per-hour.\n",
    "\n",
    "    Parameters\n",
    "    ----------\n",
    "    dloc1: dict\n",
    "        Dictionary with keys \"latitude\", \"longitude\" \"timestamp\"\n",
    "        associated with the first positional snapshot.\n",
    "    dloc2: dict\n",
    "        Dictionary with keys \"latitude\", \"longitude\" \"timestamp\"\n",
    "        associated with the second positional snapshot.\n",
    "\n",
    "    Returns\n",
    "    -------\n",
    "    float\n",
    "        Scalar value representing the average speed of the International\n",
    "        Space Station relative to the Earth going from dloc1 to \n",
    "        dloc2 in kilometers-per-hour.\n",
    "    \"\"\"\n",
    "    ts1 = datetime.datetime.fromtimestamp(dloc1['timestamp'])\n",
    "    ts2 = datetime.datetime.fromtimestamp(dloc2['timestamp'])\n",
    "    secs = abs((ts2-ts1).total_seconds())\n",
    "    loc1 = (dloc1[\"latitude\"], dloc1[\"longitude\"])\n",
    "    loc2 = (dloc2[\"latitude\"], dloc2[\"longitude\"])\n",
    "    dist = haverdist(loc1, loc2)\n",
    "    return (dist / secs) * 3600\n"
   ]
  },
  {
   "cell_type": "markdown",
   "metadata": {},
   "source": [
    "\n",
    "With this change, the scalar representing kilometers per hour returned by `getspeed` will be converted to miles per hour. This can be confirmed by calling `get_speed`:"
   ]
  },
  {
   "cell_type": "code",
   "execution_count": 4,
   "metadata": {},
   "outputs": [
    {
     "name": "stdout",
     "output_type": "stream",
     "text": [
      "Speed in mph: 15,466.\n"
     ]
    }
   ],
   "source": [
    "\n",
    "import time\n",
    "\n",
    "dpos1 = getiss()\n",
    "time.sleep(10)\n",
    "dpos2 = getiss()\n",
    "mph_speed = get_speed(dpos1, dpos2)\n",
    "\n",
    "print(f\"Speed in mph: {mph_speed:,.0f}.\")\n"
   ]
  },
  {
   "cell_type": "markdown",
   "metadata": {},
   "source": [
    "A speed of 15,420mph is ~25,000km/h. Wikipedia puts the ISS average orbital speed at ~27,000km/h.\n"
   ]
  }
 ],
 "metadata": {
  "kernelspec": {
   "display_name": "py311",
   "language": "python",
   "name": "py311"
  },
  "language_info": {
   "codemirror_mode": {
    "name": "ipython",
    "version": 3
   },
   "file_extension": ".py",
   "mimetype": "text/x-python",
   "name": "python",
   "nbconvert_exporter": "python",
   "pygments_lexer": "ipython3",
   "version": "3.11.7"
  }
 },
 "nbformat": 4,
 "nbformat_minor": 2
}
