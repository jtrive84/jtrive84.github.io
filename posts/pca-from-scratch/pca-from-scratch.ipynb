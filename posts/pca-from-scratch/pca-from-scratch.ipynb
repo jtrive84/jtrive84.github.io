{
 "cells": [
  {
   "cell_type": "raw",
   "metadata": {
    "vscode": {
     "languageId": "raw"
    }
   },
   "source": [
    "---\n",
    "title: Demonstration of Principal Component Analysis\n",
    "date: 2024-01-28\n",
    "description: Demonstration of principal component analysis\n",
    "categories: [Machine Learning, Python]\n",
    "---"
   ]
  },
  {
   "cell_type": "markdown",
   "metadata": {},
   "source": [
    "Principal Component Analysis (PCA) is a statistical technique used in the field of data analysis and machine learning for dimensionality reduction while preserving as much of the data's variation as possible. It's particularly useful when dealing with high-dimensional data, helping to simplify the data without losing the underlying structure. These components are orthogonal (meaning they are statistically independent of one another), and are ordered so that the first few retain most of the variation present in all of the original variables. There are a number of uses for PCA, including:\n",
    "\n",
    "- **Visualization**: By reducing data to two or three principal components, PCA allows for the visualization of complex data in a 2D or 3D space.\n",
    "\n",
    "- **Noise Reduction**: By eliminating components with low variance and retaining those with high variance, PCA can help in reducing noise in the dataset.\n",
    "\n",
    "- **Feature Extraction and Data Compression**: PCA can help in extracting the most important features from the data, which can then be used for further analysis or machine learning modeling. It also helps in compressing the data by reducing the number of dimensions without losing significant information.\n",
    "\n",
    "- **Improving Model Performance**: By reducing the dimensionality, PCA can lead to simpler models that are less prone to overfitting when training on datasets with a high number of features.\n",
    "\n",
    "<br>\n",
    "\n",
    "There are some limitations to PCA, specifically:\n",
    "\n",
    "- **Linear Assumptions**: PCA assumes that the principal components are a linear combination of the original features, which may not always capture the structure of the data well, especially if the underlying relationships are non-linear.\n",
    "\n",
    "- **Sensitivity to Scaling**: Since PCA is affected by the scale of the features, different results can be obtained if the scaling of the data changes.\n",
    "\n",
    "- **Data Interpretation**: Interpretability of the principal components can be difficult since they are combinations of all original features.\n",
    "\n",
    "<br>\n",
    "\n",
    "The spread of a dataset can be expressed in orthonormal vectors – the principal directions of the dataset. Orthonormal means that the vectors are orthogonal to each other (i.e. they have an angle of 90 degrees) and are of size 1. By sorting these vectors in order of importance (by looking at their relative contribution to the spread of the data as a whole), we can find the dimensions of the data which explain the most variance. We can then reduce the number of dimensions to the most important ones only. Finally, we can project our dataset onto these new dimensions, called the principal components, performing \n",
    "dimensionality reduction without losing much of the information present in the dataset.\n",
    "\n",
    "In what follows, PCA is demonstrated from scratch using Numpy and the results compared with scikit-learn to show they are identical up to a sign. \n",
    "\n",
    "<br>\n",
    "\n",
    "\n",
    "### Extracting the first k Principal Components\n",
    "\n",
    "We start by 0-centering the data, then compute the Singular Value Decomposition (SVD) of the data matrix $A$, where rows of $A$ are assumed to be samples and columns the features. For any $m \\times n$ data matrix $A$, the SVD factors $A = U \\Sigma V^{T}$ where:\n",
    "\n",
    "- $U$ = an $m \\times m$ orthogonal matrix whose columns are the left singular vectors of $A$.\n",
    "\n",
    "- $V$ = an $n \\times n$ orthogonal matrix whose columns are the right singular vectors of $A$.\n",
    "\n",
    "- $\\Sigma$ = is an $m \\times n$ diagonal matrix containing the singular values of $A$ in descending order along the diagonal. These values are non-negative and are the square roots of the eigenvalues of both $A^{T}A$ and $AA^{T}$.\n",
    "\n",
    "The remaining steps are shown in code below:\n"
   ]
  },
  {
   "cell_type": "code",
   "execution_count": 1,
   "metadata": {},
   "outputs": [
    {
     "name": "stdout",
     "output_type": "stream",
     "text": [
      "Xpca1.shape: (100, 5)\n"
     ]
    }
   ],
   "source": [
    "\n",
    "import numpy as np\n",
    "\n",
    "np.set_printoptions(suppress=True, precision=8, linewidth=1000)\n",
    "\n",
    "rng = np.random.default_rng(516)\n",
    "\n",
    "\n",
    "# Specify the number of principal components to retain.\n",
    "k = 5\n",
    "\n",
    "# Create random matrix with 100 samples and 50 features.\n",
    "Xinit = rng.normal(loc=100, scale=12.5, size=(100, 50))\n",
    "\n",
    "# 0-center columns in Xinit. Each column will now have mean 0. \n",
    "X = Xinit - Xinit.mean(axis=0)\n",
    "\n",
    "# Compute SVD of 0-centered data matrix X.\n",
    "# U : (100, 100) Columns represent left singular vectors.\n",
    "# VT: (50, 50) Rows represent right singular vectors.\n",
    "# S : (50,) Represents singular values of X. \n",
    "U, S, VT = np.linalg.svd(X)\n",
    "\n",
    "# Apply dimensionality reduction (retain first k principal components).\n",
    "# Xpca1 will have shape 100 x k. \n",
    "Xpca1 = X @ VT[:k].T\n",
    "\n",
    "print(f\"Xpca1.shape: {Xpca1.shape}\")\n"
   ]
  },
  {
   "cell_type": "markdown",
   "metadata": {},
   "source": [
    "This returns the top-5 principal components from the 0-centered data matrix $X$. This transformation can also be carried out in scikit-learn as follows:"
   ]
  },
  {
   "cell_type": "code",
   "execution_count": 2,
   "metadata": {},
   "outputs": [
    {
     "name": "stdout",
     "output_type": "stream",
     "text": [
      "Xpca2.shape: (100, 5)\n"
     ]
    }
   ],
   "source": [
    "\n",
    "from sklearn.decomposition import PCA\n",
    "\n",
    "# Call pca.fit on 0-centered data matrix.\n",
    "pca = PCA(n_components=k)\n",
    "pca.fit(X)\n",
    "\n",
    "Xpca2 = pca.transform(X)\n",
    "\n",
    "print(f\"Xpca2.shape: {Xpca2.shape}\")\n",
    "\n"
   ]
  },
  {
   "cell_type": "markdown",
   "metadata": {},
   "source": [
    "The first few rows of `Xpca1` and `Xpca2` can be compared. Notice that they are identical up to a sign:"
   ]
  },
  {
   "cell_type": "code",
   "execution_count": 3,
   "metadata": {},
   "outputs": [
    {
     "data": {
      "text/plain": [
       "array([[ -1.0024489 ,  -8.45086232,  13.05495528, -32.18002702,   6.1897014 ],\n",
       "       [ 38.32532794,   3.10016467, -34.9065906 ,  -4.45684708, -18.03986151],\n",
       "       [  2.50382601,  29.88906322, -18.83018377,  -9.64833693, -18.46252148],\n",
       "       [ -4.57804661,  -1.16308008,  22.67820152, -15.25819358, -12.15373192],\n",
       "       [ -4.01382494,  -8.4219436 ,  18.33661249,   7.327393  ,  20.1264191 ],\n",
       "       [ 15.97152692,   0.03394136, -17.74609475,  21.77608653, -23.06117564],\n",
       "       [-19.18606004, -44.7392649 , -47.83180773,  -1.30574016, -33.77155819],\n",
       "       [ 35.1510225 ,  -8.16265381,  21.78210602,  23.30058147,  26.5255693 ],\n",
       "       [ 47.57005479, -39.33886869,   0.91133253,  10.09394219,   9.24710166],\n",
       "       [-30.05011125,  13.09734398,  17.8311663 ,  13.25098519, -14.39827404]])"
      ]
     },
     "execution_count": 3,
     "metadata": {},
     "output_type": "execute_result"
    }
   ],
   "source": [
    "Xpca1[:10, :]"
   ]
  },
  {
   "cell_type": "code",
   "execution_count": 4,
   "metadata": {},
   "outputs": [
    {
     "data": {
      "text/plain": [
       "array([[  1.0024489 ,  -8.45086232, -13.05495528,  32.18002702,  -6.1897014 ],\n",
       "       [-38.32532794,   3.10016467,  34.9065906 ,   4.45684708,  18.03986151],\n",
       "       [ -2.50382601,  29.88906322,  18.83018377,   9.64833693,  18.46252148],\n",
       "       [  4.57804661,  -1.16308008, -22.67820152,  15.25819358,  12.15373192],\n",
       "       [  4.01382494,  -8.4219436 , -18.33661249,  -7.327393  , -20.1264191 ],\n",
       "       [-15.97152692,   0.03394136,  17.74609475, -21.77608653,  23.06117564],\n",
       "       [ 19.18606004, -44.7392649 ,  47.83180773,   1.30574016,  33.77155819],\n",
       "       [-35.1510225 ,  -8.16265381, -21.78210602, -23.30058147, -26.5255693 ],\n",
       "       [-47.57005479, -39.33886869,  -0.91133253, -10.09394219,  -9.24710166],\n",
       "       [ 30.05011125,  13.09734398, -17.8311663 , -13.25098519,  14.39827404]])"
      ]
     },
     "execution_count": 4,
     "metadata": {},
     "output_type": "execute_result"
    }
   ],
   "source": [
    "Xpca2[:10, :]"
   ]
  },
  {
   "cell_type": "markdown",
   "metadata": {},
   "source": [
    "The reason for the discrepancy is due to the fact that each singular vector is only uniquely determined up to sign, indeed in more generality it is only defined up to complex sign (i.e. up to multiplication by a complex number of modulus 1). For a deeper mathematical explanation of this, check out [this](https://math.stackexchange.com/questions/1805191/calculating-svd-by-hand-resolving-sign-ambiguities-in-the-range-vectors/1805239#1805239) link."
   ]
  },
  {
   "cell_type": "markdown",
   "metadata": {},
   "source": [
    "\n",
    "<br>\n",
    "\n",
    "### Assessing Reconstruction Error\n",
    "\n",
    "Once the principal components of a data matrix have been identified, we can get an idea of how well using k components approximates the original matrix. If we use all principal components, we should be able to recreate the data exactly. The objective is to identify some reduced number of components that captures enough variance in the original data while also eliminating redundant components. Thus, minimizing the reconstruction error is equivalent \n",
    "to maximizing the variance of the projected data. Using the `pca.inverse_transform` method, we can project our k-component matrix back into signal space (100 x 50 for our example), and compute the reconstruction error (the average difference between the original data matrix and our projected matrix):"
   ]
  },
  {
   "cell_type": "code",
   "execution_count": 5,
   "metadata": {},
   "outputs": [],
   "source": [
    "\n",
    "reconstruction_error = []\n",
    "\n",
    "for jj in range(1, X.shape[1] + 1):\n",
    "    pca = PCA(n_components=jj).fit(X)\n",
    "    Xpca = pca.transform(X) \n",
    "    Xhat = pca.inverse_transform(Xpca)\n",
    "    err = np.mean(np.sum((X - Xhat)**2, axis=1))\n",
    "    reconstruction_error.append((jj, err))\n"
   ]
  },
  {
   "cell_type": "markdown",
   "metadata": {},
   "source": [
    "<br>\n",
    "\n",
    "We can then plot the recosntruction error as a function of the number of retained components:"
   ]
  },
  {
   "cell_type": "code",
   "execution_count": 6,
   "metadata": {},
   "outputs": [
    {
     "data": {
      "image/png": "[encoded data removed]",
      "text/plain": [
       "<Figure size 800x500 with 1 Axes>"
      ]
     },
     "metadata": {},
     "output_type": "display_data"
    }
   ],
   "source": [
    "\n",
    "# Plot reconstruction error as a function of k-components.\n",
    "import matplotlib as mpl\n",
    "import matplotlib.pyplot as plt\n",
    "\n",
    "xx, yy = zip(*reconstruction_error)\n",
    "\n",
    "fig, ax = plt.subplots(figsize=(8, 5), tight_layout=True)\n",
    "ax.set_title(\"PCA reconstruction error vs. nbr. components\", fontsize=10)\n",
    "ax.plot(xx, yy, color=\"#E02C70\", linestyle=\"--\", linewidth=1.25, markersize=4, marker=\"o\")\n",
    "ax.set_xlabel(\"k\", fontsize=10)\n",
    "ax.set_ylabel(\"reconstruction error\", fontsize=10)\n",
    "ax.set_ylim(bottom=0)\n",
    "ax.set_xlim(left=0)\n",
    "ax.tick_params(axis=\"x\", which=\"major\", direction=\"in\", labelsize=8)\n",
    "ax.tick_params(axis=\"y\", which=\"major\", direction=\"in\", labelsize=8)\n",
    "ax.get_yaxis().set_major_formatter(mpl.ticker.FuncFormatter(lambda x, p: format(int(x), ',')))\n",
    "ax.xaxis.set_ticks_position(\"none\")\n",
    "ax.yaxis.set_ticks_position(\"none\")\n",
    "ax.grid(True)\n",
    "\n",
    "plt.show()"
   ]
  },
  {
   "cell_type": "markdown",
   "metadata": {},
   "source": [
    "A few things to note about the reconstruction error curve:\n",
    "\n",
    "- We started with random normal data, so there was no information in the original features to begin with. When applied to real-world data, you will typically see a sharp decrease in reconstruction error after some small set of k-components. \n",
    "\n",
    "- Notice when k = 50, the reconstruction error drops to 0. With 50 components, we are able to reproduce the original data exactly."
   ]
  },
  {
   "cell_type": "markdown",
   "metadata": {},
   "source": [
    "\n",
    "### PCA Loadings\n",
    "\n",
    "PCA loadings are the coefficients of the linear combination of the original variables from which the principal components are constructed. From the scikit-learn's `pca` output, we simply need to access the `pca.components_` attribute, the rows of which contain the eigenvectors associated with the first k principal components:"
   ]
  },
  {
   "cell_type": "code",
   "execution_count": 7,
   "metadata": {},
   "outputs": [
    {
     "data": {
      "text/html": [
       "<div>\n",
       "<style scoped>\n",
       "    .dataframe tbody tr th:only-of-type {\n",
       "        vertical-align: middle;\n",
       "    }\n",
       "\n",
       "    .dataframe tbody tr th {\n",
       "        vertical-align: top;\n",
       "    }\n",
       "\n",
       "    .dataframe thead th {\n",
       "        text-align: right;\n",
       "    }\n",
       "</style>\n",
       "<table border=\"1\" class=\"dataframe\">\n",
       "  <thead>\n",
       "    <tr style=\"text-align: right;\">\n",
       "      <th></th>\n",
       "      <th>pc1</th>\n",
       "      <th>pc2</th>\n",
       "    </tr>\n",
       "  </thead>\n",
       "  <tbody>\n",
       "    <tr>\n",
       "      <th>27</th>\n",
       "      <td>0.367146</td>\n",
       "      <td>-0.153378</td>\n",
       "    </tr>\n",
       "    <tr>\n",
       "      <th>41</th>\n",
       "      <td>0.342124</td>\n",
       "      <td>0.050818</td>\n",
       "    </tr>\n",
       "    <tr>\n",
       "      <th>39</th>\n",
       "      <td>-0.302304</td>\n",
       "      <td>0.010788</td>\n",
       "    </tr>\n",
       "    <tr>\n",
       "      <th>34</th>\n",
       "      <td>-0.296221</td>\n",
       "      <td>-0.198985</td>\n",
       "    </tr>\n",
       "    <tr>\n",
       "      <th>45</th>\n",
       "      <td>0.260603</td>\n",
       "      <td>-0.155375</td>\n",
       "    </tr>\n",
       "    <tr>\n",
       "      <th>31</th>\n",
       "      <td>0.238631</td>\n",
       "      <td>-0.023786</td>\n",
       "    </tr>\n",
       "    <tr>\n",
       "      <th>21</th>\n",
       "      <td>0.198101</td>\n",
       "      <td>-0.186968</td>\n",
       "    </tr>\n",
       "    <tr>\n",
       "      <th>29</th>\n",
       "      <td>-0.191818</td>\n",
       "      <td>0.039887</td>\n",
       "    </tr>\n",
       "    <tr>\n",
       "      <th>20</th>\n",
       "      <td>0.191115</td>\n",
       "      <td>0.011552</td>\n",
       "    </tr>\n",
       "    <tr>\n",
       "      <th>37</th>\n",
       "      <td>0.173049</td>\n",
       "      <td>-0.032115</td>\n",
       "    </tr>\n",
       "  </tbody>\n",
       "</table>\n",
       "</div>"
      ],
      "text/plain": [
       "         pc1       pc2\n",
       "27  0.367146 -0.153378\n",
       "41  0.342124  0.050818\n",
       "39 -0.302304  0.010788\n",
       "34 -0.296221 -0.198985\n",
       "45  0.260603 -0.155375\n",
       "31  0.238631 -0.023786\n",
       "21  0.198101 -0.186968\n",
       "29 -0.191818  0.039887\n",
       "20  0.191115  0.011552\n",
       "37  0.173049 -0.032115"
      ]
     },
     "execution_count": 7,
     "metadata": {},
     "output_type": "execute_result"
    }
   ],
   "source": [
    "import pandas as pd\n",
    "\n",
    "pca = PCA(n_components=2)\n",
    "pca.fit(X)\n",
    "\n",
    "dfloadings = pd.DataFrame(pca.components_.T, columns=[\"pc1\", \"pc2\"]).sort_values(\"pc1\", ascending=False, key=abs)\n",
    "dfloadings.head(10)\n"
   ]
  },
  {
   "cell_type": "markdown",
   "metadata": {},
   "source": [
    "\n",
    "The interpretation of this output is that the coefficient for column index 27 is .367146, and is the largest contributor to the score for each observation when applied to the original data.\n",
    "\n",
    "We can show how the loadings are used to compute the PCA scores for the first sample in the dataset. Let's find the first principal component of our original 0-centered data matrix $X$:\n"
   ]
  },
  {
   "cell_type": "code",
   "execution_count": 8,
   "metadata": {},
   "outputs": [
    {
     "name": "stdout",
     "output_type": "stream",
     "text": [
      "[1.0024489]\n"
     ]
    }
   ],
   "source": [
    "\n",
    "pca = PCA(n_components=1)\n",
    "Xpca = pca.fit_transform(X)\n",
    "\n",
    "print(Xpca[0])\n"
   ]
  },
  {
   "cell_type": "markdown",
   "metadata": {},
   "source": [
    "\n",
    "The value 1.0024489 is obtained by computing the dot product of the first principal component loading with the first row in $X$:"
   ]
  },
  {
   "cell_type": "code",
   "execution_count": 9,
   "metadata": {},
   "outputs": [
    {
     "data": {
      "text/plain": [
       "1.0024488966036473"
      ]
     },
     "execution_count": 9,
     "metadata": {},
     "output_type": "execute_result"
    }
   ],
   "source": [
    "\n",
    "np.dot(pca.components_.T.ravel(), X[0, :])\n"
   ]
  },
  {
   "cell_type": "markdown",
   "metadata": {},
   "source": [
    "### Loading Plot\n",
    "\n",
    "PCA loading plots are visual tools used to interpret the results of PCA by showing how much each variable contributes to the principal components. These plots help in understanding the underlying structure of the data and in identifying which variables are most important in driving the differences between observations. They provide insight into the relationship between the variables and the principal components. In the next cell, we show how to create a loading plot for the iris dataset in scikit-learn.\n",
    "\n"
   ]
  },
  {
   "cell_type": "code",
   "execution_count": 10,
   "metadata": {},
   "outputs": [
    {
     "data": {
      "image/png": "[encoded data removed]",
      "text/plain": [
       "<Figure size 800x500 with 1 Axes>"
      ]
     },
     "metadata": {},
     "output_type": "display_data"
    }
   ],
   "source": [
    "\n",
    "import matplotlib as mpl\n",
    "import matplotlib.pyplot as plt\n",
    "from sklearn.datasets import load_iris\n",
    "from sklearn.decomposition import PCA\n",
    "\n",
    "# Load iris data.\n",
    "data = load_iris()\n",
    "X = data[\"data\"]\n",
    "feature_names = data[\"feature_names\"]\n",
    "\n",
    "\n",
    "pca = PCA(n_components=2)\n",
    "pca.fit(X)\n",
    "loadings = pca.components_.T\n",
    "\n",
    "\n",
    "# Create loading plot.\n",
    "fig, ax = plt.subplots(figsize=(8, 5), tight_layout=True)\n",
    "ax.set_title(\"Iris dataset loading plot\", fontsize=10)\n",
    "for ii, feature in enumerate(feature_names):\n",
    "    ax.arrow(0, 0, loadings[ii, 0], loadings[ii, 1], head_width=0.025, head_length=0.025, color=\"#E02C70\")\n",
    "    ax.text(loadings[ii, 0] * 1.05, loadings[ii, 1] * 1.05, feature, color=\"#000000\")\n",
    "\n",
    "ax.set_xlim(-.5, 1.25) \n",
    "ax.set_xlabel(\"pc1\", fontsize=10)\n",
    "ax.set_ylabel(\"pc2\", fontsize=10)\n",
    "ax.tick_params(axis=\"x\", which=\"major\", direction=\"in\", labelsize=8)\n",
    "ax.tick_params(axis=\"y\", which=\"major\", direction=\"in\", labelsize=8)\n",
    "ax.xaxis.set_ticks_position(\"none\")\n",
    "ax.yaxis.set_ticks_position(\"none\")\n",
    "ax.grid(True)\n",
    "\n",
    "plt.show()\n"
   ]
  },
  {
   "cell_type": "markdown",
   "metadata": {},
   "source": [
    "In the direction of the first principal component, petal length has the largest effect, whereas sepal length is the dominant feature in the direction of the second principal component. "
   ]
  },
  {
   "cell_type": "markdown",
   "metadata": {},
   "source": [
    "### Using PCA in ML Pipeline\n",
    "\n",
    "How might we use PCA in a typical machine learning workflow?\n",
    "\n",
    "```python\n",
    "from sklearn.decomposition import PCA\n",
    "\n",
    "pca = PCA(n_components=5).fit(Xtrain)\n",
    "Xtrain_pca = pca.transform(Xtrain)\n",
    "Xtest_pca = pca.transform(Xtest)\n",
    "```\n",
    "\n",
    "Xtrain and Xtest would then be used as the train and test sets as in any other machine learning setup. Note that we call `fit` on the training set, then only `transform` on the test set. This prevents information from the test set leaking into the training data. `Xtrain_pca` and `Xtest_pca` will have the same number of rows as `Xtrain` and `Xtest`, but will only have 5 features, which will be less than or equal to the number of features in  `Xtrain` and `Xtest`.\n",
    "\n"
   ]
  }
 ],
 "metadata": {
  "kernelspec": {
   "display_name": "py311",
   "language": "python",
   "name": "py311"
  },
  "language_info": {
   "codemirror_mode": {
    "name": "ipython",
    "version": 3
   },
   "file_extension": ".py",
   "mimetype": "text/x-python",
   "name": "python",
   "nbconvert_exporter": "python",
   "pygments_lexer": "ipython3",
   "version": "3.11.7"
  }
 },
 "nbformat": 4,
 "nbformat_minor": 2
}
