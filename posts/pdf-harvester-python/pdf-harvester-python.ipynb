{
 "cells": [
  {
   "cell_type": "raw",
   "metadata": {},
   "source": [
    "---\n",
    "title: A PDF Harvester in 25 Lines of Python\n",
    "date: 2024-02-20\n",
    "description: A PDF harvester in 25 Lines of python\n",
    "categories: [Python]\n",
    "---"
   ]
  },
  {
   "cell_type": "markdown",
   "metadata": {},
   "source": [
    "The goal of this article is to develop a utility that handles the following:\n",
    "\n",
    "1. Retrieve HTML from a webpage.    \n",
    "2. Parse the HTML and extract all references to embedded PDF links.    \n",
    "3. For each PDF link, download the document and save it locally.    \n",
    "\n",
    "Plenty of 3rd-party libraries can query and retrieve a webpage’s links. However, the purpose of this post is to highlight the fact that by combining elements of the Python Standard Library with the Requests package, we can roll our own, and learn something while we're at it. "
   ]
  },
  {
   "cell_type": "markdown",
   "metadata": {},
   "source": [
    "### Step I: Acquire HTML\n",
    "\n",
    "This is straightforward using requests. Let's query the Singular Value Decomposition page on Wikipedia:"
   ]
  },
  {
   "cell_type": "code",
   "execution_count": 6,
   "metadata": {},
   "outputs": [
    {
     "data": {
      "text/plain": [
       "'<!DOCTYPE html>\\n<html class=\"client-nojs vector-fe'"
      ]
     },
     "execution_count": 6,
     "metadata": {},
     "output_type": "execute_result"
    }
   ],
   "source": [
    "import requests\n",
    "\n",
    "url = \"https://en.wikipedia.org/wiki/Singular_value_decomposition\"\n",
    "\n",
    "# instruct requests object to return HTML as plain text.\n",
    "html = requests.get(url).text\n",
    "\n",
    "html[:50]"
   ]
  },
  {
   "cell_type": "markdown",
   "metadata": {},
   "source": [
    "\n",
    "The HTML has been obtained. Next we'll identify and extract references to all embedded PDF links.\n",
    "\n",
    "\n",
    "### Step II: Extract PDF URLs from HTML\n",
    "\n",
    "A cursory review of the HTML from webpages with embedded PDF links revealed the following:\n",
    "\n",
    "- Valid PDF URLs will in almost always be embedded within an `href` tag.    \n",
    "- Valid PDF URLs will in all cases be preceded by `http` or `https`.      \n",
    "- Valid PDF URLs will in all cases be enclosed by a trailing `>`.   \n",
    "- Valid PDF URLs cannot contain whitespace.        \n",
    "\n",
    "After some trial and error, the following regular expression was found to have acceptable performance for our test cases:\n",
    "\n",
    "```\n",
    "\"(?=href=).*(https?://\\S+.pdf).*?>\"\n",
    "```\n",
    "\n",
    "An excellent site to practice building and testing regular expressions is \n",
    "[Pythex](https://pythex.org/) . The app allows you to construct regular \n",
    "expressions and determine how they match against the target text. I find myself \n",
    "using it on a regular basis. \n",
    "\n",
    "Here is the logic associated with steps I and II combined:\n"
   ]
  },
  {
   "cell_type": "code",
   "execution_count": 7,
   "metadata": {},
   "outputs": [
    {
     "name": "stdout",
     "output_type": "stream",
     "text": [
      "http://www.wou.edu/~beavers/Talks/Willamette1106.pdf\n",
      "http://www.alterlab.org/research/highlights/pone.0078913_Highlight.pdf\n",
      "http://math.mit.edu/~edelman/publications/distribution_of_a_scaled.pdf\n",
      "http://files.grouplens.org/papers/webKDD00.pdf\n",
      "https://stanford.edu/~rezab/papers/dimsum.pdf\n",
      "http://faculty.missouri.edu/uhlmannj/UC-SIMAX-Final.pdf\n"
     ]
    }
   ],
   "source": [
    "\n",
    "import re\n",
    "import requests\n",
    "\n",
    "url = \"https://en.wikipedia.org/wiki/Singular_value_decomposition\"\n",
    "\n",
    "# instruct requests object to return HTML as plain text.\n",
    "html = requests.get(url).text\n",
    "\n",
    "# Search html and compile PDF URLs in a list.\n",
    "pdf_links = re.findall(r\"(?=href=).*(https?://\\S+.pdf).*?>\", html)\n",
    "\n",
    "for link in pdf_links:\n",
    "    print(link)\n"
   ]
  },
  {
   "cell_type": "markdown",
   "metadata": {},
   "source": [
    "\n",
    "Note that the regular expression is prepended with an `r` when passed to `re.findall`. This instructs Python to interpret what follows as a raw string and to ignore escape sequences.\n",
    "\n",
    "`re.findall` returns a list of matches extracted from the source text. In our case, it returns a list of URLs referencing the PDF documents found on the page.\n",
    "\n",
    "For the last step we need to retrieve the documents associated with our collection of links and write them to file locally. We introduce another module from the Python Standard Library, `os.path`, which facilitates the partitioning of absolute filepaths into components in order to retain filenames when saving documents to file.\n",
    "\n",
    "For example, consider the following url:\n",
    "\n",
    "```\n",
    "https://stanford.edu/~rezab/papers/dimsum.pdf\n",
    "```\n",
    "\n",
    "\n",
    "To capture *dimsum.pdf*, we pass the absolute URL to `os.path.split`, which \n",
    "returns a tuple of everything preceding the filename as the first element, \n",
    "along with the filename and extension as the second element:\n"
   ]
  },
  {
   "cell_type": "code",
   "execution_count": 8,
   "metadata": {},
   "outputs": [
    {
     "data": {
      "text/plain": [
       "('https://stanford.edu/~rezab/papers', 'dimsum.pdf')"
      ]
     },
     "execution_count": 8,
     "metadata": {},
     "output_type": "execute_result"
    }
   ],
   "source": [
    "\n",
    "import os\n",
    "\n",
    "url = \"https://stanford.edu/~rezab/papers/dimsum.pdf\"\n",
    "os.path.split(url)\n"
   ]
  },
  {
   "cell_type": "markdown",
   "metadata": {},
   "source": [
    "This will be used to preserve the filename of the documents we save locally.\n",
    "\n",
    "\n",
    "### Step III: Write PDFs to File\n",
    "\n",
    "This step differs from the initial HTML retrieval in that we need to request \n",
    "the content as bytes, not text. By calling `requests.get(url).content`, we're \n",
    "accessing the raw bytes that comprise the PDF, then writing those bytes to file. \n",
    "Here's the logic for the third and final step:\n",
    "\n"
   ]
  },
  {
   "cell_type": "code",
   "execution_count": 10,
   "metadata": {},
   "outputs": [
    {
     "name": "stdout",
     "output_type": "stream",
     "text": [
      "Saved Willamette1106.pdf.\n",
      "Saved pone.0078913_Highlight.pdf.\n",
      "Saved distribution_of_a_scaled.pdf.\n",
      "Saved webKDD00.pdf.\n",
      "Saved dimsum.pdf.\n",
      "Unable to download UC-SIMAX-Final.pdf.\n"
     ]
    }
   ],
   "source": [
    "import os\n",
    "import re\n",
    "import requests\n",
    "\n",
    "url = \"https://en.wikipedia.org/wiki/Singular_value_decomposition\"\n",
    "html = requests.get(url).text\n",
    "pdf_links = re.findall(r\"(?=href=).*(https?://\\S+.pdf).*?>\", html)\n",
    "\n",
    "\n",
    "# Request PDF content and write to file for all entries.\n",
    "for pdf in pdf_links:\n",
    "\n",
    "    # Get filename from url for naming file locally.\n",
    "    pdf_name = os.path.split(pdf)[1].strip()\n",
    "    \n",
    "    try:\n",
    "        r = requests.get(pdf).content\n",
    "        with open(pdf_name, \"wb\") as f: \n",
    "            f.write(r)\n",
    "    except:\n",
    "        print(f\"Unable to download {pdf_name}.\")\n",
    "    else:\n",
    "        print(f\"Saved {pdf_name}.\")\n"
   ]
  },
  {
   "cell_type": "markdown",
   "metadata": {},
   "source": [
    "\n",
    "\n",
    "Notice that we surround `with open(pdfname, \"wb\")...` in a try-except block: This handles situations that would prevent our code from downloading a document, such as broken redirects or invalid links.\n",
    "\n",
    "All-in we end up with 16 lines of code excluding comments. We next present the full implementation of the PDF Harvester after a little reorganization:"
   ]
  },
  {
   "cell_type": "code",
   "execution_count": null,
   "metadata": {},
   "outputs": [],
   "source": [
    "\n",
    "import os.path\n",
    "import re\n",
    "import requests\n",
    "\n",
    "\n",
    "def pdf_harvester(url):\n",
    "    \"\"\"\n",
    "    Retrieve URLs html and extract references to PDFs. Download PDFs, \n",
    "    writing to current working directory. \n",
    "\n",
    "    Parameters\n",
    "    ----------\n",
    "    url: str\n",
    "        Web address to serach for PDF links.\n",
    "    \"\"\"\n",
    "    html = requests.get(url).text\n",
    "    pdf_links = re.findall(r\"(?=href=).*(https?://\\S+.pdf).*?>\", html)\n",
    "\n",
    "    for pdf in pdf_links:\n",
    "        \n",
    "        # Get filename from url for naming file locally.\n",
    "        pdf_name = os.path.split(pdf)[1].strip()\n",
    "\n",
    "        try:\n",
    "            r = requests.get(pdf).content\n",
    "            with open(pdf_name, \"wb\") as f: \n",
    "                f.write(r)\n",
    "        except:\n",
    "            print(f\"Unable to download {pdf_name}.\")\n",
    "        else:\n",
    "            print(f\"Saved {pdf_name}.\")\n"
   ]
  }
 ],
 "metadata": {
  "kernelspec": {
   "display_name": "py311",
   "language": "python",
   "name": "py311"
  },
  "language_info": {
   "codemirror_mode": {
    "name": "ipython",
    "version": 3
   },
   "file_extension": ".py",
   "mimetype": "text/x-python",
   "name": "python",
   "nbconvert_exporter": "python",
   "pygments_lexer": "ipython3",
   "version": "3.11.7"
  }
 },
 "nbformat": 4,
 "nbformat_minor": 2
}
