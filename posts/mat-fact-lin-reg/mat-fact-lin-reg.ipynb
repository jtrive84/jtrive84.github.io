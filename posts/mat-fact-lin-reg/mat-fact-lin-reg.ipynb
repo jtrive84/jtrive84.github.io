{
 "cells": [
  {
   "cell_type": "raw",
   "metadata": {},
   "source": [
    "---\n",
    "title: A Matrix Factorization Approach to Linear Regression       \n",
    "date: 2024-02-01 \n",
    "description: A matrix factorization approach to linear regression       \n",
    "categories: [Statistical Modeling, Python]\n",
    "---"
   ]
  },
  {
   "cell_type": "markdown",
   "metadata": {},
   "source": [
    "\n",
    "\n",
    "This post is intended to shed light on why the closed form solution to linear regression estimates is avoided in statistical software packages. But we start by first by deriving the solution to the normal equations within the standard multivariate regression setting.\n",
    "\n",
    "\n",
    "The normal linear regression model specifies that the sampling variability around the mean is i.i.d. from a normal distribution:\n",
    "\n",
    "\n",
    "$$\n",
    "\\epsilon_{1}, \\cdots, \\epsilon_{n} \\sim \\mathrm{i.i.d.}\\hspace{.25em}\\mathrm{normal}(0, \\sigma^{2})\\\\\n",
    "y_{i} = \\beta^{T}x_{i} + \\epsilon_{i}.\n",
    "$$\n",
    "\n",
    "Therefore the specification for the joint PDF of observed data conditional upon and values is given by:\n",
    "\n",
    "$$\n",
    "\\begin{align*} \n",
    "f(y_{1}, \\cdots, y_{n}|x_{1}, \\cdots, x_{n}, \\beta, \\sigma^{2}) &= \\prod_{i=1}^{n} f(y_{i}|x_{i}, \\beta, \\sigma^{2})\\\\\n",
    "&= (2\\pi \\sigma^{2})^{-n/2} \\mathrm{exp}\\big(-\\frac{1}{2\\sigma^{2}} \\sum_{i=1}^{n}(y_{i} - \\beta^{T}x_{i})^{2}\\big).\n",
    "\\end{align*}\n",
    "$$\n",
    "\n",
    "Alternatively, the joint PDF can be represented in terms of the multivariate normal distribution. Let $y$ be the n-dimensional response vector, and $X$ the $n \\times p$ design matrix whose $i^{th}$ row is $x_{i}$. We have:\n",
    "\n",
    "$$\n",
    "y|X,\\beta, \\sigma^{2} \\sim \\mathrm{MVN}(X\\beta, \\sigma^{2} \\mathrm{I})\n",
    "$$\n",
    "\n",
    "Where $I$ represents the $p \\times p$ identity matrix.\n",
    "\n",
    "The density depends on $\\beta$ through the residuals. Given the observed data, the term in the exponent\n",
    "$(y_{i} - \\beta^{T}x_{i})$ is maximized when the sum of squared residuals, \n",
    "$\\mathrm{SSR} = \\sum_{i=1}^{n} (y_{i} - \\beta^{T}x_{i})$ is minimized. To find the \n",
    "optimal $\\beta$, we expand the expression for the residual sum of squares:\n",
    "\n",
    "$$\n",
    "\\begin{align*} \n",
    "\\mathrm{SSR} &= \\sum_{i=1}^{n} (y_{i} - \\beta^{T}x_{i})\\\\\n",
    "&=(y - X\\beta)^{T}(y - X\\beta)\\\\\n",
    "&=y^{T}y - 2\\beta^{T}X^{T}y + \\beta^{T}X^{T}X\\beta.\n",
    "\\end{align*}\n",
    "$$\n",
    "\n",
    "Computing the first derivative of the last expression above w.r.t.  $\\beta$ and setting equal to 0 yields\n",
    "$-2X^{T}y + 2X{T}X\\beta = 0$, which can be rearranged to obtain the familiar expression for the ordinary least squares solution:\n",
    "\n",
    "$$\n",
    "\\beta = (X^{T}X)^{-1}X^{T}y.\n",
    "$$\n",
    "\n",
    "Why isn't this expression implemented in linear model solvers directly?   \n",
    "\n",
    "The condition number of a matrix is the ratio of maximum-to-minimum singular values (which, for a normal matrix, is the ratio of the maximum-to-minimum absolute value of eigenvalues). Essentially, the condition number tells you how much solving a linear system will magnify any noise in your data. It can be thought of as a measure of amplification. The smaller the condition number, the better (the best value being 1).\n",
    "\n"
   ]
  },
  {
   "cell_type": "code",
   "execution_count": 1,
   "metadata": {},
   "outputs": [
    {
     "name": "stdout",
     "output_type": "stream",
     "text": [
      "S0.max() / S0.min()       : 2.44498390.\n",
      "Condition number of X     : 2.44498390.\n",
      "S1.max() / S1.min()       : 5.97794628.\n",
      "Condition number of X^T*X : 5.97794628.\n"
     ]
    }
   ],
   "source": [
    "\"\"\"\n",
    "Demonstrating the equivalence of computing the condition\n",
    "number as the ratio of maximum-to-minimum singular values\n",
    "and using np.linalg.cond, as well as a comparison of the \n",
    "condition numbers for X vs. X^T*X. \n",
    "\"\"\"\n",
    "import numpy as np\n",
    "rng = np.random.default_rng(516)\n",
    "\n",
    "X = rng.normal(size=(50, 10))\n",
    "\n",
    "# SVD for X. \n",
    "U0, S0, Vt0 = np.linalg.svd(X, full_matrices=True)\n",
    "c0 = np.linalg.cond(X, p=None)\n",
    "\n",
    "# SVD for X^T*X. \n",
    "U1, S1, Vt1 = np.linalg.svd(X.T @ X, full_matrices=True)\n",
    "c1 = np.linalg.cond(X.T @ X, p=None)\n",
    "\n",
    "# S0 and S1 represent the singular values of X and X^T*X.\n",
    "print(f\"S0.max() / S0.min()       : {S0.max() / S0.min():.8f}.\")\n",
    "print(f\"Condition number of X     : {c0:.8f}.\")\n",
    "print(f\"S1.max() / S1.min()       : {S1.max() / S1.min():.8f}.\")\n",
    "print(f\"Condition number of X^T*X : {c1:.8f}.\")\n",
    "\n"
   ]
  },
  {
   "cell_type": "markdown",
   "metadata": {},
   "source": [
    "In terms of numerical precision, computing $X^{T}X$ roughly squares the condition number. As an approximation, $\\mathrm{log}_{10}(\\mathrm{condition})$ represents the number of digits lost in a given matrix computation. So by merely forming the Gram matrix, we've doubled the loss of precision in our final result, since \n",
    "\n",
    "$$\n",
    "\\mathrm{log}_{10}(\\mathrm{condition}(X^{T}X)) \\approx 2 \\times \\mathrm{log}_{10}(\\mathrm{condition}(X)).\n",
    "$$\n",
    "\n",
    "If the condition number of $X$ is small, forming the Gram matrix and solving the \n",
    "system via $\\beta = (X^{T}X)^{-1}X^{T}y$ should be fine. But as the condition \n",
    "number grows, solving the normal equations becomes increasingly unstable, ultimately \n",
    "resulting in a solution devoid of accuracy. Since statistical software packages \n",
    "need to handle an incredible variety of potential design matrices with a wide range \n",
    "of condition numbers, the normal equations approach cannot be relied upon.\n",
    "\n",
    "\n",
    "### The QR Decomposition\n",
    "\n",
    "The QR Decomposition factors a matrix $X$ into the product of an orthonormal matrix $Q$ \n",
    "and an upper triangular matrix $R$, $X = QR$. Because $Q$ is orthonormal, $Q^{T} = Q^{-1}$. \n",
    "Beginning with a version of the normal equations solution, substitute $QR$ for $X$, \n",
    "rearrange and arrive at:\n",
    "\n",
    "$$\n",
    "\\begin{align*} \n",
    "X^{T}X \\beta &= X^{T}y\\\\\n",
    "(QR)^{T}(QR) \\beta &= (QR)^{T}y\\\\\n",
    "R^{T}(Q^{T}Q)R \\beta &= R^{T} Q^{T} y\\\\\n",
    "R^{T}R \\beta &= R^{T} Q^{T} y\\\\\n",
    "(R^{T})^{-1} R^{T} R \\beta &= (R^{T})^{-1} R^{T} Q^{T} y\\\\\n",
    "R \\beta &= Q^{T} y,\n",
    "\\end{align*}\n",
    "$$\n",
    "\n",
    "where we've taken advantage of how transpose distributes over matrix products (i.e. $(AB)^{T} = B^{T}A^{T}$), and the fact that since $Q$ is orthonormal, $Q^{T}Q = I$.\n",
    "\n",
    "Because $R$ is upper triangular, $\\beta$ can be solved for using back substitution. A quick demonstration of how this can be accomplished with Scipy:"
   ]
  },
  {
   "cell_type": "code",
   "execution_count": 2,
   "metadata": {},
   "outputs": [
    {
     "name": "stdout",
     "output_type": "stream",
     "text": [
      "B0: [ 0.42402765 -1.21951527  0.22396056  0.26773935 -0.72067314]\n",
      "B1: [ 0.42402765 -1.21951527  0.22396056  0.26773935 -0.72067314]\n",
      "np.allclose(B0, B1): True\n"
     ]
    }
   ],
   "source": [
    "\n",
    "# Solving for regression coefficients using normal equations and QR decomposition. \n",
    "import numpy as np\n",
    "from scipy.linalg import solve_triangular\n",
    "rng = np.random.default_rng(516)\n",
    "\n",
    "X = rng.normal(size=(50, 5))\n",
    "y = rng.normal(scale=5, size=50)\n",
    "\n",
    "# Normal equations solution.\n",
    "B0 = np.linalg.inv(X.T @ X) @ X.T @ y\n",
    "\n",
    "# QR Decomposition solution.\n",
    "Q, R = np.linalg.qr(X, mode=\"reduced\")\n",
    "B1 = solve_triangular(R, Q.T @ y)\n",
    "\n",
    "print(f\"B0: {B0}\")\n",
    "print(f\"B1: {B1}\")\n",
    "print(f\"np.allclose(B0, B1): {np.allclose(B0, B1)}\")\n"
   ]
  },
  {
   "cell_type": "markdown",
   "metadata": {},
   "source": [
    "Using the QR Decomposition, we've eliminated the need to explicitly create the \n",
    "Gram matrix, and no longer need to invert matrices, which is computationally expensive \n",
    "and has its own set of precision degradation issues."
   ]
  },
  {
   "cell_type": "markdown",
   "metadata": {},
   "source": [
    "\n",
    "### The Singular Value Decomposition\n",
    "\n",
    "The Singular Value Decomposition is a generalization of the Eigendecomposition \n",
    "to any $nxp$ matrix. The SVD decomposes a matrix $A$ into 3 matrices ($A = U \\Sigma V^{T}$):\n",
    "\n",
    "- $U$ is a $n \\times p$ orthogonal matrix (assuming $A$ is real); columns represent *left singular vectors*. \n",
    "- $\\Sigma$ is a $p \\times p$ diagonal matrix with diagonal entries representing the *singular values* of $A$. \n",
    "- $V^{T}$ is a $p \\times p$ orthogonal matrix (assuming $A$ is real); rows represent *right singular vectors*. \n",
    "\n",
    "\n",
    "Beginning with the normal equations solution, replace $X$ with $U \\Sigma V^{T}$ and solve for $\\beta$:\n",
    "\n",
    "$$\n",
    "\\begin{align*} \n",
    "X^{T}X \\beta &= X^{T}y\\\\\n",
    "(U \\Sigma V^{T})^{T}U \\Sigma V^{T}\\beta &= (U \\Sigma V^{T})^{T}y\\\\\n",
    "V \\Sigma^{T} U^{T} U \\Sigma V^{T} \\beta &= V \\Sigma U^{T} y\\\\\n",
    "V \\Sigma^{T} \\Sigma V^{T} \\beta &=V \\Sigma U^{T} y\\\\\n",
    "V V^{T} \\beta &= V \\Sigma^{-1} U^{T} y\\\\\n",
    "\\beta &= V \\Sigma^{-1} U^{T} y\n",
    "\\end{align*} \n",
    "$$\n",
    "\n",
    "Since $\\Sigma$ is a diagonal matrix, the inverse is simply the reciprocal of the diagonal elements, which doesn't incur the runtime associated with a conventional matrix inversion. In addition, $VV^{T} = I$. Note that we assume the singular values are strictly greater than 0. If this is not the case, the condition number would be infinite, and a well-defined solution wouldn't exist.\n",
    "\n",
    "Determining the estimated coefficients using SVD can be accomplished as follows:"
   ]
  },
  {
   "cell_type": "code",
   "execution_count": 3,
   "metadata": {},
   "outputs": [
    {
     "name": "stdout",
     "output_type": "stream",
     "text": [
      "B0: [ 0.42402765 -1.21951527  0.22396056  0.26773935 -0.72067314]\n",
      "B1: [ 0.42402765 -1.21951527  0.22396056  0.26773935 -0.72067314]\n",
      "np.allclose(B0, B1): True\n"
     ]
    }
   ],
   "source": [
    "\n",
    "# Solving for regression coefficients using normal equations and SVD. \n",
    "import numpy as np\n",
    "rng = np.random.default_rng(516)\n",
    "\n",
    "X = rng.normal(size=(50, 5))\n",
    "y = rng.normal(scale=5, size=50)\n",
    "\n",
    "# Normal equations solution.\n",
    "B0 = np.linalg.inv(X.T @ X) @ X.T @ y\n",
    "\n",
    "# SVD solution.\n",
    "U, S, Vt = np.linalg.svd(X, full_matrices=False)\n",
    "B1 = Vt.T @ np.diag(1 / S) @ U.T @ y\n",
    "\n",
    "print(f\"B0: {B0}\")\n",
    "print(f\"B1: {B1}\")\n",
    "print(f\"np.allclose(B0, B1): {np.allclose(B0, B1)}\")\n"
   ]
  },
  {
   "cell_type": "markdown",
   "metadata": {},
   "source": [
    "Each of these methods (normal equations, QR Decomposition, SVD) incur different computational cost. \n",
    "From Golub & Van Loan, the flop count associated with each algorithm is presented below:\n",
    "\n",
    "\n",
    "```\n",
    "-------------------------------------------\n",
    "Normal Equations       |  mn^2 + n^3 / 3  |\n",
    "-------------------------------------------\n",
    "Householder QR         |  n^3 / 3         |\n",
    "-------------------------------------------\n",
    "Modified Gram-Schmidt  |  2mn^2           |\n",
    "-------------------------------------------\n",
    "SVD                    |  2mn^2 + 11n^3   |\n",
    "-------------------------------------------\n",
    "```\n",
    "\n",
    "Householder and Modified Gram-Schmidt are two approaches used in the first step of the QR Decomposition. SVD offers far more stability, but comes with added runtime complexity. Other matrix decomposition methods such as LU and Cholesky can be leveraged, but the QR Decomposition represents a good trade-off between runtime and numerical stability. This explains its wide use in statistical software packages. Check out [A Deep Dive into how R Fits a Linear Model](http://madrury.github.io/jekyll/update/statistics/2016/07/20/lm-in-R.html) for an in-depth explanation of how the QR Decomposition is used to fit linear models in R.\n"
   ]
  }
 ],
 "metadata": {
  "kernelspec": {
   "display_name": "py311",
   "language": "python",
   "name": "py311"
  },
  "language_info": {
   "codemirror_mode": {
    "name": "ipython",
    "version": 3
   },
   "file_extension": ".py",
   "mimetype": "text/x-python",
   "name": "python",
   "nbconvert_exporter": "python",
   "pygments_lexer": "ipython3",
   "version": "3.11.7"
  }
 },
 "nbformat": 4,
 "nbformat_minor": 2
}
