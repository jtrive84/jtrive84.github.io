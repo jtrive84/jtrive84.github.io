{
 "cells": [
  {
   "cell_type": "markdown",
   "metadata": {},
   "source": [
    "---\n",
    "title: Estimating Coefficients for Poisson GLMs from Scratch\n",
    "date: 2024-09-16\n",
    "description: Estimating coefficients for count response models from scratch\n",
    "categories: [Statistical Modeling, Python]\n",
    "highlight-style: dracula\n",
    "---\n"
   ]
  },
  {
   "cell_type": "markdown",
   "metadata": {},
   "source": [
    "Generalized Linear Models (GLMs) are a broad class of models that extend linear regression to handle a wider range of response variables. They allow the response to have a distribution other than the normal distribution, which makes them useful for various types of data. GLMs assume that the response $Y$ follows a distribution from the exponential family, which includes:\n",
    "\n",
    "- Normal distribution (for continuous data)\n",
    "- Binomial distribution (for binary or proportion data)\n",
    "- Poisson distribution (for count data)\n",
    "- Gamma distribution (for continuous positive data)\n",
    "\n",
    "The model defines a linear predictor $\\eta$, which is a linear combination of the explanatory variables:\n",
    "\n",
    "$$\n",
    "\\eta = \\beta_{0} + \\beta_{1}X_{1} + \\beta_{2}X_{2} + \\dots + + \\beta_{p}X_{p},\n",
    "$$\n",
    "\n",
    "\n",
    "where $\\beta_{i}$'s are the parameters to be estimated and $X_{i}$ the predictors. \n",
    "\n",
    "GLMs use a link function to connect the linear predictor $\\eta$ to the mean of the response variable $\\mu$. \n",
    "The link function ensures that the predictions stay within valid bounds for the target distribution. For any GLM, we have:\n",
    "\n",
    "- A random component that specifies the distribution of the data.\n",
    "- A systematic component that relates explanatory variables to the response.\n",
    "- A link function that connects the linear predictor to the mean of the response variable.\n",
    "\n",
    "\n",
    "GLM coefficients are typically estimated using Iteratively Reweighted Least Squares (IRLS). The IRLS method solves for parameters in models where the response variable does not follow a normal distribution and where the relationship between the predictors and the response variable is non-linear. In what follows, we demonstrate IRLS for count response data, and compare our results against statsmodels to ensure consistency. \n",
    "\n",
    "\n",
    "### Count Response Models\n",
    "\n",
    "\n",
    "\n",
    "\n",
    "\n",
    "\n"
   ]
  },
  {
   "cell_type": "markdown",
   "metadata": {},
   "source": []
  },
  {
   "cell_type": "markdown",
   "metadata": {},
   "source": []
  }
 ],
 "metadata": {
  "language_info": {
   "name": "python"
  }
 },
 "nbformat": 4,
 "nbformat_minor": 2
}
