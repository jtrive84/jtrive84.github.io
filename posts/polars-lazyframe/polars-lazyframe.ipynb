{
 "cells": [
  {
   "cell_type": "raw",
   "id": "691a27ac",
   "metadata": {
    "vscode": {
     "languageId": "raw"
    }
   },
   "source": [
    "title: Handling Larger-than-Memory Datasets with Polars LazyFrame\n",
    "date: 2025-06-14\n",
    "author: James Triveri\n",
    "categories: [Python]"
   ]
  },
  {
   "cell_type": "markdown",
   "id": "19321045",
   "metadata": {},
   "source": [
    "\n",
    "\n",
    "Pandas is the de-facto standard when working with tabular datasets in Python, but it encounters significant challenges when handling large datasets. The core issue stems from Pandas' architecture, which relies entirely on in-memory processing. This design requires loading the entire dataset into memory, resulting in a hard limit on the size of datasets that Pandas can process. When data volumes exceed this threshold, performance degrades dramatically, often resulting in system crashes or memory exhaustion errors.\n",
    "\n",
    "In addition, Pandas operates via single-threaded execution, processing data sequentially rather than leveraging the parallel processing capabilities of multi-core systems. This creates performance bottlenecks that become increasingly pronounced as the size of data grows.\n",
    "\n",
    "In a previous [post](https://www.jtrive.com/posts/boostrap-chainladder-polars/bootstrap-chainladder-polars.html), I demonstrated how Polars can we used as an (almost) drop-in Pandas replacement for routine data processing tasks. Here we explore the Polars LazyFrame, which has no analog in Pandas. A LazyFrame builds up a sequence of operations without immediately executing them. Instead, it constructs a deferred query plan that is only run when explicitly requested, usually by calling the `.collect()` method. Deferred execution allows Polars to optimize the entire pipeline and apply techniques like predicate and projection pushdown, and process data using out-of-core techniques when necessary. \n",
    "\n",
    "In the examples that follow, the [Flight Prices](https://www.kaggle.com/datasets/dilwong/flightprices) dataset is used. It is a 31GB CSV file containing one-way flight itineraries found on Expedia between 2022-04-16 and 2022-10-05 for airport codes ATL, DFW, DEN, ORD, LAX, CLT, MIA, JFK, EWR, SFO, DTW, BOS, PHL, LGA, IAD and OAK. The file is larger than the client's available memory, so it isn't possible to analyze the full Flight Prices dataset with Pandas, which requires the entire file to be loaded into memory upfront. Given that the 31GB footprint is about 2x the RAM of the client I'm working from, it should be a perfect setting to demonstrate LazyFrame functionality. \n",
    "\n",
    "In Polars, `.scan_csv` creates a LazyFrame by scanning the metadata and schema of a CSV file without loading the full dataset. In contrast, `.read_csv` immediately reads the entire file into memory as a DataFrame, performing eager evaluation. `.scan_csv` supports lazy, memory-efficient workflows, while `.read_csv` is eager and requires the dataset to fit in RAM.\n",
    "\n",
    "We can preview the first 5 rows of the Flight Prices dataset calling `scan_csv` followed by `.head(5).collect()` (`fetch` has been deprecated):\n"
   ]
  },
  {
   "cell_type": "code",
   "execution_count": 2,
   "id": "8d43e195",
   "metadata": {},
   "outputs": [
    {
     "data": {
      "text/html": [
       "<div><style>\n",
       ".dataframe > thead > tr,\n",
       ".dataframe > tbody > tr {\n",
       "  text-align: right;\n",
       "  white-space: pre-wrap;\n",
       "}\n",
       "</style>\n",
       "<small>shape: (5, 27)</small><table border=\"1\" class=\"dataframe\"><thead><tr><th>legId</th><th>searchDate</th><th>flightDate</th><th>startingAirport</th><th>destinationAirport</th><th>fareBasisCode</th><th>travelDuration</th><th>elapsedDays</th><th>isBasicEconomy</th><th>isRefundable</th><th>isNonStop</th><th>baseFare</th><th>totalFare</th><th>seatsRemaining</th><th>totalTravelDistance</th><th>segmentsDepartureTimeEpochSeconds</th><th>segmentsDepartureTimeRaw</th><th>segmentsArrivalTimeEpochSeconds</th><th>segmentsArrivalTimeRaw</th><th>segmentsArrivalAirportCode</th><th>segmentsDepartureAirportCode</th><th>segmentsAirlineName</th><th>segmentsAirlineCode</th><th>segmentsEquipmentDescription</th><th>segmentsDurationInSeconds</th><th>segmentsDistance</th><th>segmentsCabinCode</th></tr><tr><td>str</td><td>str</td><td>str</td><td>str</td><td>str</td><td>str</td><td>str</td><td>i64</td><td>bool</td><td>bool</td><td>bool</td><td>f64</td><td>f64</td><td>i64</td><td>i64</td><td>str</td><td>str</td><td>str</td><td>str</td><td>str</td><td>str</td><td>str</td><td>str</td><td>str</td><td>str</td><td>str</td><td>str</td></tr></thead><tbody><tr><td>&quot;9ca0e81111c683bec1012473feefd2…</td><td>&quot;2022-04-16&quot;</td><td>&quot;2022-04-17&quot;</td><td>&quot;ATL&quot;</td><td>&quot;BOS&quot;</td><td>&quot;LA0NX0MC&quot;</td><td>&quot;PT2H29M&quot;</td><td>0</td><td>false</td><td>false</td><td>true</td><td>217.6700</td><td>248.6000</td><td>9</td><td>947</td><td>&quot;1650214620&quot;</td><td>&quot;2022-04-17T12:57:00.000-04:00&quot;</td><td>&quot;1650223560&quot;</td><td>&quot;2022-04-17T15:26:00.000-04:00&quot;</td><td>&quot;BOS&quot;</td><td>&quot;ATL&quot;</td><td>&quot;Delta&quot;</td><td>&quot;DL&quot;</td><td>&quot;Airbus A321&quot;</td><td>&quot;8940&quot;</td><td>&quot;947&quot;</td><td>&quot;coach&quot;</td></tr><tr><td>&quot;98685953630e772a098941b7190659…</td><td>&quot;2022-04-16&quot;</td><td>&quot;2022-04-17&quot;</td><td>&quot;ATL&quot;</td><td>&quot;BOS&quot;</td><td>&quot;LA0NX0MC&quot;</td><td>&quot;PT2H30M&quot;</td><td>0</td><td>false</td><td>false</td><td>true</td><td>217.6700</td><td>248.6000</td><td>4</td><td>947</td><td>&quot;1650191400&quot;</td><td>&quot;2022-04-17T06:30:00.000-04:00&quot;</td><td>&quot;1650200400&quot;</td><td>&quot;2022-04-17T09:00:00.000-04:00&quot;</td><td>&quot;BOS&quot;</td><td>&quot;ATL&quot;</td><td>&quot;Delta&quot;</td><td>&quot;DL&quot;</td><td>&quot;Airbus A321&quot;</td><td>&quot;9000&quot;</td><td>&quot;947&quot;</td><td>&quot;coach&quot;</td></tr><tr><td>&quot;98d90cbc32bfbb05c2fc32897c7c10…</td><td>&quot;2022-04-16&quot;</td><td>&quot;2022-04-17&quot;</td><td>&quot;ATL&quot;</td><td>&quot;BOS&quot;</td><td>&quot;LA0NX0MC&quot;</td><td>&quot;PT2H30M&quot;</td><td>0</td><td>false</td><td>false</td><td>true</td><td>217.6700</td><td>248.6000</td><td>9</td><td>947</td><td>&quot;1650209700&quot;</td><td>&quot;2022-04-17T11:35:00.000-04:00&quot;</td><td>&quot;1650218700&quot;</td><td>&quot;2022-04-17T14:05:00.000-04:00&quot;</td><td>&quot;BOS&quot;</td><td>&quot;ATL&quot;</td><td>&quot;Delta&quot;</td><td>&quot;DL&quot;</td><td>&quot;Boeing 757-200&quot;</td><td>&quot;9000&quot;</td><td>&quot;947&quot;</td><td>&quot;coach&quot;</td></tr><tr><td>&quot;969a269d38eae583f455486fa90877…</td><td>&quot;2022-04-16&quot;</td><td>&quot;2022-04-17&quot;</td><td>&quot;ATL&quot;</td><td>&quot;BOS&quot;</td><td>&quot;LA0NX0MC&quot;</td><td>&quot;PT2H32M&quot;</td><td>0</td><td>false</td><td>false</td><td>true</td><td>217.6700</td><td>248.6000</td><td>8</td><td>947</td><td>&quot;1650218340&quot;</td><td>&quot;2022-04-17T13:59:00.000-04:00&quot;</td><td>&quot;1650227460&quot;</td><td>&quot;2022-04-17T16:31:00.000-04:00&quot;</td><td>&quot;BOS&quot;</td><td>&quot;ATL&quot;</td><td>&quot;Delta&quot;</td><td>&quot;DL&quot;</td><td>&quot;Airbus A321&quot;</td><td>&quot;9120&quot;</td><td>&quot;947&quot;</td><td>&quot;coach&quot;</td></tr><tr><td>&quot;980370cf27c89b40d2833a1d5afc97…</td><td>&quot;2022-04-16&quot;</td><td>&quot;2022-04-17&quot;</td><td>&quot;ATL&quot;</td><td>&quot;BOS&quot;</td><td>&quot;LA0NX0MC&quot;</td><td>&quot;PT2H34M&quot;</td><td>0</td><td>false</td><td>false</td><td>true</td><td>217.6700</td><td>248.6000</td><td>9</td><td>947</td><td>&quot;1650203940&quot;</td><td>&quot;2022-04-17T09:59:00.000-04:00&quot;</td><td>&quot;1650213180&quot;</td><td>&quot;2022-04-17T12:33:00.000-04:00&quot;</td><td>&quot;BOS&quot;</td><td>&quot;ATL&quot;</td><td>&quot;Delta&quot;</td><td>&quot;DL&quot;</td><td>&quot;Airbus A321&quot;</td><td>&quot;9240&quot;</td><td>&quot;947&quot;</td><td>&quot;coach&quot;</td></tr></tbody></table></div>"
      ],
      "text/plain": [
       "shape: (5, 27)\n",
       "┌───────────┬───────────┬───────────┬───────────┬───┬───────────┬───────────┬───────────┬──────────┐\n",
       "│ legId     ┆ searchDat ┆ flightDat ┆ startingA ┆ … ┆ segmentsE ┆ segmentsD ┆ segmentsD ┆ segments │\n",
       "│ ---       ┆ e         ┆ e         ┆ irport    ┆   ┆ quipmentD ┆ urationIn ┆ istance   ┆ CabinCod │\n",
       "│ str       ┆ ---       ┆ ---       ┆ ---       ┆   ┆ escriptio ┆ Seconds   ┆ ---       ┆ e        │\n",
       "│           ┆ str       ┆ str       ┆ str       ┆   ┆ n         ┆ ---       ┆ str       ┆ ---      │\n",
       "│           ┆           ┆           ┆           ┆   ┆ ---       ┆ str       ┆           ┆ str      │\n",
       "│           ┆           ┆           ┆           ┆   ┆ str       ┆           ┆           ┆          │\n",
       "╞═══════════╪═══════════╪═══════════╪═══════════╪═══╪═══════════╪═══════════╪═══════════╪══════════╡\n",
       "│ 9ca0e8111 ┆ 2022-04-1 ┆ 2022-04-1 ┆ ATL       ┆ … ┆ Airbus    ┆ 8940      ┆ 947       ┆ coach    │\n",
       "│ 1c683bec1 ┆ 6         ┆ 7         ┆           ┆   ┆ A321      ┆           ┆           ┆          │\n",
       "│ 012473fee ┆           ┆           ┆           ┆   ┆           ┆           ┆           ┆          │\n",
       "│ fd2…      ┆           ┆           ┆           ┆   ┆           ┆           ┆           ┆          │\n",
       "│ 986859536 ┆ 2022-04-1 ┆ 2022-04-1 ┆ ATL       ┆ … ┆ Airbus    ┆ 9000      ┆ 947       ┆ coach    │\n",
       "│ 30e772a09 ┆ 6         ┆ 7         ┆           ┆   ┆ A321      ┆           ┆           ┆          │\n",
       "│ 8941b7190 ┆           ┆           ┆           ┆   ┆           ┆           ┆           ┆          │\n",
       "│ 659…      ┆           ┆           ┆           ┆   ┆           ┆           ┆           ┆          │\n",
       "│ 98d90cbc3 ┆ 2022-04-1 ┆ 2022-04-1 ┆ ATL       ┆ … ┆ Boeing    ┆ 9000      ┆ 947       ┆ coach    │\n",
       "│ 2bfbb05c2 ┆ 6         ┆ 7         ┆           ┆   ┆ 757-200   ┆           ┆           ┆          │\n",
       "│ fc32897c7 ┆           ┆           ┆           ┆   ┆           ┆           ┆           ┆          │\n",
       "│ c10…      ┆           ┆           ┆           ┆   ┆           ┆           ┆           ┆          │\n",
       "│ 969a269d3 ┆ 2022-04-1 ┆ 2022-04-1 ┆ ATL       ┆ … ┆ Airbus    ┆ 9120      ┆ 947       ┆ coach    │\n",
       "│ 8eae583f4 ┆ 6         ┆ 7         ┆           ┆   ┆ A321      ┆           ┆           ┆          │\n",
       "│ 55486fa90 ┆           ┆           ┆           ┆   ┆           ┆           ┆           ┆          │\n",
       "│ 877…      ┆           ┆           ┆           ┆   ┆           ┆           ┆           ┆          │\n",
       "│ 980370cf2 ┆ 2022-04-1 ┆ 2022-04-1 ┆ ATL       ┆ … ┆ Airbus    ┆ 9240      ┆ 947       ┆ coach    │\n",
       "│ 7c89b40d2 ┆ 6         ┆ 7         ┆           ┆   ┆ A321      ┆           ┆           ┆          │\n",
       "│ 833a1d5af ┆           ┆           ┆           ┆   ┆           ┆           ┆           ┆          │\n",
       "│ c97…      ┆           ┆           ┆           ┆   ┆           ┆           ┆           ┆          │\n",
       "└───────────┴───────────┴───────────┴───────────┴───┴───────────┴───────────┴───────────┴──────────┘"
      ]
     },
     "execution_count": 2,
     "metadata": {},
     "output_type": "execute_result"
    }
   ],
   "source": [
    "\n",
    "import polars as pl \n",
    "\n",
    "pl.Config(tbl_rows=30)\n",
    "pl.Config(float_precision=4)\n",
    "pl.Config(tbl_cols=None)\n",
    "\n",
    "\n",
    "# Create LazyFrame based on itineraries.csv. Dataset is available here:\n",
    "#   https://www.kaggle.com/datasets/dilwong/flightprices\n",
    "lf = pl.scan_csv(\"itineraries.csv\")\n",
    "\n",
    "# Display the first 5 rows.\n",
    "first5 = lf.head(5).collect()\n",
    "\n",
    "first5"
   ]
  },
  {
   "cell_type": "markdown",
   "id": "60860884",
   "metadata": {
    "vscode": {
     "languageId": "raw"
    }
   },
   "source": [
    "\n",
    "<br>\n",
    "\n",
    "\n",
    "\n"
   ]
  },
  {
   "cell_type": "markdown",
   "id": "5efee52d",
   "metadata": {
    "vscode": {
     "languageId": "raw"
    }
   },
   "source": [
    "\n",
    "<br>\n",
    "\n",
    "To demonstrate how LazyFrames work, we'll execute a simple (contrived) filter/aggregate/average pipeline to compute the average ticket price by origin airport and airline, but only for non-stop flights departing in July and August. This requires filtering, grouping, and aggregation operations that benefit from lazy evaluation and query optimization:\n",
    "\n",
    "\n",
    "- Filter rows where the `flightDate` is in July or August.\n",
    "- Group by `startingAirport` airport and `segmentsAirlineName`.\n",
    "- Calculate the average `totalFare` for each group.\n",
    "- Sort the results from highest to lowest average fare. \n"
   ]
  },
  {
   "cell_type": "code",
   "execution_count": 4,
   "id": "9e8b7393",
   "metadata": {},
   "outputs": [],
   "source": [
    "\n",
    "result = (\n",
    "    lf\n",
    "    .filter(\n",
    "        pl.col(\"flightDate\").str.strptime(pl.Date, \"%Y-%m-%d\").dt.month().is_in([7, 8]) &\n",
    "        pl.col(\"isNonStop\")\n",
    "    )\n",
    "    .group_by([\"startingAirport\", \"segmentsAirlineName\"])\n",
    "    .agg(\n",
    "        pl.col(\"totalFare\").mean().alias(\"avg_price\")\n",
    "    )\n",
    "    .sort(\"avg_price\", descending=True)\n",
    ")\n"
   ]
  },
  {
   "cell_type": "markdown",
   "id": "037f4f87",
   "metadata": {},
   "source": [
    "\n",
    "Notice that we didn't include `.collect()` in the `result` pipeline. Until `.collect()` is called, no computation is performed: Polars just builds a query plan.\n",
    "\n",
    "It is possible to view the query plan by calling `.explain(optimized=True)`. This will display the optimized logical plan that Polars will execute when `.collect()` is called:"
   ]
  },
  {
   "cell_type": "code",
   "execution_count": 5,
   "id": "7e49c7c8",
   "metadata": {},
   "outputs": [
    {
     "name": "stdout",
     "output_type": "stream",
     "text": [
      "SORT BY [col(\"avg_price\")]\n",
      "  AGGREGATE\n",
      "  \t[col(\"totalFare\").mean().alias(\"avg_price\")] BY [col(\"startingAirport\"), col(\"segmentsAirlineName\")] FROM\n",
      "    simple π 5/5 [\"totalFare\", \"startingAirport\", ... 3 other columns]\n",
      "      Csv SCAN [itineraries.csv]\n",
      "      PROJECT 5/27 COLUMNS\n",
      "      SELECTION: [(col(\"isNonStop\")) & (col(\"flightDate\").str.strptime([String(raise)]).dt.month().is_in([Series]))]\n"
     ]
    }
   ],
   "source": [
    "\n",
    "print(result.explain(optimized=True))\n"
   ]
  },
  {
   "cell_type": "markdown",
   "id": "1ef7ea56",
   "metadata": {},
   "source": [
    "\n",
    "<br>\n",
    "\n",
    "See [this](https://realpython.com/polars-lazyframe/#investigating-the-optimized-query-plan) article for more information on interpreting query plans. You can optionally install Graphviz to have the query plan rendered graphically using `lf.show_graph()`. \n",
    "\n",
    "When calling `.collect()`, we include `streaming=True`. This ensures Polars processes the data in a streaming (out-of-core) fashion. The dataset will be processed in small chunks rather than loading the entire dataset into memory at once.\n"
   ]
  },
  {
   "cell_type": "code",
   "execution_count": 6,
   "id": "b8ac8c46",
   "metadata": {},
   "outputs": [
    {
     "name": "stdout",
     "output_type": "stream",
     "text": [
      "type(result): <class 'polars.dataframe.frame.DataFrame'>\n",
      "result.shape: (95, 3)\n"
     ]
    },
    {
     "data": {
      "text/html": [
       "<div><style>\n",
       ".dataframe > thead > tr,\n",
       ".dataframe > tbody > tr {\n",
       "  text-align: right;\n",
       "  white-space: pre-wrap;\n",
       "}\n",
       "</style>\n",
       "<small>shape: (10, 3)</small><table border=\"1\" class=\"dataframe\"><thead><tr><th>startingAirport</th><th>segmentsAirlineName</th><th>avg_price</th></tr><tr><td>str</td><td>str</td><td>f64</td></tr></thead><tbody><tr><td>&quot;BOS&quot;</td><td>&quot;Alaska Airlines&quot;</td><td>502.8843</td></tr><tr><td>&quot;SFO&quot;</td><td>&quot;American Airlines&quot;</td><td>437.5257</td></tr><tr><td>&quot;IAD&quot;</td><td>&quot;Alaska Airlines&quot;</td><td>433.5487</td></tr><tr><td>&quot;LAX&quot;</td><td>&quot;American Airlines&quot;</td><td>425.0462</td></tr><tr><td>&quot;ORD&quot;</td><td>&quot;Alaska Airlines&quot;</td><td>407.9898</td></tr><tr><td>&quot;SFO&quot;</td><td>&quot;JetBlue Airways&quot;</td><td>402.2174</td></tr><tr><td>&quot;ATL&quot;</td><td>&quot;Alaska Airlines&quot;</td><td>383.4524</td></tr><tr><td>&quot;LAX&quot;</td><td>&quot;Delta&quot;</td><td>374.1640</td></tr><tr><td>&quot;JFK&quot;</td><td>&quot;United&quot;</td><td>369.2713</td></tr><tr><td>&quot;LAX&quot;</td><td>&quot;JetBlue Airways&quot;</td><td>368.5215</td></tr></tbody></table></div>"
      ],
      "text/plain": [
       "shape: (10, 3)\n",
       "┌─────────────────┬─────────────────────┬───────────┐\n",
       "│ startingAirport ┆ segmentsAirlineName ┆ avg_price │\n",
       "│ ---             ┆ ---                 ┆ ---       │\n",
       "│ str             ┆ str                 ┆ f64       │\n",
       "╞═════════════════╪═════════════════════╪═══════════╡\n",
       "│ BOS             ┆ Alaska Airlines     ┆ 502.8843  │\n",
       "│ SFO             ┆ American Airlines   ┆ 437.5257  │\n",
       "│ IAD             ┆ Alaska Airlines     ┆ 433.5487  │\n",
       "│ LAX             ┆ American Airlines   ┆ 425.0462  │\n",
       "│ ORD             ┆ Alaska Airlines     ┆ 407.9898  │\n",
       "│ SFO             ┆ JetBlue Airways     ┆ 402.2174  │\n",
       "│ ATL             ┆ Alaska Airlines     ┆ 383.4524  │\n",
       "│ LAX             ┆ Delta               ┆ 374.1640  │\n",
       "│ JFK             ┆ United              ┆ 369.2713  │\n",
       "│ LAX             ┆ JetBlue Airways     ┆ 368.5215  │\n",
       "└─────────────────┴─────────────────────┴───────────┘"
      ]
     },
     "execution_count": 6,
     "metadata": {},
     "output_type": "execute_result"
    }
   ],
   "source": [
    "\n",
    "# Execute result pipeline in streaming mode.\n",
    "result = result.collect(streaming=True)\n",
    "\n",
    "print(f\"type(result): {type(result)}\")\n",
    "print(f\"result.shape: {result.shape}\")\n",
    "\n",
    "result.head(10)\n"
   ]
  },
  {
   "cell_type": "markdown",
   "id": "9becdb96",
   "metadata": {},
   "source": [
    "\n",
    "<br>\n",
    "\n",
    "Once `.collect(streaming=True)` is called, `result` materializes into a Polars DataFrame. The ultimate output is a 95x3 DataFrame with average fare price by origin airport and airline. Executing the `result` pipeline took about 45 seconds. \n",
    "\n",
    "Alaska Airlines seems to have higher average fares than other airlines. This is probably a consequence of the greater distance Alaska Airlines flights cover compared with other carriers, resulting in higher average fare costs. Instead we should calculate average total fare per mile. The `result2` pipeline in the next cell performs this calculation. We need to convert `segmentsDistance` to a numeric type since it was interpreted as a text column when initially read:\n",
    "\n"
   ]
  },
  {
   "cell_type": "code",
   "execution_count": 7,
   "id": "f4f2129f",
   "metadata": {},
   "outputs": [
    {
     "data": {
      "text/html": [
       "<div><style>\n",
       ".dataframe > thead > tr,\n",
       ".dataframe > tbody > tr {\n",
       "  text-align: right;\n",
       "  white-space: pre-wrap;\n",
       "}\n",
       "</style>\n",
       "<small>shape: (20, 3)</small><table border=\"1\" class=\"dataframe\"><thead><tr><th>startingAirport</th><th>segmentsAirlineName</th><th>avg_price_per_mile</th></tr><tr><td>str</td><td>str</td><td>f64</td></tr></thead><tbody><tr><td>&quot;PHL&quot;</td><td>&quot;United&quot;</td><td>0.7913</td></tr><tr><td>&quot;CLT&quot;</td><td>&quot;Delta&quot;</td><td>0.6019</td></tr><tr><td>&quot;IAD&quot;</td><td>&quot;Delta&quot;</td><td>0.5592</td></tr><tr><td>&quot;DTW&quot;</td><td>&quot;United&quot;</td><td>0.5220</td></tr><tr><td>&quot;DTW&quot;</td><td>&quot;American Airlines&quot;</td><td>0.5048</td></tr><tr><td>&quot;PHL&quot;</td><td>&quot;Delta&quot;</td><td>0.4816</td></tr><tr><td>&quot;BOS&quot;</td><td>&quot;Delta&quot;</td><td>0.4673</td></tr><tr><td>&quot;IAD&quot;</td><td>&quot;United&quot;</td><td>0.4650</td></tr><tr><td>&quot;EWR&quot;</td><td>&quot;United&quot;</td><td>0.4603</td></tr><tr><td>&quot;CLT&quot;</td><td>&quot;United&quot;</td><td>0.4481</td></tr><tr><td>&quot;ATL&quot;</td><td>&quot;American Airlines&quot;</td><td>0.4441</td></tr><tr><td>&quot;BOS&quot;</td><td>&quot;American Airlines&quot;</td><td>0.4434</td></tr><tr><td>&quot;DTW&quot;</td><td>&quot;Delta&quot;</td><td>0.4387</td></tr><tr><td>&quot;IAD&quot;</td><td>&quot;American Airlines&quot;</td><td>0.4381</td></tr><tr><td>&quot;CLT&quot;</td><td>&quot;American Airlines&quot;</td><td>0.4291</td></tr><tr><td>&quot;LGA&quot;</td><td>&quot;United&quot;</td><td>0.4277</td></tr><tr><td>&quot;EWR&quot;</td><td>&quot;Delta&quot;</td><td>0.4215</td></tr><tr><td>&quot;JFK&quot;</td><td>&quot;Delta&quot;</td><td>0.4106</td></tr><tr><td>&quot;JFK&quot;</td><td>&quot;American Airlines&quot;</td><td>0.4095</td></tr><tr><td>&quot;BOS&quot;</td><td>&quot;United&quot;</td><td>0.4083</td></tr></tbody></table></div>"
      ],
      "text/plain": [
       "shape: (20, 3)\n",
       "┌─────────────────┬─────────────────────┬────────────────────┐\n",
       "│ startingAirport ┆ segmentsAirlineName ┆ avg_price_per_mile │\n",
       "│ ---             ┆ ---                 ┆ ---                │\n",
       "│ str             ┆ str                 ┆ f64                │\n",
       "╞═════════════════╪═════════════════════╪════════════════════╡\n",
       "│ PHL             ┆ United              ┆ 0.7913             │\n",
       "│ CLT             ┆ Delta               ┆ 0.6019             │\n",
       "│ IAD             ┆ Delta               ┆ 0.5592             │\n",
       "│ DTW             ┆ United              ┆ 0.5220             │\n",
       "│ DTW             ┆ American Airlines   ┆ 0.5048             │\n",
       "│ PHL             ┆ Delta               ┆ 0.4816             │\n",
       "│ BOS             ┆ Delta               ┆ 0.4673             │\n",
       "│ IAD             ┆ United              ┆ 0.4650             │\n",
       "│ EWR             ┆ United              ┆ 0.4603             │\n",
       "│ CLT             ┆ United              ┆ 0.4481             │\n",
       "│ ATL             ┆ American Airlines   ┆ 0.4441             │\n",
       "│ BOS             ┆ American Airlines   ┆ 0.4434             │\n",
       "│ DTW             ┆ Delta               ┆ 0.4387             │\n",
       "│ IAD             ┆ American Airlines   ┆ 0.4381             │\n",
       "│ CLT             ┆ American Airlines   ┆ 0.4291             │\n",
       "│ LGA             ┆ United              ┆ 0.4277             │\n",
       "│ EWR             ┆ Delta               ┆ 0.4215             │\n",
       "│ JFK             ┆ Delta               ┆ 0.4106             │\n",
       "│ JFK             ┆ American Airlines   ┆ 0.4095             │\n",
       "│ BOS             ┆ United              ┆ 0.4083             │\n",
       "└─────────────────┴─────────────────────┴────────────────────┘"
      ]
     },
     "execution_count": 7,
     "metadata": {},
     "output_type": "execute_result"
    }
   ],
   "source": [
    "\n",
    "# Calculate the average total fare per mile for non-stop flights in July and August.\n",
    "result2 = (\n",
    "    lf\n",
    "    .filter(\n",
    "        pl.col(\"flightDate\").str.strptime(pl.Date, \"%Y-%m-%d\").dt.month().is_in([7, 8]) &\n",
    "        pl.col(\"isNonStop\")\n",
    "    )\n",
    "    .with_columns(\n",
    "        # Cast segmentDistance to Float64. Use strict=False to convert errors to null.\n",
    "        pl.col(\"segmentsDistance\").cast(pl.Float64, strict=False).alias(\"miles\")\n",
    "    )\n",
    "    .filter(\n",
    "        # Ensure numeric_distance is not null and positive.\n",
    "        pl.col(\"miles\").is_not_null() & (pl.col(\"miles\") > 0)\n",
    "    )\n",
    "    .group_by([\"startingAirport\", \"segmentsAirlineName\"])\n",
    "    .agg(\n",
    "        # Calculate the mean of totalFare / numeric_distance\n",
    "        (pl.col(\"totalFare\") / pl.col(\"miles\")).mean().alias(\"avg_price_per_mile\")\n",
    "    )\n",
    "    .sort(\"avg_price_per_mile\", descending=True)\n",
    ").collect(streaming=True)\n",
    "\n",
    "result2.head(20)\n"
   ]
  },
  {
   "cell_type": "markdown",
   "id": "eb5b73c1",
   "metadata": {},
   "source": [
    "\n",
    "<br>\n",
    "\n",
    "Polars LazyFrames unlock a new level of efficiency and scalability for data analysis in Python, enabling the handling of massive datasets with ease and speed without having to maintain a dedicated compute cluster. LazyFrames overcome many of the limitations of traditional in-memory tools like pandas by leveraging deferred execution, query optimization and out-of-core computation. For additional information on LazyFrames and streaming mode, check out the links below:\n",
    "\n",
    "* [Polars Lazy API Docs](https://docs.pola.rs/py-polars/html/reference/lazy/index.html)\n",
    "* [Polars Streaming Mode](https://pola-rs.github.io/polars-book/user-guide/lazy/streaming/)\n",
    "* [Why Polars is Fast](https://pola-rs.github.io/polars-book/user-guide/how-it-works/)\n"
   ]
  }
 ],
 "metadata": {
  "kernelspec": {
   "display_name": "polars",
   "language": "python",
   "name": "python3"
  },
  "language_info": {
   "codemirror_mode": {
    "name": "ipython",
    "version": 3
   },
   "file_extension": ".py",
   "mimetype": "text/x-python",
   "name": "python",
   "nbconvert_exporter": "python",
   "pygments_lexer": "ipython3",
   "version": "3.12.8"
  }
 },
 "nbformat": 4,
 "nbformat_minor": 5
}
