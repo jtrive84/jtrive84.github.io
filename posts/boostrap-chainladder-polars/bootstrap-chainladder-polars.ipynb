{
 "cells": [
  {
   "cell_type": "raw",
   "metadata": {
    "vscode": {
     "languageId": "raw"
    }
   },
   "source": [
    "---\n",
    "title: The Bootstrap Chain Ladder from Scratch using Polars\n",
    "date: 2025-01-25\n",
    "description: The bootstrap chain ladder from scratch using polars\n",
    "categories: [Python, Actuarial]\n",
    "---"
   ]
  },
  {
   "cell_type": "markdown",
   "metadata": {},
   "source": [
    "\n",
    "In an earlier [post](https://www.jtrive.com/posts/boostrap-chainladder-python/bootstrap-chainladder-python.html), I provided a step-by-step guide on performing the bootstrap chain ladder using Pandas. This method involves repeatedly resampling residuals from the original chain ladder model to generate a series of simulated datasets, each replicating the original data's claims development patterns. (For more background, refer to the previous post.)\n",
    "\n",
    "Here we again walkthrough the bootstrap chain ladder step-by-step, this time using Polars, a high-performance DataFrame library built in Rust specifically designed for efficient data processing with large datasets. Unlike Pandas which is single-threaded, Polars leverages multi-core processors resulting in dramatically faster execution for many tasks. Although not needed for our work in this setting, Polars can also handle datasets larger than available memory, spilling to disk when necessary. In Pandas, we can only process datasets having size less than or equal to available system memory. \n",
    "\n",
    "Although Polars offers clear advantages over Pandas in many scenarios, this particular case isn’t one of them. Polars eliminates the concept of an index, which is a core feature of Pandas. But indices are especially valuable in this context for calculating age-to-age factors, identifying values along the latest diagonal, and squaring triangles. Additionally, while some insurers may store tens or hundreds of millions of claim records in their data warehouses, losses are typically aggregated by origin and development period ahead of a reserving analysis, resulting in datasets greatly reduced in size vs. transactional claim data. As a consequence, reserving actuaries typically don’t work with datasets large enough to necessitate parallel processing or out-of-core computation. \n",
    "\n",
    "Translating the original Pandas bootstrap chain ladder code to Polars provided a good opportunity to showcase the library's core features. However, many operations felt much less intuitive compared to their Pandas counterparts. Even so, I see this post as a valuable reference for specific Polars operations that I’ll likely use again in the future.\n",
    "\n",
    "\n",
    "The steps to perform the bootstrap chain ladder:\n",
    "\n",
    "1. Transform loss data into cumulative triangle representation.\n",
    "\n",
    "2. Calculate all-year volume weighted age-to-age factors. \n",
    "\n",
    "3. Calculate the cumulative fitted triangle by applying backwards recursion, beginning with the observed cumulative losses from the latest diagonal.\n",
    "\n",
    "4. Calculate the unscaled Pearson residuals, $r_{p}$, degrees of freedom $DF$ and scale parameter $\\phi$.\n",
    "\n",
    "5. Calculate the adjusted Pearson residuals, defined as $r_{p}^{{adj}} = \\sqrt{\\frac{n}{DF}} \\times r_{p}$.\n",
    "\n",
    "6. For each bootstrap sample (1...1000):\n",
    "\n",
    "    i. Generate a sample from the adjusted Pearson residuals $r_{p}^{{adj}}$ with replacement.\n",
    "\n",
    "    ii. Using the sampled adjusted Pearson residuals and fitted incremental triangle $m$, construct the triangle of sampled incremental losses\n",
    "    $I_{i} = m + \\hat{r}_{p}^{adj} \\sqrt{m}$, where $\\hat{r}_{p}^{adj}$ represents a sample with replacement from the adjusted Pearson residuals and $m$ the fitted incremental triangle.\n",
    "\n",
    "    iii. Create a cumulative triangle using the result from ii., and project future losses using the chain ladder method. \n",
    "\n",
    "    iv. Incorporate process variance by simulating each future projected incremental loss from a gamma distribution parameterized with mean equal to the projected loss value and variance the loss value times $\\phi$.\n",
    "\n",
    "    v. Cumulate the incremental losses, then compute the total needed reserve as the ultimate projected value minus the latest cumulative loss amount by origin period.\n",
    "\n",
    "\n",
    "7. Compute desired quantiles of interest from predictive distribution of bootstrap samples.\n",
    "\n",
    "<br>\n",
    "\n",
    "\n",
    "In what follows each step is demonstrated, along with exhibits to visually assess the distribution of future losses.\n",
    "\n"
   ]
  },
  {
   "cell_type": "code",
   "execution_count": 1,
   "metadata": {},
   "outputs": [
    {
     "name": "stdout",
     "output_type": "stream",
     "text": [
      "Python implementation: CPython\n",
      "Python version       : 3.12.8\n",
      "IPython version      : 8.31.0\n",
      "\n",
      "conda environment: polars\n",
      "\n",
      "Compiler    : MSC v.1942 64 bit (AMD64)\n",
      "OS          : Windows\n",
      "Release     : 11\n",
      "Machine     : AMD64\n",
      "Processor   : Intel64 Family 6 Model 170 Stepping 4, GenuineIntel\n",
      "CPU cores   : 22\n",
      "Architecture: 64bit\n",
      "\n",
      "Hostname: JTRIZPC11\n",
      "\n",
      "polars    : 1.20.0\n",
      "numpy     : 2.2.2\n",
      "pandas    : 2.2.3\n",
      "matplotlib: 3.10.0\n",
      "\n"
     ]
    }
   ],
   "source": [
    "\n",
    "%load_ext watermark\n",
    "\n",
    "import warnings\n",
    "\n",
    "import matplotlib.pyplot as plt\n",
    "import numpy as np\n",
    "import pandas as pd\n",
    "import polars as pl\n",
    "\n",
    "np.set_printoptions(suppress=True, precision=5)\n",
    "\n",
    "pd.set_option(\"display.precision\", 5)\n",
    "pd.options.mode.chained_assignment = None\n",
    "pd.set_option('display.max_columns', None)\n",
    "pd.set_option('display.width', None)\n",
    "warnings.simplefilter(action=\"ignore\", category=FutureWarning)\n",
    "\n",
    "pl.Config(tbl_rows=30)\n",
    "pl.Config(float_precision=4)\n",
    "pl.Config(tbl_cols=None)\n",
    "\n",
    "\n",
    "%watermark --python --conda --hostname --machine --iversions\n"
   ]
  },
  {
   "cell_type": "markdown",
   "metadata": {},
   "source": [
    "\n",
    "\n",
    "Start by loading the data from GitHub:"
   ]
  },
  {
   "cell_type": "code",
   "execution_count": 2,
   "metadata": {},
   "outputs": [
    {
     "name": "stdout",
     "output_type": "stream",
     "text": [
      "Original incremental loss data:\n"
     ]
    },
    {
     "data": {
      "text/html": [
       "<div><style>\n",
       ".dataframe > thead > tr,\n",
       ".dataframe > tbody > tr {\n",
       "  text-align: right;\n",
       "  white-space: pre-wrap;\n",
       "}\n",
       "</style>\n",
       "<small>shape: (10, 3)</small><table border=\"1\" class=\"dataframe\"><thead><tr><th>ORIGIN</th><th>DEV</th><th>VALUE</th></tr><tr><td>i64</td><td>i64</td><td>i64</td></tr></thead><tbody><tr><td>1</td><td>1</td><td>5012</td></tr><tr><td>1</td><td>2</td><td>3257</td></tr><tr><td>1</td><td>3</td><td>2638</td></tr><tr><td>1</td><td>4</td><td>898</td></tr><tr><td>1</td><td>5</td><td>1734</td></tr><tr><td>1</td><td>6</td><td>2642</td></tr><tr><td>1</td><td>7</td><td>1828</td></tr><tr><td>1</td><td>8</td><td>599</td></tr><tr><td>1</td><td>9</td><td>54</td></tr><tr><td>1</td><td>10</td><td>172</td></tr></tbody></table></div>"
      ],
      "text/plain": [
       "shape: (10, 3)\n",
       "┌────────┬─────┬───────┐\n",
       "│ ORIGIN ┆ DEV ┆ VALUE │\n",
       "│ ---    ┆ --- ┆ ---   │\n",
       "│ i64    ┆ i64 ┆ i64   │\n",
       "╞════════╪═════╪═══════╡\n",
       "│ 1      ┆ 1   ┆ 5012  │\n",
       "│ 1      ┆ 2   ┆ 3257  │\n",
       "│ 1      ┆ 3   ┆ 2638  │\n",
       "│ 1      ┆ 4   ┆ 898   │\n",
       "│ 1      ┆ 5   ┆ 1734  │\n",
       "│ 1      ┆ 6   ┆ 2642  │\n",
       "│ 1      ┆ 7   ┆ 1828  │\n",
       "│ 1      ┆ 8   ┆ 599   │\n",
       "│ 1      ┆ 9   ┆ 54    │\n",
       "│ 1      ┆ 10  ┆ 172   │\n",
       "└────────┴─────┴───────┘"
      ]
     },
     "execution_count": 2,
     "metadata": {},
     "output_type": "execute_result"
    }
   ],
   "source": [
    "\n",
    "# Load RAA dataset. \n",
    "dfraa = pl.read_csv(\"https://gist.githubusercontent.com/jtrive84/976c80786a6e97cce7483e306562f85b/raw/06a5c8b1f823fbe2b6da15f90a672517fa5b4571/RAA.csv\")\n",
    "dfraa = dfraa.sort(by=[\"ORIGIN\", \"DEV\"])\n",
    "\n",
    "print(\"Original incremental loss data:\")\n",
    "\n",
    "# Subtract 1980 from ORIGIN.\n",
    "dfraa = dfraa.with_columns(pl.col(\"ORIGIN\").sub(1980).alias(\"ORIGIN\"))\n",
    "\n",
    "dfraa.head(10)\n"
   ]
  },
  {
   "cell_type": "markdown",
   "metadata": {},
   "source": [
    "\n",
    "<br>\n",
    "\n",
    "A number of functions are defined that will be used throughout the remainder of the article. Note that the implementations differ from the Pandas version: `to_cum` and `to_incr` accept an optional `as_tri` argument, which when set to `True` transforms the table of losses into a DataFrame formatted as a runoff triangle:\n",
    "\n",
    "\n",
    "- `to_cum`: Accepts an incremental loss DataFrame and returns a cumulative loss DataFrame, optionally structured as a runoff triangle. \n",
    "\n",
    "- `to_incr`: Accepts a cumulative loss DataFrame and returns an incremental loss DataFrame, optionally structured as a runoff triangle. \n",
    "\n",
    "- `get_a2a_factors`: Accepts a cumulative triangle and returns the all-year volume weighted age-to-age factors.\n",
    "\n",
    "- `get_latest`: Accepts a triangle and returns the value at the latest development period by origin. \n",
    "\n",
    "- `square_tri`: Accepts a cumulative triangle and set of age-to-age factors and projects future losses, populating the lower-right of the original cumulative triangle.\n",
    "\n",
    "<br>\n",
    "\n",
    "For `get_a2a_factors`, `get_latest` and `square_tri`, a few simplifying assumptions have been made:\n",
    "\n",
    "1. The triangles under consideration have an equal number of development and origin periods. \n",
    "2. Development periods are sequential starting with 1.\n",
    "3. No tail factor is included.\n"
   ]
  },
  {
   "cell_type": "code",
   "execution_count": 3,
   "metadata": {},
   "outputs": [],
   "source": [
    "\n",
    "\n",
    "def to_tri(df: pl.DataFrame) -> pl.DataFrame:\n",
    "    \"\"\"\n",
    "    Return DataFrame structured as runoff triangle.\n",
    "\n",
    "    Args:\n",
    "        df: pd.DataFrame\n",
    "            Loss data with columns ORIGIN, DEV and VALUE.\n",
    "\n",
    "    Returns:\n",
    "        pl.DataFrame\n",
    "    \"\"\"\n",
    "    return df.pivot(index=\"ORIGIN\", on=\"DEV\", values=\"VALUE\")\n",
    "    \n",
    "\n",
    "\n",
    "def to_table(tri: pl.DataFrame) -> pl.DataFrame:\n",
    "    \"\"\"\n",
    "    Accepts a DataFrame structured as a triangle and returns the tabular \n",
    "    representation having columns ORIGIN, DEV and VALUE.\n",
    "\n",
    "    Args:\n",
    "        df: pd.DataFrame\n",
    "            Loss data structures as a runoff triangle.\n",
    "\n",
    "    Returns:\n",
    "        pl.DataFrame\n",
    "    \"\"\"\n",
    "    df = tri.unpivot(tri.columns[1:], index=[\"ORIGIN\"], variable_name=\"DEV\", value_name=\"VALUE\")\n",
    "    df = df.with_columns(pl.col(\"DEV\").cast(pl.Int32).alias(\"DEV\"))\n",
    "    df = df.sort([\"ORIGIN\", \"DEV\"])\n",
    "    return df\n",
    "\n",
    "\n",
    "\n",
    "def to_cum(df: pl.DataFrame, as_tri: bool=False) -> pl.DataFrame:\n",
    "    \"\"\"\n",
    "    Accepts a DataFrame of incremental losses and returns a DataFrame\n",
    "    of cumulative losses. Optionally return DataFrame as cumulative \n",
    "    triangle.\n",
    "\n",
    "    Args:\n",
    "        df : pl.DataFrame\n",
    "            Incremental losses.\n",
    "\n",
    "        as_tri: bool\n",
    "            Should DataFrame be returned as a triangle.\n",
    "\n",
    "    Returns:\n",
    "        pl.DataFrame\n",
    "    \"\"\"\n",
    "    dfc = df.with_columns(\n",
    "        pl.col(\"VALUE\").cum_sum().over(\"ORIGIN\").alias(\"VALUE\")\n",
    "    )\n",
    "    if as_tri:\n",
    "        return to_tri(dfc)\n",
    "    else:\n",
    "        return dfc\n",
    "\n",
    "\n",
    "\n",
    "def to_incr(df: pl.DataFrame, as_tri: bool=False) -> pl.DataFrame:\n",
    "    \"\"\"\n",
    "    Accepts a DataFrame with cumulative losses and de-cumulates.\n",
    "\n",
    "    Args:\n",
    "        ctri : pl.DataFrame\n",
    "            Cumulative losses.\n",
    "\n",
    "        as_tri : bool\n",
    "            Should DataFrame be returned as a triangle.\n",
    "\n",
    "    Returns:\n",
    "        pl.DataFrame  \n",
    "    \"\"\"\n",
    "    # Get values at first development period.\n",
    "    first_devp_values = df.filter(pl.col(\"DEV\")==1).select(\"VALUE\").to_numpy().flatten()\n",
    "\n",
    "    # Compute difference of cumulative losses by each origin period.\n",
    "    df = df.with_columns(VALUE=(pl.col(\"VALUE\").diff()).over(\"ORIGIN\"))\n",
    "\n",
    "    if as_tri:\n",
    "        # Convert to triangle.\n",
    "        tri = to_tri(df)\n",
    "\n",
    "        # Set first development period to first_devp_values. \n",
    "        tri = tri.with_columns(pl.Series(\"1\", first_devp_values))\n",
    "        \n",
    "        return tri\n",
    "    \n",
    "    else:\n",
    "        return df\n",
    "\n",
    "\n",
    "\n",
    "def get_a2a_factors(tri: pl.DataFrame) -> list[tuple[str, float]]:\n",
    "    \"\"\"\n",
    "    Calculate all-year volume weighted age-to-age factors. \n",
    "\n",
    "    Args:\n",
    "        tri: pl.DataFrame\n",
    "            Cumulative triangle.\n",
    "\n",
    "    Returns:\n",
    "        List of (age-to-age header, age-to-age factor).\n",
    "    \"\"\"\n",
    "    max_origin = ctri0[\"ORIGIN\"].max()\n",
    "    all_devps = tri.columns[1:]\n",
    "    dps0, dps1 = all_devps[:-1], all_devps[1:]\n",
    "    a2a_headers = [f\"{ii}-{jj}\" for ii, jj in zip(dps0, dps1)]\n",
    "    a2a = []\n",
    "    for dp0, dp1 in zip(reversed(dps0), reversed(dps1)):\n",
    "        v1 = tri.select(str(dp0)).to_numpy().flatten()[:(max_origin - int(dp1) + 1)]\n",
    "        v2 = tri.select(str(dp1)).to_numpy().flatten()[:(max_origin - int(dp1) + 1)]\n",
    "        a2a.append((np.nansum(v2) / np.nansum(v1)).item())\n",
    "    return list(zip(a2a_headers, a2a[::-1]))\n",
    "    \n",
    "    \n",
    "\n",
    "def get_latest(tri: pl.DataFrame) -> list[tuple[str, float]]:\n",
    "    \"\"\"\n",
    "    Return the value at the latest development period by origin. \n",
    "\n",
    "    Args:\n",
    "        tri : pl.DataFrame\n",
    "            Cumulative or incremental triangle.\n",
    "\n",
    "    Returns:\n",
    "        list of (origin, latest) tuples.\n",
    "    \"\"\"\n",
    "    if \"ORIGIN\" in tri.columns:\n",
    "        tri = tri.drop(\"ORIGIN\")\n",
    "    nbr_devps = tri.width\n",
    "    latest = [tri[ii, nbr_devps - ii - 1] for ii in range(nbr_devps)]\n",
    "    return list(zip(tri.columns, latest))\n",
    "\n",
    "\n",
    "\n",
    "def square_tri(tri: pl.DataFrame, a2a: list[tuple[str, float]]) -> pl.DataFrame:\n",
    "    \"\"\"\n",
    "    Project future losses for `tri` using `a2a`.\n",
    "\n",
    "    Args:\n",
    "        tri : pl.DataFrame\n",
    "            Cumulative triangle.\n",
    "    \n",
    "        a2a: list\n",
    "            Age-to-age factors.\n",
    "\n",
    "    Returns\n",
    "    -------\n",
    "    pl.DataFrame\n",
    "        Original triangle with projected future losses. \n",
    "    \"\"\"\n",
    "    if \"ORIGIN\" in tri.columns:\n",
    "        sqrd = tri.drop(\"ORIGIN\")\n",
    "    else:\n",
    "        sqrd = tri\n",
    "    _, a2a_values = zip(*a2a)\n",
    "    nbr_devps = sqrd.width\n",
    "    for r_idx in range(nbr_devps):\n",
    "        for c_idx in range(nbr_devps - r_idx, nbr_devps):\n",
    "            sqrd[r_idx, str(c_idx + 1)] =  sqrd[r_idx, str(c_idx)] * a2a_values[c_idx - 1]\n",
    "    sqrd = sqrd.with_row_index(\"ORIGIN\", offset=1)\n",
    "    return sqrd\n",
    "\n"
   ]
  },
  {
   "cell_type": "markdown",
   "metadata": {},
   "source": [
    "\n",
    "\n",
    "<br>\n",
    "\n",
    "We start by creating an incremental runoff triangle, by passing `dfraa` DataFrame into `to_tri`:"
   ]
  },
  {
   "cell_type": "code",
   "execution_count": 4,
   "metadata": {},
   "outputs": [
    {
     "name": "stdout",
     "output_type": "stream",
     "text": [
      "Original incremental loss triangle:\n"
     ]
    },
    {
     "data": {
      "text/html": [
       "<div><style>\n",
       ".dataframe > thead > tr,\n",
       ".dataframe > tbody > tr {\n",
       "  text-align: right;\n",
       "  white-space: pre-wrap;\n",
       "}\n",
       "</style>\n",
       "<small>shape: (10, 11)</small><table border=\"1\" class=\"dataframe\"><thead><tr><th>ORIGIN</th><th>1</th><th>2</th><th>3</th><th>4</th><th>5</th><th>6</th><th>7</th><th>8</th><th>9</th><th>10</th></tr><tr><td>i64</td><td>i64</td><td>i64</td><td>i64</td><td>i64</td><td>i64</td><td>i64</td><td>i64</td><td>i64</td><td>i64</td><td>i64</td></tr></thead><tbody><tr><td>1</td><td>5012</td><td>3257</td><td>2638</td><td>898</td><td>1734</td><td>2642</td><td>1828</td><td>599</td><td>54</td><td>172</td></tr><tr><td>2</td><td>106</td><td>4179</td><td>1111</td><td>5270</td><td>3116</td><td>1817</td><td>-103</td><td>673</td><td>535</td><td>null</td></tr><tr><td>3</td><td>3410</td><td>5582</td><td>4881</td><td>2268</td><td>2594</td><td>3479</td><td>649</td><td>603</td><td>null</td><td>null</td></tr><tr><td>4</td><td>5655</td><td>5900</td><td>4211</td><td>5500</td><td>2159</td><td>2658</td><td>984</td><td>null</td><td>null</td><td>null</td></tr><tr><td>5</td><td>1092</td><td>8473</td><td>6271</td><td>6333</td><td>3786</td><td>225</td><td>null</td><td>null</td><td>null</td><td>null</td></tr><tr><td>6</td><td>1513</td><td>4932</td><td>5257</td><td>1233</td><td>2917</td><td>null</td><td>null</td><td>null</td><td>null</td><td>null</td></tr><tr><td>7</td><td>557</td><td>3463</td><td>6926</td><td>1368</td><td>null</td><td>null</td><td>null</td><td>null</td><td>null</td><td>null</td></tr><tr><td>8</td><td>1351</td><td>5596</td><td>6165</td><td>null</td><td>null</td><td>null</td><td>null</td><td>null</td><td>null</td><td>null</td></tr><tr><td>9</td><td>3133</td><td>2262</td><td>null</td><td>null</td><td>null</td><td>null</td><td>null</td><td>null</td><td>null</td><td>null</td></tr><tr><td>10</td><td>2063</td><td>null</td><td>null</td><td>null</td><td>null</td><td>null</td><td>null</td><td>null</td><td>null</td><td>null</td></tr></tbody></table></div>"
      ],
      "text/plain": [
       "shape: (10, 11)\n",
       "┌────────┬──────┬──────┬──────┬───┬──────┬──────┬──────┬──────┐\n",
       "│ ORIGIN ┆ 1    ┆ 2    ┆ 3    ┆ … ┆ 7    ┆ 8    ┆ 9    ┆ 10   │\n",
       "│ ---    ┆ ---  ┆ ---  ┆ ---  ┆   ┆ ---  ┆ ---  ┆ ---  ┆ ---  │\n",
       "│ i64    ┆ i64  ┆ i64  ┆ i64  ┆   ┆ i64  ┆ i64  ┆ i64  ┆ i64  │\n",
       "╞════════╪══════╪══════╪══════╪═══╪══════╪══════╪══════╪══════╡\n",
       "│ 1      ┆ 5012 ┆ 3257 ┆ 2638 ┆ … ┆ 1828 ┆ 599  ┆ 54   ┆ 172  │\n",
       "│ 2      ┆ 106  ┆ 4179 ┆ 1111 ┆ … ┆ -103 ┆ 673  ┆ 535  ┆ null │\n",
       "│ 3      ┆ 3410 ┆ 5582 ┆ 4881 ┆ … ┆ 649  ┆ 603  ┆ null ┆ null │\n",
       "│ 4      ┆ 5655 ┆ 5900 ┆ 4211 ┆ … ┆ 984  ┆ null ┆ null ┆ null │\n",
       "│ 5      ┆ 1092 ┆ 8473 ┆ 6271 ┆ … ┆ null ┆ null ┆ null ┆ null │\n",
       "│ 6      ┆ 1513 ┆ 4932 ┆ 5257 ┆ … ┆ null ┆ null ┆ null ┆ null │\n",
       "│ 7      ┆ 557  ┆ 3463 ┆ 6926 ┆ … ┆ null ┆ null ┆ null ┆ null │\n",
       "│ 8      ┆ 1351 ┆ 5596 ┆ 6165 ┆ … ┆ null ┆ null ┆ null ┆ null │\n",
       "│ 9      ┆ 3133 ┆ 2262 ┆ null ┆ … ┆ null ┆ null ┆ null ┆ null │\n",
       "│ 10     ┆ 2063 ┆ null ┆ null ┆ … ┆ null ┆ null ┆ null ┆ null │\n",
       "└────────┴──────┴──────┴──────┴───┴──────┴──────┴──────┴──────┘"
      ]
     },
     "execution_count": 4,
     "metadata": {},
     "output_type": "execute_result"
    }
   ],
   "source": [
    "\n",
    "tri0 = to_tri(dfraa)\n",
    "\n",
    "print(\"Original incremental loss triangle:\")\n",
    "\n",
    "tri0"
   ]
  },
  {
   "cell_type": "markdown",
   "metadata": {},
   "source": [
    "\n",
    "<br>\n",
    "\n",
    "Next we create a cumulative loss triangle using `to_cum` with `as_tri = True`:"
   ]
  },
  {
   "cell_type": "code",
   "execution_count": 5,
   "metadata": {},
   "outputs": [
    {
     "name": "stdout",
     "output_type": "stream",
     "text": [
      "Original cumulative loss triangle:\n"
     ]
    },
    {
     "data": {
      "text/html": [
       "<div><style>\n",
       ".dataframe > thead > tr,\n",
       ".dataframe > tbody > tr {\n",
       "  text-align: right;\n",
       "  white-space: pre-wrap;\n",
       "}\n",
       "</style>\n",
       "<small>shape: (10, 11)</small><table border=\"1\" class=\"dataframe\"><thead><tr><th>ORIGIN</th><th>1</th><th>2</th><th>3</th><th>4</th><th>5</th><th>6</th><th>7</th><th>8</th><th>9</th><th>10</th></tr><tr><td>i64</td><td>i64</td><td>i64</td><td>i64</td><td>i64</td><td>i64</td><td>i64</td><td>i64</td><td>i64</td><td>i64</td><td>i64</td></tr></thead><tbody><tr><td>1</td><td>5012</td><td>8269</td><td>10907</td><td>11805</td><td>13539</td><td>16181</td><td>18009</td><td>18608</td><td>18662</td><td>18834</td></tr><tr><td>2</td><td>106</td><td>4285</td><td>5396</td><td>10666</td><td>13782</td><td>15599</td><td>15496</td><td>16169</td><td>16704</td><td>null</td></tr><tr><td>3</td><td>3410</td><td>8992</td><td>13873</td><td>16141</td><td>18735</td><td>22214</td><td>22863</td><td>23466</td><td>null</td><td>null</td></tr><tr><td>4</td><td>5655</td><td>11555</td><td>15766</td><td>21266</td><td>23425</td><td>26083</td><td>27067</td><td>null</td><td>null</td><td>null</td></tr><tr><td>5</td><td>1092</td><td>9565</td><td>15836</td><td>22169</td><td>25955</td><td>26180</td><td>null</td><td>null</td><td>null</td><td>null</td></tr><tr><td>6</td><td>1513</td><td>6445</td><td>11702</td><td>12935</td><td>15852</td><td>null</td><td>null</td><td>null</td><td>null</td><td>null</td></tr><tr><td>7</td><td>557</td><td>4020</td><td>10946</td><td>12314</td><td>null</td><td>null</td><td>null</td><td>null</td><td>null</td><td>null</td></tr><tr><td>8</td><td>1351</td><td>6947</td><td>13112</td><td>null</td><td>null</td><td>null</td><td>null</td><td>null</td><td>null</td><td>null</td></tr><tr><td>9</td><td>3133</td><td>5395</td><td>null</td><td>null</td><td>null</td><td>null</td><td>null</td><td>null</td><td>null</td><td>null</td></tr><tr><td>10</td><td>2063</td><td>null</td><td>null</td><td>null</td><td>null</td><td>null</td><td>null</td><td>null</td><td>null</td><td>null</td></tr></tbody></table></div>"
      ],
      "text/plain": [
       "shape: (10, 11)\n",
       "┌────────┬──────┬───────┬───────┬───┬───────┬───────┬───────┬───────┐\n",
       "│ ORIGIN ┆ 1    ┆ 2     ┆ 3     ┆ … ┆ 7     ┆ 8     ┆ 9     ┆ 10    │\n",
       "│ ---    ┆ ---  ┆ ---   ┆ ---   ┆   ┆ ---   ┆ ---   ┆ ---   ┆ ---   │\n",
       "│ i64    ┆ i64  ┆ i64   ┆ i64   ┆   ┆ i64   ┆ i64   ┆ i64   ┆ i64   │\n",
       "╞════════╪══════╪═══════╪═══════╪═══╪═══════╪═══════╪═══════╪═══════╡\n",
       "│ 1      ┆ 5012 ┆ 8269  ┆ 10907 ┆ … ┆ 18009 ┆ 18608 ┆ 18662 ┆ 18834 │\n",
       "│ 2      ┆ 106  ┆ 4285  ┆ 5396  ┆ … ┆ 15496 ┆ 16169 ┆ 16704 ┆ null  │\n",
       "│ 3      ┆ 3410 ┆ 8992  ┆ 13873 ┆ … ┆ 22863 ┆ 23466 ┆ null  ┆ null  │\n",
       "│ 4      ┆ 5655 ┆ 11555 ┆ 15766 ┆ … ┆ 27067 ┆ null  ┆ null  ┆ null  │\n",
       "│ 5      ┆ 1092 ┆ 9565  ┆ 15836 ┆ … ┆ null  ┆ null  ┆ null  ┆ null  │\n",
       "│ 6      ┆ 1513 ┆ 6445  ┆ 11702 ┆ … ┆ null  ┆ null  ┆ null  ┆ null  │\n",
       "│ 7      ┆ 557  ┆ 4020  ┆ 10946 ┆ … ┆ null  ┆ null  ┆ null  ┆ null  │\n",
       "│ 8      ┆ 1351 ┆ 6947  ┆ 13112 ┆ … ┆ null  ┆ null  ┆ null  ┆ null  │\n",
       "│ 9      ┆ 3133 ┆ 5395  ┆ null  ┆ … ┆ null  ┆ null  ┆ null  ┆ null  │\n",
       "│ 10     ┆ 2063 ┆ null  ┆ null  ┆ … ┆ null  ┆ null  ┆ null  ┆ null  │\n",
       "└────────┴──────┴───────┴───────┴───┴───────┴───────┴───────┴───────┘"
      ]
     },
     "execution_count": 5,
     "metadata": {},
     "output_type": "execute_result"
    }
   ],
   "source": [
    "\n",
    "ctri0 = to_cum(dfraa, as_tri=True)\n",
    "\n",
    "print(\"Original cumulative loss triangle:\")\n",
    "\n",
    "ctri0\n"
   ]
  },
  {
   "cell_type": "markdown",
   "metadata": {},
   "source": [
    "\n",
    "<br>\n",
    "\n",
    "Calculate the all-year volume weighted age-to-age factors\n",
    "\n",
    "$$\n",
    "\\begin{aligned}\n",
    "  f_{k} &= \\frac{\\sum_{i=1}^{n-k}\n",
    "C_{i,k+1}}{\\sum_{i=1}^{n-k}C_{i,k}}\n",
    "\\end{aligned},\n",
    "$$\n",
    "\n",
    "for development period $i$."
   ]
  },
  {
   "cell_type": "code",
   "execution_count": 6,
   "metadata": {},
   "outputs": [
    {
     "name": "stdout",
     "output_type": "stream",
     "text": [
      "All-year volume weighted age-to-age factors:\n"
     ]
    },
    {
     "data": {
      "text/plain": [
       "[('1-2', 2.9993586513353794),\n",
       " ('2-3', 1.6235227537534538),\n",
       " ('3-4', 1.2708881150356526),\n",
       " ('4-5', 1.1716746330883747),\n",
       " ('5-6', 1.113384886206463),\n",
       " ('6-7', 1.0419346379110106),\n",
       " ('7-8', 1.033263553789384),\n",
       " ('8-9', 1.0169364810075625),\n",
       " ('9-10', 1.0092165898617511)]"
      ]
     },
     "execution_count": 6,
     "metadata": {},
     "output_type": "execute_result"
    }
   ],
   "source": [
    "\n",
    "a2a = get_a2a_factors(ctri0)\n",
    "\n",
    "print(\"All-year volume weighted age-to-age factors:\")\n",
    "\n",
    "a2a\n"
   ]
  },
  {
   "cell_type": "markdown",
   "metadata": {},
   "source": [
    "<br>\n",
    "\n",
    "Although not required here, age-to-ultimate factors can be obtained as follows:"
   ]
  },
  {
   "cell_type": "code",
   "execution_count": 7,
   "metadata": {},
   "outputs": [
    {
     "name": "stdout",
     "output_type": "stream",
     "text": [
      "Age-to-ultimate factors:\n"
     ]
    },
    {
     "data": {
      "text/plain": [
       "[('1-2', 8.920233896752476),\n",
       " ('2-3', 2.9740470992960426),\n",
       " ('3-4', 1.8318481169544962),\n",
       " ('4-5', 1.441392121998959),\n",
       " ('5-6', 1.2301982831186211),\n",
       " ('6-7', 1.104917354599779),\n",
       " ('7-8', 1.0604478576650866),\n",
       " ('8-9', 1.0263091674684617),\n",
       " ('9-10', 1.0092165898617511)]"
      ]
     },
     "execution_count": 7,
     "metadata": {},
     "output_type": "execute_result"
    }
   ],
   "source": [
    "\n",
    "h, v = zip(*a2a)\n",
    "\n",
    "a2u = np.cumprod(v[::-1])[::-1]\n",
    "\n",
    "print(\"Age-to-ultimate factors:\")\n",
    "\n",
    "list(zip(h, a2u.tolist()))\n"
   ]
  },
  {
   "cell_type": "markdown",
   "metadata": {},
   "source": [
    "\n",
    "<br>\n",
    "\n",
    "Calculate the cumulative fitted triangle by applying backwards recursion, beginning with the observed cumulative losses from the latest diagonal.\n",
    "\n",
    "\n"
   ]
  },
  {
   "cell_type": "code",
   "execution_count": 8,
   "metadata": {},
   "outputs": [
    {
     "name": "stdout",
     "output_type": "stream",
     "text": [
      "Fitted cumulative triangle:\n"
     ]
    },
    {
     "data": {
      "text/html": [
       "<div><style>\n",
       ".dataframe > thead > tr,\n",
       ".dataframe > tbody > tr {\n",
       "  text-align: right;\n",
       "  white-space: pre-wrap;\n",
       "}\n",
       "</style>\n",
       "<small>shape: (10, 11)</small><table border=\"1\" class=\"dataframe\"><thead><tr><th>ORIGIN</th><th>1</th><th>2</th><th>3</th><th>4</th><th>5</th><th>6</th><th>7</th><th>8</th><th>9</th><th>10</th></tr><tr><td>u32</td><td>f64</td><td>f64</td><td>f64</td><td>f64</td><td>f64</td><td>f64</td><td>f64</td><td>f64</td><td>f64</td><td>f64</td></tr></thead><tbody><tr><td>1</td><td>2111.3796</td><td>6332.7847</td><td>10281.4201</td><td>13066.5346</td><td>15309.7271</td><td>17045.6188</td><td>17760.4206</td><td>18351.1953</td><td>18662.0000</td><td>18834.0000</td></tr><tr><td>2</td><td>1889.8556</td><td>5668.3547</td><td>9202.7029</td><td>11695.6057</td><td>13703.4445</td><td>15257.2080</td><td>15897.0135</td><td>16425.8047</td><td>16704.0000</td><td>NaN</td></tr><tr><td>3</td><td>2699.8587</td><td>8097.8445</td><td>13147.0348</td><td>16708.4103</td><td>19576.8205</td><td>21796.5360</td><td>22710.5659</td><td>23466.0000</td><td>NaN</td><td>NaN</td></tr><tr><td>4</td><td>3217.7567</td><td>9651.2063</td><td>15668.9531</td><td>19913.4862</td><td>23332.1267</td><td>25977.6372</td><td>27067.0000</td><td>NaN</td><td>NaN</td><td>NaN</td></tr><tr><td>5</td><td>3242.8226</td><td>9726.3881</td><td>15791.0124</td><td>20068.6100</td><td>23513.8813</td><td>26180.0000</td><td>NaN</td><td>NaN</td><td>NaN</td><td>NaN</td></tr><tr><td>6</td><td>2186.1650</td><td>6557.0929</td><td>10645.5896</td><td>13529.3532</td><td>15852.0000</td><td>NaN</td><td>NaN</td><td>NaN</td><td>NaN</td><td>NaN</td></tr><tr><td>7</td><td>1989.7800</td><td>5968.0637</td><td>9689.2872</td><td>12314.0000</td><td>NaN</td><td>NaN</td><td>NaN</td><td>NaN</td><td>NaN</td><td>NaN</td></tr><tr><td>8</td><td>2692.6640</td><td>8076.2650</td><td>13112.0000</td><td>NaN</td><td>NaN</td><td>NaN</td><td>NaN</td><td>NaN</td><td>NaN</td><td>NaN</td></tr><tr><td>9</td><td>1798.7179</td><td>5395.0000</td><td>NaN</td><td>NaN</td><td>NaN</td><td>NaN</td><td>NaN</td><td>NaN</td><td>NaN</td><td>NaN</td></tr><tr><td>10</td><td>2063.0000</td><td>NaN</td><td>NaN</td><td>NaN</td><td>NaN</td><td>NaN</td><td>NaN</td><td>NaN</td><td>NaN</td><td>NaN</td></tr></tbody></table></div>"
      ],
      "text/plain": [
       "shape: (10, 11)\n",
       "┌────────┬───────────┬───────────┬────────────┬───┬────────────┬───────────┬───────────┬───────────┐\n",
       "│ ORIGIN ┆ 1         ┆ 2         ┆ 3          ┆ … ┆ 7          ┆ 8         ┆ 9         ┆ 10        │\n",
       "│ ---    ┆ ---       ┆ ---       ┆ ---        ┆   ┆ ---        ┆ ---       ┆ ---       ┆ ---       │\n",
       "│ u32    ┆ f64       ┆ f64       ┆ f64        ┆   ┆ f64        ┆ f64       ┆ f64       ┆ f64       │\n",
       "╞════════╪═══════════╪═══════════╪════════════╪═══╪════════════╪═══════════╪═══════════╪═══════════╡\n",
       "│ 1      ┆ 2111.3796 ┆ 6332.7847 ┆ 10281.4201 ┆ … ┆ 17760.4206 ┆ 18351.195 ┆ 18662.000 ┆ 18834.000 │\n",
       "│        ┆           ┆           ┆            ┆   ┆            ┆ 3         ┆ 0         ┆ 0         │\n",
       "│ 2      ┆ 1889.8556 ┆ 5668.3547 ┆ 9202.7029  ┆ … ┆ 15897.0135 ┆ 16425.804 ┆ 16704.000 ┆ NaN       │\n",
       "│        ┆           ┆           ┆            ┆   ┆            ┆ 7         ┆ 0         ┆           │\n",
       "│ 3      ┆ 2699.8587 ┆ 8097.8445 ┆ 13147.0348 ┆ … ┆ 22710.5659 ┆ 23466.000 ┆ NaN       ┆ NaN       │\n",
       "│        ┆           ┆           ┆            ┆   ┆            ┆ 0         ┆           ┆           │\n",
       "│ 4      ┆ 3217.7567 ┆ 9651.2063 ┆ 15668.9531 ┆ … ┆ 27067.0000 ┆ NaN       ┆ NaN       ┆ NaN       │\n",
       "│ 5      ┆ 3242.8226 ┆ 9726.3881 ┆ 15791.0124 ┆ … ┆ NaN        ┆ NaN       ┆ NaN       ┆ NaN       │\n",
       "│ 6      ┆ 2186.1650 ┆ 6557.0929 ┆ 10645.5896 ┆ … ┆ NaN        ┆ NaN       ┆ NaN       ┆ NaN       │\n",
       "│ 7      ┆ 1989.7800 ┆ 5968.0637 ┆ 9689.2872  ┆ … ┆ NaN        ┆ NaN       ┆ NaN       ┆ NaN       │\n",
       "│ 8      ┆ 2692.6640 ┆ 8076.2650 ┆ 13112.0000 ┆ … ┆ NaN        ┆ NaN       ┆ NaN       ┆ NaN       │\n",
       "│ 9      ┆ 1798.7179 ┆ 5395.0000 ┆ NaN        ┆ … ┆ NaN        ┆ NaN       ┆ NaN       ┆ NaN       │\n",
       "│ 10     ┆ 2063.0000 ┆ NaN       ┆ NaN        ┆ … ┆ NaN        ┆ NaN       ┆ NaN       ┆ NaN       │\n",
       "└────────┴───────────┴───────────┴────────────┴───┴────────────┴───────────┴───────────┴───────────┘"
      ]
     },
     "execution_count": 8,
     "metadata": {},
     "output_type": "execute_result"
    }
   ],
   "source": [
    "\n",
    "nbr_devps = ctri0.width - 1\n",
    "a2a_headers, a2a_values = zip(*a2a)\n",
    "\n",
    "\n",
    "# Create empty triangle with same shape as ctri0. \n",
    "ctri = pl.DataFrame(\n",
    "    {f\"{i}\": [np.nan] * nbr_devps for i in range(1, 11)}\n",
    ").with_row_index(\"ORIGIN\", offset=1)\n",
    "\n",
    "\n",
    "for r_idx in range(ctri[\"ORIGIN\"].shape[0]):\n",
    "    \n",
    "    # Determine latest development period.\n",
    "    latest_devp = nbr_devps - r_idx\n",
    "\n",
    "    # Set latest diagonal of tri to same value as in tri0.\n",
    "    ctri[r_idx, str(latest_devp)] = ctri0[r_idx, str(latest_devp)] \n",
    "\n",
    "    # Use backward recursion to un-develop triangle using a2a_values. \n",
    "    for devp in range(latest_devp - 1, 0, -1):\n",
    "\n",
    "        ctri[r_idx, str(devp)] = (ctri[r_idx, str(devp + 1)] / a2a_values[devp - 1])\n",
    "\n",
    "\n",
    "print(\"Fitted cumulative triangle:\")\n",
    "\n",
    "ctri\n"
   ]
  },
  {
   "cell_type": "markdown",
   "metadata": {},
   "source": [
    "\n",
    "<br>\n",
    "\n",
    "Calculate the unscaled Pearson residuals, $r_{p}$, degrees of freedom $DF$ and scale parameter $\\phi$.\n",
    "\n",
    "The unscaled Pearson residuals are defined as\n",
    "\n",
    "$$\n",
    "r_{p} = \\frac{I - m}{\\sqrt{m}},\n",
    "$$\n",
    "\n",
    "where $I$ represents actual incremental losses and $m$ fitted incremental losses. \n",
    "\n",
    "\n",
    "Polars doesn't have an equivalent to Pandas `df.diff(axis=1)`, so the implementation of `to_incr` is a little more involved than what we saw last post. First, the actual triangle on incremental losses:\n",
    "\n"
   ]
  },
  {
   "cell_type": "code",
   "execution_count": 9,
   "metadata": {},
   "outputs": [
    {
     "name": "stdout",
     "output_type": "stream",
     "text": [
      "Actual incremental triangle tri:\n"
     ]
    },
    {
     "data": {
      "text/html": [
       "<div><style>\n",
       ".dataframe > thead > tr,\n",
       ".dataframe > tbody > tr {\n",
       "  text-align: right;\n",
       "  white-space: pre-wrap;\n",
       "}\n",
       "</style>\n",
       "<small>shape: (10, 11)</small><table border=\"1\" class=\"dataframe\"><thead><tr><th>ORIGIN</th><th>1</th><th>2</th><th>3</th><th>4</th><th>5</th><th>6</th><th>7</th><th>8</th><th>9</th><th>10</th></tr><tr><td>i64</td><td>i64</td><td>i64</td><td>i64</td><td>i64</td><td>i64</td><td>i64</td><td>i64</td><td>i64</td><td>i64</td><td>i64</td></tr></thead><tbody><tr><td>1</td><td>5012</td><td>3257</td><td>2638</td><td>898</td><td>1734</td><td>2642</td><td>1828</td><td>599</td><td>54</td><td>172</td></tr><tr><td>2</td><td>106</td><td>4179</td><td>1111</td><td>5270</td><td>3116</td><td>1817</td><td>-103</td><td>673</td><td>535</td><td>null</td></tr><tr><td>3</td><td>3410</td><td>5582</td><td>4881</td><td>2268</td><td>2594</td><td>3479</td><td>649</td><td>603</td><td>null</td><td>null</td></tr><tr><td>4</td><td>5655</td><td>5900</td><td>4211</td><td>5500</td><td>2159</td><td>2658</td><td>984</td><td>null</td><td>null</td><td>null</td></tr><tr><td>5</td><td>1092</td><td>8473</td><td>6271</td><td>6333</td><td>3786</td><td>225</td><td>null</td><td>null</td><td>null</td><td>null</td></tr><tr><td>6</td><td>1513</td><td>4932</td><td>5257</td><td>1233</td><td>2917</td><td>null</td><td>null</td><td>null</td><td>null</td><td>null</td></tr><tr><td>7</td><td>557</td><td>3463</td><td>6926</td><td>1368</td><td>null</td><td>null</td><td>null</td><td>null</td><td>null</td><td>null</td></tr><tr><td>8</td><td>1351</td><td>5596</td><td>6165</td><td>null</td><td>null</td><td>null</td><td>null</td><td>null</td><td>null</td><td>null</td></tr><tr><td>9</td><td>3133</td><td>2262</td><td>null</td><td>null</td><td>null</td><td>null</td><td>null</td><td>null</td><td>null</td><td>null</td></tr><tr><td>10</td><td>2063</td><td>null</td><td>null</td><td>null</td><td>null</td><td>null</td><td>null</td><td>null</td><td>null</td><td>null</td></tr></tbody></table></div>"
      ],
      "text/plain": [
       "shape: (10, 11)\n",
       "┌────────┬──────┬──────┬──────┬───┬──────┬──────┬──────┬──────┐\n",
       "│ ORIGIN ┆ 1    ┆ 2    ┆ 3    ┆ … ┆ 7    ┆ 8    ┆ 9    ┆ 10   │\n",
       "│ ---    ┆ ---  ┆ ---  ┆ ---  ┆   ┆ ---  ┆ ---  ┆ ---  ┆ ---  │\n",
       "│ i64    ┆ i64  ┆ i64  ┆ i64  ┆   ┆ i64  ┆ i64  ┆ i64  ┆ i64  │\n",
       "╞════════╪══════╪══════╪══════╪═══╪══════╪══════╪══════╪══════╡\n",
       "│ 1      ┆ 5012 ┆ 3257 ┆ 2638 ┆ … ┆ 1828 ┆ 599  ┆ 54   ┆ 172  │\n",
       "│ 2      ┆ 106  ┆ 4179 ┆ 1111 ┆ … ┆ -103 ┆ 673  ┆ 535  ┆ null │\n",
       "│ 3      ┆ 3410 ┆ 5582 ┆ 4881 ┆ … ┆ 649  ┆ 603  ┆ null ┆ null │\n",
       "│ 4      ┆ 5655 ┆ 5900 ┆ 4211 ┆ … ┆ 984  ┆ null ┆ null ┆ null │\n",
       "│ 5      ┆ 1092 ┆ 8473 ┆ 6271 ┆ … ┆ null ┆ null ┆ null ┆ null │\n",
       "│ 6      ┆ 1513 ┆ 4932 ┆ 5257 ┆ … ┆ null ┆ null ┆ null ┆ null │\n",
       "│ 7      ┆ 557  ┆ 3463 ┆ 6926 ┆ … ┆ null ┆ null ┆ null ┆ null │\n",
       "│ 8      ┆ 1351 ┆ 5596 ┆ 6165 ┆ … ┆ null ┆ null ┆ null ┆ null │\n",
       "│ 9      ┆ 3133 ┆ 2262 ┆ null ┆ … ┆ null ┆ null ┆ null ┆ null │\n",
       "│ 10     ┆ 2063 ┆ null ┆ null ┆ … ┆ null ┆ null ┆ null ┆ null │\n",
       "└────────┴──────┴──────┴──────┴───┴──────┴──────┴──────┴──────┘"
      ]
     },
     "execution_count": 9,
     "metadata": {},
     "output_type": "execute_result"
    }
   ],
   "source": [
    "\n",
    "print(\"Actual incremental triangle tri:\")\n",
    "\n",
    "tri0\n"
   ]
  },
  {
   "cell_type": "markdown",
   "metadata": {},
   "source": [
    "\n",
    "<br>\n",
    "\n",
    "And the fitted incremental triangle:\n"
   ]
  },
  {
   "cell_type": "code",
   "execution_count": 10,
   "metadata": {},
   "outputs": [
    {
     "name": "stdout",
     "output_type": "stream",
     "text": [
      "Fitted incremental triangle tri:\n"
     ]
    },
    {
     "data": {
      "text/html": [
       "<div><style>\n",
       ".dataframe > thead > tr,\n",
       ".dataframe > tbody > tr {\n",
       "  text-align: right;\n",
       "  white-space: pre-wrap;\n",
       "}\n",
       "</style>\n",
       "<small>shape: (10, 11)</small><table border=\"1\" class=\"dataframe\"><thead><tr><th>ORIGIN</th><th>1</th><th>2</th><th>3</th><th>4</th><th>5</th><th>6</th><th>7</th><th>8</th><th>9</th><th>10</th></tr><tr><td>u32</td><td>f64</td><td>f64</td><td>f64</td><td>f64</td><td>f64</td><td>f64</td><td>f64</td><td>f64</td><td>f64</td><td>f64</td></tr></thead><tbody><tr><td>1</td><td>2111.3796</td><td>4221.4051</td><td>3948.6354</td><td>2785.1145</td><td>2243.1925</td><td>1735.8917</td><td>714.8019</td><td>590.7747</td><td>310.8047</td><td>172.0000</td></tr><tr><td>2</td><td>1889.8556</td><td>3778.4991</td><td>3534.3481</td><td>2492.9028</td><td>2007.8388</td><td>1553.7635</td><td>639.8055</td><td>528.7912</td><td>278.1953</td><td>NaN</td></tr><tr><td>3</td><td>2699.8587</td><td>5397.9858</td><td>5049.1903</td><td>3561.3755</td><td>2868.4102</td><td>2219.7156</td><td>914.0298</td><td>755.4341</td><td>NaN</td><td>NaN</td></tr><tr><td>4</td><td>3217.7567</td><td>6433.4496</td><td>6017.7467</td><td>4244.5332</td><td>3418.6404</td><td>2645.5105</td><td>1089.3628</td><td>NaN</td><td>NaN</td><td>NaN</td></tr><tr><td>5</td><td>3242.8226</td><td>6483.5655</td><td>6064.6243</td><td>4277.5976</td><td>3445.2713</td><td>2666.1187</td><td>NaN</td><td>NaN</td><td>NaN</td><td>NaN</td></tr><tr><td>6</td><td>2186.1650</td><td>4370.9279</td><td>4088.4966</td><td>2883.7637</td><td>2322.6468</td><td>NaN</td><td>NaN</td><td>NaN</td><td>NaN</td><td>NaN</td></tr><tr><td>7</td><td>1989.7800</td><td>3978.2838</td><td>3721.2235</td><td>2624.7128</td><td>NaN</td><td>NaN</td><td>NaN</td><td>NaN</td><td>NaN</td><td>NaN</td></tr><tr><td>8</td><td>2692.6640</td><td>5383.6010</td><td>5035.7350</td><td>NaN</td><td>NaN</td><td>NaN</td><td>NaN</td><td>NaN</td><td>NaN</td><td>NaN</td></tr><tr><td>9</td><td>1798.7179</td><td>3596.2821</td><td>NaN</td><td>NaN</td><td>NaN</td><td>NaN</td><td>NaN</td><td>NaN</td><td>NaN</td><td>NaN</td></tr><tr><td>10</td><td>2063.0000</td><td>NaN</td><td>NaN</td><td>NaN</td><td>NaN</td><td>NaN</td><td>NaN</td><td>NaN</td><td>NaN</td><td>NaN</td></tr></tbody></table></div>"
      ],
      "text/plain": [
       "shape: (10, 11)\n",
       "┌────────┬───────────┬───────────┬───────────┬───┬───────────┬──────────┬──────────┬──────────┐\n",
       "│ ORIGIN ┆ 1         ┆ 2         ┆ 3         ┆ … ┆ 7         ┆ 8        ┆ 9        ┆ 10       │\n",
       "│ ---    ┆ ---       ┆ ---       ┆ ---       ┆   ┆ ---       ┆ ---      ┆ ---      ┆ ---      │\n",
       "│ u32    ┆ f64       ┆ f64       ┆ f64       ┆   ┆ f64       ┆ f64      ┆ f64      ┆ f64      │\n",
       "╞════════╪═══════════╪═══════════╪═══════════╪═══╪═══════════╪══════════╪══════════╪══════════╡\n",
       "│ 1      ┆ 2111.3796 ┆ 4221.4051 ┆ 3948.6354 ┆ … ┆ 714.8019  ┆ 590.7747 ┆ 310.8047 ┆ 172.0000 │\n",
       "│ 2      ┆ 1889.8556 ┆ 3778.4991 ┆ 3534.3481 ┆ … ┆ 639.8055  ┆ 528.7912 ┆ 278.1953 ┆ NaN      │\n",
       "│ 3      ┆ 2699.8587 ┆ 5397.9858 ┆ 5049.1903 ┆ … ┆ 914.0298  ┆ 755.4341 ┆ NaN      ┆ NaN      │\n",
       "│ 4      ┆ 3217.7567 ┆ 6433.4496 ┆ 6017.7467 ┆ … ┆ 1089.3628 ┆ NaN      ┆ NaN      ┆ NaN      │\n",
       "│ 5      ┆ 3242.8226 ┆ 6483.5655 ┆ 6064.6243 ┆ … ┆ NaN       ┆ NaN      ┆ NaN      ┆ NaN      │\n",
       "│ 6      ┆ 2186.1650 ┆ 4370.9279 ┆ 4088.4966 ┆ … ┆ NaN       ┆ NaN      ┆ NaN      ┆ NaN      │\n",
       "│ 7      ┆ 1989.7800 ┆ 3978.2838 ┆ 3721.2235 ┆ … ┆ NaN       ┆ NaN      ┆ NaN      ┆ NaN      │\n",
       "│ 8      ┆ 2692.6640 ┆ 5383.6010 ┆ 5035.7350 ┆ … ┆ NaN       ┆ NaN      ┆ NaN      ┆ NaN      │\n",
       "│ 9      ┆ 1798.7179 ┆ 3596.2821 ┆ NaN       ┆ … ┆ NaN       ┆ NaN      ┆ NaN      ┆ NaN      │\n",
       "│ 10     ┆ 2063.0000 ┆ NaN       ┆ NaN       ┆ … ┆ NaN       ┆ NaN      ┆ NaN      ┆ NaN      │\n",
       "└────────┴───────────┴───────────┴───────────┴───┴───────────┴──────────┴──────────┴──────────┘"
      ]
     },
     "execution_count": 10,
     "metadata": {},
     "output_type": "execute_result"
    }
   ],
   "source": [
    "\n",
    "# Fitted incremental triangle.\n",
    "tri = to_incr(to_table(ctri), as_tri=True)\n",
    "\n",
    "print(\"Fitted incremental triangle tri:\")\n",
    "\n",
    "tri\n"
   ]
  },
  {
   "cell_type": "markdown",
   "metadata": {},
   "source": [
    "\n",
    "<br>\n",
    "\n",
    "The unscaled Pearson residuals are then calculated element-wise:\n"
   ]
  },
  {
   "cell_type": "code",
   "execution_count": 11,
   "metadata": {},
   "outputs": [
    {
     "name": "stdout",
     "output_type": "stream",
     "text": [
      "Unscaled Pearson residuals:\n"
     ]
    },
    {
     "data": {
      "text/html": [
       "<div><style>\n",
       ".dataframe > thead > tr,\n",
       ".dataframe > tbody > tr {\n",
       "  text-align: right;\n",
       "  white-space: pre-wrap;\n",
       "}\n",
       "</style>\n",
       "<small>shape: (10, 10)</small><table border=\"1\" class=\"dataframe\"><thead><tr><th>1</th><th>2</th><th>3</th><th>4</th><th>5</th><th>6</th><th>7</th><th>8</th><th>9</th><th>10</th></tr><tr><td>f64</td><td>f64</td><td>f64</td><td>f64</td><td>f64</td><td>f64</td><td>f64</td><td>f64</td><td>f64</td><td>f64</td></tr></thead><tbody><tr><td>63.1259</td><td>-14.8433</td><td>-20.8573</td><td>-35.7583</td><td>-10.7510</td><td>21.7480</td><td>41.6370</td><td>0.3384</td><td>-14.5666</td><td>0.0000</td></tr><tr><td>-41.0341</td><td>6.5154</td><td>-40.7625</td><td>55.6209</td><td>24.7308</td><td>6.6781</td><td>-29.3664</td><td>6.2712</td><td>15.3967</td><td>null</td></tr><tr><td>13.6670</td><td>2.5046</td><td>-2.3670</td><td>-21.6728</td><td>-5.1237</td><td>26.7285</td><td>-8.7663</td><td>-5.5461</td><td>null</td><td>null</td></tr><tr><td>42.9657</td><td>-6.6508</td><td>-23.2906</td><td>19.2704</td><td>-21.5437</td><td>0.2428</td><td>-3.1923</td><td>null</td><td>null</td><td>null</td></tr><tr><td>-37.7697</td><td>24.7072</td><td>2.6501</td><td>31.4266</td><td>5.8049</td><td>-47.2769</td><td>null</td><td>null</td><td>null</td><td>null</td></tr><tr><td>-14.3973</td><td>8.4866</td><td>18.2746</td><td>-30.7401</td><td>12.3326</td><td>null</td><td>null</td><td>null</td><td>null</td><td>null</td></tr><tr><td>-32.1201</td><td>-8.1696</td><td>52.5357</td><td>-24.5299</td><td>null</td><td>null</td><td>null</td><td>null</td><td>null</td><td>null</td></tr><tr><td>-25.8555</td><td>2.8948</td><td>15.9135</td><td>null</td><td>null</td><td>null</td><td>null</td><td>null</td><td>null</td><td>null</td></tr><tr><td>31.4605</td><td>-22.2495</td><td>null</td><td>null</td><td>null</td><td>null</td><td>null</td><td>null</td><td>null</td><td>null</td></tr><tr><td>0.0000</td><td>null</td><td>null</td><td>null</td><td>null</td><td>null</td><td>null</td><td>null</td><td>null</td><td>null</td></tr></tbody></table></div>"
      ],
      "text/plain": [
       "shape: (10, 10)\n",
       "┌──────────┬──────────┬──────────┬──────────┬───┬──────────┬─────────┬──────────┬────────┐\n",
       "│ 1        ┆ 2        ┆ 3        ┆ 4        ┆ … ┆ 7        ┆ 8       ┆ 9        ┆ 10     │\n",
       "│ ---      ┆ ---      ┆ ---      ┆ ---      ┆   ┆ ---      ┆ ---     ┆ ---      ┆ ---    │\n",
       "│ f64      ┆ f64      ┆ f64      ┆ f64      ┆   ┆ f64      ┆ f64     ┆ f64      ┆ f64    │\n",
       "╞══════════╪══════════╪══════════╪══════════╪═══╪══════════╪═════════╪══════════╪════════╡\n",
       "│ 63.1259  ┆ -14.8433 ┆ -20.8573 ┆ -35.7583 ┆ … ┆ 41.6370  ┆ 0.3384  ┆ -14.5666 ┆ 0.0000 │\n",
       "│ -41.0341 ┆ 6.5154   ┆ -40.7625 ┆ 55.6209  ┆ … ┆ -29.3664 ┆ 6.2712  ┆ 15.3967  ┆ null   │\n",
       "│ 13.6670  ┆ 2.5046   ┆ -2.3670  ┆ -21.6728 ┆ … ┆ -8.7663  ┆ -5.5461 ┆ null     ┆ null   │\n",
       "│ 42.9657  ┆ -6.6508  ┆ -23.2906 ┆ 19.2704  ┆ … ┆ -3.1923  ┆ null    ┆ null     ┆ null   │\n",
       "│ -37.7697 ┆ 24.7072  ┆ 2.6501   ┆ 31.4266  ┆ … ┆ null     ┆ null    ┆ null     ┆ null   │\n",
       "│ -14.3973 ┆ 8.4866   ┆ 18.2746  ┆ -30.7401 ┆ … ┆ null     ┆ null    ┆ null     ┆ null   │\n",
       "│ -32.1201 ┆ -8.1696  ┆ 52.5357  ┆ -24.5299 ┆ … ┆ null     ┆ null    ┆ null     ┆ null   │\n",
       "│ -25.8555 ┆ 2.8948   ┆ 15.9135  ┆ null     ┆ … ┆ null     ┆ null    ┆ null     ┆ null   │\n",
       "│ 31.4605  ┆ -22.2495 ┆ null     ┆ null     ┆ … ┆ null     ┆ null    ┆ null     ┆ null   │\n",
       "│ 0.0000   ┆ null     ┆ null     ┆ null     ┆ … ┆ null     ┆ null    ┆ null     ┆ null   │\n",
       "└──────────┴──────────┴──────────┴──────────┴───┴──────────┴─────────┴──────────┴────────┘"
      ]
     },
     "execution_count": 11,
     "metadata": {},
     "output_type": "execute_result"
    }
   ],
   "source": [
    "\n",
    "numer = tri0.select(tri0.columns[1:]) - tri.select(tri.columns[1:]) \n",
    "denom = tri.select(pl.col(tri0.columns[1:]).abs().sqrt())\n",
    "r_us = numer / denom\n",
    "\n",
    "print(\"Unscaled Pearson residuals:\")\n",
    "\n",
    "r_us\n"
   ]
  },
  {
   "cell_type": "markdown",
   "metadata": {},
   "source": [
    "\n",
    "<br>\n",
    "\n",
    "$DF = n - p$, where $n$ is the number of populated cells in the original triangle and $p$ the number of parameters in the chain ladder model (10 for origin period and 9 for development period):"
   ]
  },
  {
   "cell_type": "code",
   "execution_count": 12,
   "metadata": {},
   "outputs": [
    {
     "name": "stdout",
     "output_type": "stream",
     "text": [
      "Degrees of freedom: 36.\n"
     ]
    }
   ],
   "source": [
    "\n",
    "n = tri0.count().sum().to_numpy().flatten()[1:].sum().item()\n",
    "p = tri0.height + tri0.width - 2\n",
    "DF = n - p\n",
    "\n",
    "print(f\"Degrees of freedom: {DF}.\")\n"
   ]
  },
  {
   "cell_type": "markdown",
   "metadata": {},
   "source": [
    "\n",
    "<br>\n",
    "\n",
    "The scale parameter $\\phi$ is the sum of the squared unscaled Pearson residuals over the degrees of freedom:"
   ]
  },
  {
   "cell_type": "code",
   "execution_count": 13,
   "metadata": {},
   "outputs": [
    {
     "name": "stdout",
     "output_type": "stream",
     "text": [
      "Scale parameter: 983.635.\n"
     ]
    }
   ],
   "source": [
    "\n",
    "phi = r_us.with_columns(pl.all().pow(2)).sum().to_numpy().flatten().sum().item() / DF\n",
    "\n",
    "print(f\"Scale parameter: {phi:.3f}.\")\n"
   ]
  },
  {
   "cell_type": "markdown",
   "metadata": {},
   "source": [
    "\n",
    "<br>\n",
    "\n",
    "Calculate the adjusted Pearson residuals, $r_{p}^{{adj}}$, defined as:\n",
    "\n",
    "$$\n",
    "r_{p}^{{adj}} = \\sqrt{\\frac{n}{DF}} \\times r_{p}\n",
    "$$\n"
   ]
  },
  {
   "cell_type": "code",
   "execution_count": 14,
   "metadata": {},
   "outputs": [
    {
     "name": "stdout",
     "output_type": "stream",
     "text": [
      "Adjusted Pearson residuals:\n"
     ]
    },
    {
     "data": {
      "text/html": [
       "<div><style>\n",
       ".dataframe > thead > tr,\n",
       ".dataframe > tbody > tr {\n",
       "  text-align: right;\n",
       "  white-space: pre-wrap;\n",
       "}\n",
       "</style>\n",
       "<small>shape: (10, 10)</small><table border=\"1\" class=\"dataframe\"><thead><tr><th>1</th><th>2</th><th>3</th><th>4</th><th>5</th><th>6</th><th>7</th><th>8</th><th>9</th><th>10</th></tr><tr><td>f64</td><td>f64</td><td>f64</td><td>f64</td><td>f64</td><td>f64</td><td>f64</td><td>f64</td><td>f64</td><td>f64</td></tr></thead><tbody><tr><td>78.0257</td><td>-18.3468</td><td>-25.7803</td><td>-44.1984</td><td>-13.2886</td><td>26.8812</td><td>51.4647</td><td>0.4183</td><td>-18.0048</td><td>0.0000</td></tr><tr><td>-50.7196</td><td>8.0533</td><td>-50.3838</td><td>68.7493</td><td>30.5681</td><td>8.2544</td><td>-36.2979</td><td>7.7514</td><td>19.0308</td><td>null</td></tr><tr><td>16.8929</td><td>3.0957</td><td>-2.9256</td><td>-26.7883</td><td>-6.3330</td><td>33.0374</td><td>-10.8354</td><td>-6.8551</td><td>null</td><td>null</td></tr><tr><td>53.1071</td><td>-8.2206</td><td>-28.7879</td><td>23.8188</td><td>-26.6287</td><td>0.3001</td><td>-3.9458</td><td>null</td><td>null</td><td>null</td></tr><tr><td>-46.6845</td><td>30.5389</td><td>3.2756</td><td>38.8443</td><td>7.1751</td><td>-58.4358</td><td>null</td><td>null</td><td>null</td><td>null</td></tr><tr><td>-17.7955</td><td>10.4897</td><td>22.5880</td><td>-37.9958</td><td>15.2434</td><td>null</td><td>null</td><td>null</td><td>null</td><td>null</td></tr><tr><td>-39.7015</td><td>-10.0978</td><td>64.9359</td><td>-30.3197</td><td>null</td><td>null</td><td>null</td><td>null</td><td>null</td><td>null</td></tr><tr><td>-31.9582</td><td>3.5780</td><td>19.6696</td><td>null</td><td>null</td><td>null</td><td>null</td><td>null</td><td>null</td><td>null</td></tr><tr><td>38.8863</td><td>-27.5012</td><td>null</td><td>null</td><td>null</td><td>null</td><td>null</td><td>null</td><td>null</td><td>null</td></tr><tr><td>0.0000</td><td>null</td><td>null</td><td>null</td><td>null</td><td>null</td><td>null</td><td>null</td><td>null</td><td>null</td></tr></tbody></table></div>"
      ],
      "text/plain": [
       "shape: (10, 10)\n",
       "┌──────────┬──────────┬──────────┬──────────┬───┬──────────┬─────────┬──────────┬────────┐\n",
       "│ 1        ┆ 2        ┆ 3        ┆ 4        ┆ … ┆ 7        ┆ 8       ┆ 9        ┆ 10     │\n",
       "│ ---      ┆ ---      ┆ ---      ┆ ---      ┆   ┆ ---      ┆ ---     ┆ ---      ┆ ---    │\n",
       "│ f64      ┆ f64      ┆ f64      ┆ f64      ┆   ┆ f64      ┆ f64     ┆ f64      ┆ f64    │\n",
       "╞══════════╪══════════╪══════════╪══════════╪═══╪══════════╪═════════╪══════════╪════════╡\n",
       "│ 78.0257  ┆ -18.3468 ┆ -25.7803 ┆ -44.1984 ┆ … ┆ 51.4647  ┆ 0.4183  ┆ -18.0048 ┆ 0.0000 │\n",
       "│ -50.7196 ┆ 8.0533   ┆ -50.3838 ┆ 68.7493  ┆ … ┆ -36.2979 ┆ 7.7514  ┆ 19.0308  ┆ null   │\n",
       "│ 16.8929  ┆ 3.0957   ┆ -2.9256  ┆ -26.7883 ┆ … ┆ -10.8354 ┆ -6.8551 ┆ null     ┆ null   │\n",
       "│ 53.1071  ┆ -8.2206  ┆ -28.7879 ┆ 23.8188  ┆ … ┆ -3.9458  ┆ null    ┆ null     ┆ null   │\n",
       "│ -46.6845 ┆ 30.5389  ┆ 3.2756   ┆ 38.8443  ┆ … ┆ null     ┆ null    ┆ null     ┆ null   │\n",
       "│ -17.7955 ┆ 10.4897  ┆ 22.5880  ┆ -37.9958 ┆ … ┆ null     ┆ null    ┆ null     ┆ null   │\n",
       "│ -39.7015 ┆ -10.0978 ┆ 64.9359  ┆ -30.3197 ┆ … ┆ null     ┆ null    ┆ null     ┆ null   │\n",
       "│ -31.9582 ┆ 3.5780   ┆ 19.6696  ┆ null     ┆ … ┆ null     ┆ null    ┆ null     ┆ null   │\n",
       "│ 38.8863  ┆ -27.5012 ┆ null     ┆ null     ┆ … ┆ null     ┆ null    ┆ null     ┆ null   │\n",
       "│ 0.0000   ┆ null     ┆ null     ┆ null     ┆ … ┆ null     ┆ null    ┆ null     ┆ null   │\n",
       "└──────────┴──────────┴──────────┴──────────┴───┴──────────┴─────────┴──────────┴────────┘"
      ]
     },
     "execution_count": 14,
     "metadata": {},
     "output_type": "execute_result"
    }
   ],
   "source": [
    "\n",
    "r_adj = np.sqrt(n / DF).item() * r_us  \n",
    "\n",
    "print(\"Adjusted Pearson residuals:\")\n",
    "\n",
    "r_adj\n"
   ]
  },
  {
   "cell_type": "markdown",
   "metadata": {},
   "source": [
    "\n",
    "\n",
    "<br>\n",
    "\n",
    "(From this point each subsequent step is repeated up to the desired number of bootstrap samples.)\n",
    "\n",
    "Generate a sample from the adjusted Pearson residuals with replacement:\n"
   ]
  },
  {
   "cell_type": "code",
   "execution_count": 15,
   "metadata": {},
   "outputs": [
    {
     "name": "stdout",
     "output_type": "stream",
     "text": [
      "Sample with replacement from adjusted Pearson residuals:\n"
     ]
    },
    {
     "data": {
      "text/html": [
       "<div><style>\n",
       ".dataframe > thead > tr,\n",
       ".dataframe > tbody > tr {\n",
       "  text-align: right;\n",
       "  white-space: pre-wrap;\n",
       "}\n",
       "</style>\n",
       "<small>shape: (10, 10)</small><table border=\"1\" class=\"dataframe\"><thead><tr><th>1</th><th>2</th><th>3</th><th>4</th><th>5</th><th>6</th><th>7</th><th>8</th><th>9</th><th>10</th></tr><tr><td>f64</td><td>f64</td><td>f64</td><td>f64</td><td>f64</td><td>f64</td><td>f64</td><td>f64</td><td>f64</td><td>f64</td></tr></thead><tbody><tr><td>-50.3838</td><td>-13.2886</td><td>7.1751</td><td>30.5389</td><td>26.8812</td><td>-18.3468</td><td>-58.4358</td><td>33.0374</td><td>10.4897</td><td>7.1751</td></tr><tr><td>-10.0978</td><td>8.2544</td><td>-26.7883</td><td>0.4183</td><td>78.0257</td><td>-58.4358</td><td>38.8443</td><td>-30.3197</td><td>19.6696</td><td>NaN</td></tr><tr><td>-27.5012</td><td>38.8443</td><td>-58.4358</td><td>-6.3330</td><td>7.1751</td><td>-27.5012</td><td>0.4183</td><td>-50.7196</td><td>NaN</td><td>NaN</td></tr><tr><td>-44.1984</td><td>8.0533</td><td>-37.9958</td><td>-27.5012</td><td>38.8443</td><td>-25.7803</td><td>-30.3197</td><td>NaN</td><td>NaN</td><td>NaN</td></tr><tr><td>19.0308</td><td>-3.9458</td><td>-26.7883</td><td>-2.9256</td><td>38.8863</td><td>7.7514</td><td>NaN</td><td>NaN</td><td>NaN</td><td>NaN</td></tr><tr><td>30.5681</td><td>-27.5012</td><td>26.8812</td><td>8.2544</td><td>38.8443</td><td>NaN</td><td>NaN</td><td>NaN</td><td>NaN</td><td>NaN</td></tr><tr><td>-39.7015</td><td>-17.7955</td><td>-18.3468</td><td>-10.8354</td><td>NaN</td><td>NaN</td><td>NaN</td><td>NaN</td><td>NaN</td><td>NaN</td></tr><tr><td>22.5880</td><td>-18.0048</td><td>3.0957</td><td>NaN</td><td>NaN</td><td>NaN</td><td>NaN</td><td>NaN</td><td>NaN</td><td>NaN</td></tr><tr><td>-25.7803</td><td>-26.7883</td><td>NaN</td><td>NaN</td><td>NaN</td><td>NaN</td><td>NaN</td><td>NaN</td><td>NaN</td><td>NaN</td></tr><tr><td>0.4183</td><td>NaN</td><td>NaN</td><td>NaN</td><td>NaN</td><td>NaN</td><td>NaN</td><td>NaN</td><td>NaN</td><td>NaN</td></tr></tbody></table></div>"
      ],
      "text/plain": [
       "shape: (10, 10)\n",
       "┌──────────┬──────────┬──────────┬──────────┬───┬──────────┬──────────┬─────────┬────────┐\n",
       "│ 1        ┆ 2        ┆ 3        ┆ 4        ┆ … ┆ 7        ┆ 8        ┆ 9       ┆ 10     │\n",
       "│ ---      ┆ ---      ┆ ---      ┆ ---      ┆   ┆ ---      ┆ ---      ┆ ---     ┆ ---    │\n",
       "│ f64      ┆ f64      ┆ f64      ┆ f64      ┆   ┆ f64      ┆ f64      ┆ f64     ┆ f64    │\n",
       "╞══════════╪══════════╪══════════╪══════════╪═══╪══════════╪══════════╪═════════╪════════╡\n",
       "│ -50.3838 ┆ -13.2886 ┆ 7.1751   ┆ 30.5389  ┆ … ┆ -58.4358 ┆ 33.0374  ┆ 10.4897 ┆ 7.1751 │\n",
       "│ -10.0978 ┆ 8.2544   ┆ -26.7883 ┆ 0.4183   ┆ … ┆ 38.8443  ┆ -30.3197 ┆ 19.6696 ┆ NaN    │\n",
       "│ -27.5012 ┆ 38.8443  ┆ -58.4358 ┆ -6.3330  ┆ … ┆ 0.4183   ┆ -50.7196 ┆ NaN     ┆ NaN    │\n",
       "│ -44.1984 ┆ 8.0533   ┆ -37.9958 ┆ -27.5012 ┆ … ┆ -30.3197 ┆ NaN      ┆ NaN     ┆ NaN    │\n",
       "│ 19.0308  ┆ -3.9458  ┆ -26.7883 ┆ -2.9256  ┆ … ┆ NaN      ┆ NaN      ┆ NaN     ┆ NaN    │\n",
       "│ 30.5681  ┆ -27.5012 ┆ 26.8812  ┆ 8.2544   ┆ … ┆ NaN      ┆ NaN      ┆ NaN     ┆ NaN    │\n",
       "│ -39.7015 ┆ -17.7955 ┆ -18.3468 ┆ -10.8354 ┆ … ┆ NaN      ┆ NaN      ┆ NaN     ┆ NaN    │\n",
       "│ 22.5880  ┆ -18.0048 ┆ 3.0957   ┆ NaN      ┆ … ┆ NaN      ┆ NaN      ┆ NaN     ┆ NaN    │\n",
       "│ -25.7803 ┆ -26.7883 ┆ NaN      ┆ NaN      ┆ … ┆ NaN      ┆ NaN      ┆ NaN     ┆ NaN    │\n",
       "│ 0.4183   ┆ NaN      ┆ NaN      ┆ NaN      ┆ … ┆ NaN      ┆ NaN      ┆ NaN     ┆ NaN    │\n",
       "└──────────┴──────────┴──────────┴──────────┴───┴──────────┴──────────┴─────────┴────────┘"
      ]
     },
     "execution_count": 15,
     "metadata": {},
     "output_type": "execute_result"
    }
   ],
   "source": [
    "\n",
    "# Set random seed for reproducibility.\n",
    "rng = np.random.default_rng(seed=516)\n",
    "\n",
    "# Represent adjusted residuals as Numpy array with nans and 0s removed.\n",
    "r = r_adj[:-1, :-1].to_numpy().flatten()\n",
    "r = r[np.logical_and(~np.isnan(r), r != 0)] \n",
    "\n",
    "# Sample tri0.shape[0] * tri0.shape[1] values at each iteration, but only\n",
    "# keep values in upper left portion of triangle. Use mask to determine \n",
    "# which values to retain.\n",
    "mask = ~np.isnan(tri[:,1:])\n",
    "\n",
    "# Sample with replacement from adjusted residuals. \n",
    "s_r = rng.choice(r, size=mask.shape, replace=True)\n",
    "\n",
    "# # Replace 0s with nans.\n",
    "s_r = mask * s_r\n",
    "s_r[s_r==0] = np.nan\n",
    "s_r = pl.from_numpy(s_r, schema=[str(i) for i in range(1, 11)])\n",
    "\n",
    "print(\"Sample with replacement from adjusted Pearson residuals:\")\n",
    "\n",
    "s_r\n"
   ]
  },
  {
   "cell_type": "markdown",
   "metadata": {},
   "source": [
    "\n",
    "<br>\n",
    "\n",
    "Using the sampled adjusted Pearson residuals and fitted incremental triangle $m$, construct the triangle of sampled incremental losses ${I_{i}}$:\n",
    "\n",
    "$$\n",
    "I_{i} = m + \\hat{r}_{p}^{adj} \\sqrt{m},\n",
    "$$\n",
    "\n",
    "where $\\hat{r}_{p}^{adj}$ represents a sample with replacement from the adjusted Pearson residuals and $m$ the fitted incremental triangle:"
   ]
  },
  {
   "cell_type": "code",
   "execution_count": 16,
   "metadata": {},
   "outputs": [
    {
     "name": "stdout",
     "output_type": "stream",
     "text": [
      "Triangle of sampled incremental loss tri_ii:\n"
     ]
    },
    {
     "data": {
      "text/html": [
       "<div><style>\n",
       ".dataframe > thead > tr,\n",
       ".dataframe > tbody > tr {\n",
       "  text-align: right;\n",
       "  white-space: pre-wrap;\n",
       "}\n",
       "</style>\n",
       "<small>shape: (10, 11)</small><table border=\"1\" class=\"dataframe\"><thead><tr><th>ORIGIN</th><th>1</th><th>2</th><th>3</th><th>4</th><th>5</th><th>6</th><th>7</th><th>8</th><th>9</th><th>10</th></tr><tr><td>u32</td><td>f64</td><td>f64</td><td>f64</td><td>f64</td><td>f64</td><td>f64</td><td>f64</td><td>f64</td><td>f64</td><td>f64</td></tr></thead><tbody><tr><td>1</td><td>-203.7452</td><td>3358.0144</td><td>4399.5047</td><td>4396.7778</td><td>3516.3502</td><td>971.4887</td><td>-847.5257</td><td>1393.7759</td><td>495.7340</td><td>266.1004</td></tr><tr><td>2</td><td>1450.8774</td><td>4285.8909</td><td>1941.7709</td><td>2513.7873</td><td>5504.0870</td><td>-749.6490</td><td>1622.3472</td><td>-168.4248</td><td>606.2675</td><td>NaN</td></tr><tr><td>3</td><td>1270.8943</td><td>8251.9128</td><td>896.8769</td><td>3183.4392</td><td>3252.6902</td><td>924.0302</td><td>926.6758</td><td>-638.6012</td><td>NaN</td><td>NaN</td></tr><tr><td>4</td><td>710.5888</td><td>7079.3951</td><td>3070.2582</td><td>2452.8309</td><td>5689.8317</td><td>1319.5115</td><td>88.6453</td><td>NaN</td><td>NaN</td><td>NaN</td></tr><tr><td>5</td><td>4326.5491</td><td>6165.8502</td><td>3978.4635</td><td>4086.2513</td><td>5727.7564</td><td>3066.3579</td><td>NaN</td><td>NaN</td><td>NaN</td><td>NaN</td></tr><tr><td>6</td><td>3615.4212</td><td>2552.7444</td><td>5807.3180</td><td>3327.0288</td><td>4194.7016</td><td>NaN</td><td>NaN</td><td>NaN</td><td>NaN</td><td>NaN</td></tr><tr><td>7</td><td>218.8165</td><td>2855.8569</td><td>2602.0332</td><td>2069.5944</td><td>NaN</td><td>NaN</td><td>NaN</td><td>NaN</td><td>NaN</td><td>NaN</td></tr><tr><td>8</td><td>3864.7765</td><td>4062.5315</td><td>5255.4183</td><td>NaN</td><td>NaN</td><td>NaN</td><td>NaN</td><td>NaN</td><td>NaN</td><td>NaN</td></tr><tr><td>9</td><td>705.3407</td><td>1989.8118</td><td>NaN</td><td>NaN</td><td>NaN</td><td>NaN</td><td>NaN</td><td>NaN</td><td>NaN</td><td>NaN</td></tr><tr><td>10</td><td>2081.9985</td><td>NaN</td><td>NaN</td><td>NaN</td><td>NaN</td><td>NaN</td><td>NaN</td><td>NaN</td><td>NaN</td><td>NaN</td></tr></tbody></table></div>"
      ],
      "text/plain": [
       "shape: (10, 11)\n",
       "┌────────┬───────────┬───────────┬───────────┬───┬───────────┬───────────┬──────────┬──────────┐\n",
       "│ ORIGIN ┆ 1         ┆ 2         ┆ 3         ┆ … ┆ 7         ┆ 8         ┆ 9        ┆ 10       │\n",
       "│ ---    ┆ ---       ┆ ---       ┆ ---       ┆   ┆ ---       ┆ ---       ┆ ---      ┆ ---      │\n",
       "│ u32    ┆ f64       ┆ f64       ┆ f64       ┆   ┆ f64       ┆ f64       ┆ f64      ┆ f64      │\n",
       "╞════════╪═══════════╪═══════════╪═══════════╪═══╪═══════════╪═══════════╪══════════╪══════════╡\n",
       "│ 1      ┆ -203.7452 ┆ 3358.0144 ┆ 4399.5047 ┆ … ┆ -847.5257 ┆ 1393.7759 ┆ 495.7340 ┆ 266.1004 │\n",
       "│ 2      ┆ 1450.8774 ┆ 4285.8909 ┆ 1941.7709 ┆ … ┆ 1622.3472 ┆ -168.4248 ┆ 606.2675 ┆ NaN      │\n",
       "│ 3      ┆ 1270.8943 ┆ 8251.9128 ┆ 896.8769  ┆ … ┆ 926.6758  ┆ -638.6012 ┆ NaN      ┆ NaN      │\n",
       "│ 4      ┆ 710.5888  ┆ 7079.3951 ┆ 3070.2582 ┆ … ┆ 88.6453   ┆ NaN       ┆ NaN      ┆ NaN      │\n",
       "│ 5      ┆ 4326.5491 ┆ 6165.8502 ┆ 3978.4635 ┆ … ┆ NaN       ┆ NaN       ┆ NaN      ┆ NaN      │\n",
       "│ 6      ┆ 3615.4212 ┆ 2552.7444 ┆ 5807.3180 ┆ … ┆ NaN       ┆ NaN       ┆ NaN      ┆ NaN      │\n",
       "│ 7      ┆ 218.8165  ┆ 2855.8569 ┆ 2602.0332 ┆ … ┆ NaN       ┆ NaN       ┆ NaN      ┆ NaN      │\n",
       "│ 8      ┆ 3864.7765 ┆ 4062.5315 ┆ 5255.4183 ┆ … ┆ NaN       ┆ NaN       ┆ NaN      ┆ NaN      │\n",
       "│ 9      ┆ 705.3407  ┆ 1989.8118 ┆ NaN       ┆ … ┆ NaN       ┆ NaN       ┆ NaN      ┆ NaN      │\n",
       "│ 10     ┆ 2081.9985 ┆ NaN       ┆ NaN       ┆ … ┆ NaN       ┆ NaN       ┆ NaN      ┆ NaN      │\n",
       "└────────┴───────────┴───────────┴───────────┴───┴───────────┴───────────┴──────────┴──────────┘"
      ]
     },
     "execution_count": 16,
     "metadata": {},
     "output_type": "execute_result"
    }
   ],
   "source": [
    "\n",
    "tri_ii = tri[:,1:] + s_r * tri.select(pl.col(tri.columns[1:]).sqrt())\n",
    "tri_ii = tri_ii.with_row_index(\"ORIGIN\", offset=1)\n",
    "\n",
    "print(\"Triangle of sampled incremental loss tri_ii:\")\n",
    "\n",
    "tri_ii\n"
   ]
  },
  {
   "cell_type": "markdown",
   "metadata": {},
   "source": [
    "\n",
    "<br>\n",
    "\n",
    "Create a cumulative triangle, and project future losses using the chain ladder method:"
   ]
  },
  {
   "cell_type": "code",
   "execution_count": 17,
   "metadata": {},
   "outputs": [
    {
     "name": "stdout",
     "output_type": "stream",
     "text": [
      "Completed sampled triangle ctri_ii_sqrd:\n"
     ]
    },
    {
     "data": {
      "text/html": [
       "<div><style>\n",
       ".dataframe > thead > tr,\n",
       ".dataframe > tbody > tr {\n",
       "  text-align: right;\n",
       "  white-space: pre-wrap;\n",
       "}\n",
       "</style>\n",
       "<small>shape: (10, 11)</small><table border=\"1\" class=\"dataframe\"><thead><tr><th>ORIGIN</th><th>1</th><th>2</th><th>3</th><th>4</th><th>5</th><th>6</th><th>7</th><th>8</th><th>9</th><th>10</th></tr><tr><td>u32</td><td>f64</td><td>f64</td><td>f64</td><td>f64</td><td>f64</td><td>f64</td><td>f64</td><td>f64</td><td>f64</td><td>f64</td></tr></thead><tbody><tr><td>1</td><td>-203.7452</td><td>3154.2692</td><td>7553.7739</td><td>11950.5517</td><td>15466.9019</td><td>16438.3906</td><td>15590.8649</td><td>16984.6408</td><td>17480.3748</td><td>17746.4752</td></tr><tr><td>2</td><td>1450.8774</td><td>5736.7683</td><td>7678.5392</td><td>10192.3265</td><td>15696.4135</td><td>14946.7645</td><td>16569.1116</td><td>16400.6868</td><td>17006.9544</td><td>17265.8480</td></tr><tr><td>3</td><td>1270.8943</td><td>9522.8071</td><td>10419.6840</td><td>13603.1232</td><td>16855.8134</td><td>17779.8436</td><td>18706.5194</td><td>18067.9182</td><td>18664.3141</td><td>18948.4374</td></tr><tr><td>4</td><td>710.5888</td><td>7789.9839</td><td>10860.2421</td><td>13313.0730</td><td>19002.9047</td><td>20322.4162</td><td>20411.0615</td><td>20646.5050</td><td>21328.0164</td><td>21652.6887</td></tr><tr><td>5</td><td>4326.5491</td><td>10492.3993</td><td>14470.8628</td><td>18557.1141</td><td>24284.8704</td><td>27351.2284</td><td>28055.8538</td><td>28379.4807</td><td>29316.2465</td><td>29762.5220</td></tr><tr><td>6</td><td>3615.4212</td><td>6168.1656</td><td>11975.4836</td><td>15302.5124</td><td>19497.2140</td><td>20678.4336</td><td>21211.1538</td><td>21455.8265</td><td>22164.0523</td><td>22501.4514</td></tr><tr><td>7</td><td>218.8165</td><td>3074.6735</td><td>5676.7067</td><td>7746.3011</td><td>10351.3688</td><td>10978.4964</td><td>11261.3256</td><td>11391.2261</td><td>11767.2341</td><td>11946.3644</td></tr><tr><td>8</td><td>3864.7765</td><td>7927.3080</td><td>13182.7263</td><td>17413.9552</td><td>23270.2385</td><td>24680.0431</td><td>25315.8531</td><td>25607.8739</td><td>26453.1529</td><td>26855.8442</td></tr><tr><td>9</td><td>705.3407</td><td>2695.1525</td><td>4093.6863</td><td>5407.6272</td><td>7226.2030</td><td>7663.9954</td><td>7861.4361</td><td>7952.1185</td><td>8214.6065</td><td>8339.6559</td></tr><tr><td>10</td><td>2081.9985</td><td>7378.7321</td><td>11207.6084</td><td>14804.8883</td><td>19783.7469</td><td>20982.3259</td><td>21522.8749</td><td>21771.1433</td><td>22489.7774</td><td>22832.1349</td></tr></tbody></table></div>"
      ],
      "text/plain": [
       "shape: (10, 11)\n",
       "┌────────┬───────────┬────────────┬────────────┬───┬───────────┬───────────┬───────────┬───────────┐\n",
       "│ ORIGIN ┆ 1         ┆ 2          ┆ 3          ┆ … ┆ 7         ┆ 8         ┆ 9         ┆ 10        │\n",
       "│ ---    ┆ ---       ┆ ---        ┆ ---        ┆   ┆ ---       ┆ ---       ┆ ---       ┆ ---       │\n",
       "│ u32    ┆ f64       ┆ f64        ┆ f64        ┆   ┆ f64       ┆ f64       ┆ f64       ┆ f64       │\n",
       "╞════════╪═══════════╪════════════╪════════════╪═══╪═══════════╪═══════════╪═══════════╪═══════════╡\n",
       "│ 1      ┆ -203.7452 ┆ 3154.2692  ┆ 7553.7739  ┆ … ┆ 15590.864 ┆ 16984.640 ┆ 17480.374 ┆ 17746.475 │\n",
       "│        ┆           ┆            ┆            ┆   ┆ 9         ┆ 8         ┆ 8         ┆ 2         │\n",
       "│ 2      ┆ 1450.8774 ┆ 5736.7683  ┆ 7678.5392  ┆ … ┆ 16569.111 ┆ 16400.686 ┆ 17006.954 ┆ 17265.848 │\n",
       "│        ┆           ┆            ┆            ┆   ┆ 6         ┆ 8         ┆ 4         ┆ 0         │\n",
       "│ 3      ┆ 1270.8943 ┆ 9522.8071  ┆ 10419.6840 ┆ … ┆ 18706.519 ┆ 18067.918 ┆ 18664.314 ┆ 18948.437 │\n",
       "│        ┆           ┆            ┆            ┆   ┆ 4         ┆ 2         ┆ 1         ┆ 4         │\n",
       "│ 4      ┆ 710.5888  ┆ 7789.9839  ┆ 10860.2421 ┆ … ┆ 20411.061 ┆ 20646.505 ┆ 21328.016 ┆ 21652.688 │\n",
       "│        ┆           ┆            ┆            ┆   ┆ 5         ┆ 0         ┆ 4         ┆ 7         │\n",
       "│ 5      ┆ 4326.5491 ┆ 10492.3993 ┆ 14470.8628 ┆ … ┆ 28055.853 ┆ 28379.480 ┆ 29316.246 ┆ 29762.522 │\n",
       "│        ┆           ┆            ┆            ┆   ┆ 8         ┆ 7         ┆ 5         ┆ 0         │\n",
       "│ 6      ┆ 3615.4212 ┆ 6168.1656  ┆ 11975.4836 ┆ … ┆ 21211.153 ┆ 21455.826 ┆ 22164.052 ┆ 22501.451 │\n",
       "│        ┆           ┆            ┆            ┆   ┆ 8         ┆ 5         ┆ 3         ┆ 4         │\n",
       "│ 7      ┆ 218.8165  ┆ 3074.6735  ┆ 5676.7067  ┆ … ┆ 11261.325 ┆ 11391.226 ┆ 11767.234 ┆ 11946.364 │\n",
       "│        ┆           ┆            ┆            ┆   ┆ 6         ┆ 1         ┆ 1         ┆ 4         │\n",
       "│ 8      ┆ 3864.7765 ┆ 7927.3080  ┆ 13182.7263 ┆ … ┆ 25315.853 ┆ 25607.873 ┆ 26453.152 ┆ 26855.844 │\n",
       "│        ┆           ┆            ┆            ┆   ┆ 1         ┆ 9         ┆ 9         ┆ 2         │\n",
       "│ 9      ┆ 705.3407  ┆ 2695.1525  ┆ 4093.6863  ┆ … ┆ 7861.4361 ┆ 7952.1185 ┆ 8214.6065 ┆ 8339.6559 │\n",
       "│ 10     ┆ 2081.9985 ┆ 7378.7321  ┆ 11207.6084 ┆ … ┆ 21522.874 ┆ 21771.143 ┆ 22489.777 ┆ 22832.134 │\n",
       "│        ┆           ┆            ┆            ┆   ┆ 9         ┆ 3         ┆ 4         ┆ 9         │\n",
       "└────────┴───────────┴────────────┴────────────┴───┴───────────┴───────────┴───────────┴───────────┘"
      ]
     },
     "execution_count": 17,
     "metadata": {},
     "output_type": "execute_result"
    }
   ],
   "source": [
    "\n",
    "# Create cumulative triangle from sampled incremental losses.\n",
    "ctri_ii = to_cum(to_table(tri_ii), as_tri=True)\n",
    "\n",
    "# Get age-to-age factors for sampled cumulative triangle.\n",
    "a2a_ii = get_a2a_factors(ctri_ii)\n",
    "\n",
    "# Square ctri_ii, populating the lower-right side using a2a_ii.\n",
    "ctri_ii_sqrd = square_tri(ctri_ii, a2a_ii)\n",
    "\n",
    "print(\"Completed sampled triangle ctri_ii_sqrd:\")\n",
    "\n",
    "ctri_ii_sqrd\n"
   ]
  },
  {
   "cell_type": "markdown",
   "metadata": {},
   "source": [
    "\n",
    "<br> \n",
    "\n",
    "So far we've accounted for parameter variance, but not process variance. In order to obtain the full prediction error, we need to incorporate process variance into our estimates. This is accomplished by simulating incremental projected losses from a gamma distribution. For each cell in the lower right of the completed triangle, we randomly sample from a gamma distribution with mean equal to the projected incremental loss in that cell, and variance equal to the value in that cell times $\\phi$. For example, consider the following squared incremental triangle:\n",
    "\n",
    "```\n",
    "      1  2  3  4  5  6  7  8  9  10\n",
    "1991  84 27  6  6  3  0  2 -1 -0  2\n",
    "1992 109 33  7  2  4  4  1 -1  1  2\n",
    "1993  86 28  8  4  3  2 -0  1  0  2\n",
    "1994 113 32  1  4  3  2 -1 -0  0  2\n",
    "1995  86 26  6  3  2  2  0 -0  0  2\n",
    "1996 107 39  7  4  4  2  1 -0  0  2\n",
    "1997  72 26  2  3  2  2  0 -0  0  1\n",
    "1998  77 21  3  3  2  2  0 -0  0  1\n",
    "1999  74 28  4  3  2  2  0 -0  0  1\n",
    "2000  54 17  3  2  2  1  0 -0  0  1\n",
    "```\n",
    "\n",
    "<br>\n",
    "\n",
    "Values to the right of the main diagonal represent projected future losses. For the loss at origin = 2000 and development period = 2, the projected incremental loss is 17. We would therefore sample from a gamma distribution parameterized as follows:\n",
    "\n",
    "```python\n",
    "from numpy.random import gamma\n",
    "\n",
    "# Computed above. \n",
    "phi = .798 \n",
    "\n",
    "# Value at intersection of origin=2000 and development period = 2.\n",
    "mu = 17\n",
    "\n",
    "# Determine shape and scale from mean and variance.\n",
    "shape = mu**2 / (phi * mu)\n",
    "scale = (phi * mu) / mu\n",
    "\n",
    "# Generate sample from gamma distribution.\n",
    "rng.gamma(shape=shape, scale=scale, size=1)\n",
    "# array([19.29149])\n",
    "```\n",
    "\n",
    "<br>\n",
    "\n",
    "We take advantage of the fact that for the gamma distribution, the shape parameter $\\alpha = E[X]^{2} / \\mathrm{Var}[X]$ and scale $\\theta = \\mathrm{Var}[X] / E[X]$. In essence, we are simulating future incremental losses from a series a gamma distributions, each with parameterization based on the chain ladder-derived future incremental losses. To handle cases in which a projected incremental loss might be negative, we take the absolute value of the projected loss when determining $\\alpha_{ij}$ and $\\theta_{ij}$ for origin period $i$, development period $j$, where $2 \\leq i \\leq n$ and $j \\geq n - i + 2$.\n",
    "\n"
   ]
  },
  {
   "cell_type": "code",
   "execution_count": 18,
   "metadata": {},
   "outputs": [
    {
     "name": "stdout",
     "output_type": "stream",
     "text": [
      "Sampled incremental triangle w/ process variance:\n"
     ]
    },
    {
     "data": {
      "text/html": [
       "<div><style>\n",
       ".dataframe > thead > tr,\n",
       ".dataframe > tbody > tr {\n",
       "  text-align: right;\n",
       "  white-space: pre-wrap;\n",
       "}\n",
       "</style>\n",
       "<small>shape: (10, 10)</small><table border=\"1\" class=\"dataframe\"><thead><tr><th>1</th><th>2</th><th>3</th><th>4</th><th>5</th><th>6</th><th>7</th><th>8</th><th>9</th><th>10</th></tr><tr><td>f64</td><td>f64</td><td>f64</td><td>f64</td><td>f64</td><td>f64</td><td>f64</td><td>f64</td><td>f64</td><td>f64</td></tr></thead><tbody><tr><td>-203.7452</td><td>3358.0144</td><td>4399.5047</td><td>4396.7778</td><td>3516.3502</td><td>971.4887</td><td>-847.5257</td><td>1393.7759</td><td>495.7340</td><td>266.1004</td></tr><tr><td>1450.8774</td><td>4285.8909</td><td>1941.7709</td><td>2513.7873</td><td>5504.0870</td><td>-749.6490</td><td>1622.3472</td><td>-168.4248</td><td>5.6818</td><td>258.8936</td></tr><tr><td>1270.8943</td><td>8251.9128</td><td>896.8769</td><td>3183.4392</td><td>3252.6902</td><td>924.0302</td><td>926.6758</td><td>261.2162</td><td>45.4568</td><td>284.1233</td></tr><tr><td>710.5888</td><td>7079.3951</td><td>3070.2582</td><td>2452.8309</td><td>5689.8317</td><td>1319.5115</td><td>0.0000</td><td>1187.7049</td><td>138.5052</td><td>324.6723</td></tr><tr><td>4326.5491</td><td>6165.8502</td><td>3978.4635</td><td>4086.2513</td><td>5727.7564</td><td>2287.3879</td><td>375.7417</td><td>20.5246</td><td>624.2870</td><td>446.2756</td></tr><tr><td>3615.4212</td><td>2552.7444</td><td>5807.3180</td><td>3327.0288</td><td>3960.9182</td><td>218.8131</td><td>10.1640</td><td>14.2730</td><td>306.6162</td><td>337.3991</td></tr><tr><td>218.8165</td><td>2855.8569</td><td>2602.0332</td><td>1195.7353</td><td>962.9821</td><td>160.2781</td><td>418.3009</td><td>0.0000</td><td>14.9545</td><td>179.1303</td></tr><tr><td>3864.7765</td><td>4062.5315</td><td>8917.8595</td><td>1226.2463</td><td>3936.2469</td><td>2824.7474</td><td>827.3206</td><td>4.3581</td><td>84.7208</td><td>402.6913</td></tr><tr><td>705.3407</td><td>1146.8776</td><td>1215.0414</td><td>619.7826</td><td>3797.3911</td><td>796.3057</td><td>8.3274</td><td>2.0791</td><td>0.2504</td><td>125.0494</td></tr><tr><td>2713.2565</td><td>3260.8427</td><td>1892.6994</td><td>2777.3152</td><td>1124.3156</td><td>720.6907</td><td>10.0764</td><td>7.8274</td><td>299.7176</td><td>342.3576</td></tr></tbody></table></div>"
      ],
      "text/plain": [
       "shape: (10, 10)\n",
       "┌───────────┬───────────┬───────────┬───────────┬───┬───────────┬───────────┬──────────┬──────────┐\n",
       "│ 1         ┆ 2         ┆ 3         ┆ 4         ┆ … ┆ 7         ┆ 8         ┆ 9        ┆ 10       │\n",
       "│ ---       ┆ ---       ┆ ---       ┆ ---       ┆   ┆ ---       ┆ ---       ┆ ---      ┆ ---      │\n",
       "│ f64       ┆ f64       ┆ f64       ┆ f64       ┆   ┆ f64       ┆ f64       ┆ f64      ┆ f64      │\n",
       "╞═══════════╪═══════════╪═══════════╪═══════════╪═══╪═══════════╪═══════════╪══════════╪══════════╡\n",
       "│ -203.7452 ┆ 3358.0144 ┆ 4399.5047 ┆ 4396.7778 ┆ … ┆ -847.5257 ┆ 1393.7759 ┆ 495.7340 ┆ 266.1004 │\n",
       "│ 1450.8774 ┆ 4285.8909 ┆ 1941.7709 ┆ 2513.7873 ┆ … ┆ 1622.3472 ┆ -168.4248 ┆ 5.6818   ┆ 258.8936 │\n",
       "│ 1270.8943 ┆ 8251.9128 ┆ 896.8769  ┆ 3183.4392 ┆ … ┆ 926.6758  ┆ 261.2162  ┆ 45.4568  ┆ 284.1233 │\n",
       "│ 710.5888  ┆ 7079.3951 ┆ 3070.2582 ┆ 2452.8309 ┆ … ┆ 0.0000    ┆ 1187.7049 ┆ 138.5052 ┆ 324.6723 │\n",
       "│ 4326.5491 ┆ 6165.8502 ┆ 3978.4635 ┆ 4086.2513 ┆ … ┆ 375.7417  ┆ 20.5246   ┆ 624.2870 ┆ 446.2756 │\n",
       "│ 3615.4212 ┆ 2552.7444 ┆ 5807.3180 ┆ 3327.0288 ┆ … ┆ 10.1640   ┆ 14.2730   ┆ 306.6162 ┆ 337.3991 │\n",
       "│ 218.8165  ┆ 2855.8569 ┆ 2602.0332 ┆ 1195.7353 ┆ … ┆ 418.3009  ┆ 0.0000    ┆ 14.9545  ┆ 179.1303 │\n",
       "│ 3864.7765 ┆ 4062.5315 ┆ 8917.8595 ┆ 1226.2463 ┆ … ┆ 827.3206  ┆ 4.3581    ┆ 84.7208  ┆ 402.6913 │\n",
       "│ 705.3407  ┆ 1146.8776 ┆ 1215.0414 ┆ 619.7826  ┆ … ┆ 8.3274    ┆ 2.0791    ┆ 0.2504   ┆ 125.0494 │\n",
       "│ 2713.2565 ┆ 3260.8427 ┆ 1892.6994 ┆ 2777.3152 ┆ … ┆ 10.0764   ┆ 7.8274    ┆ 299.7176 ┆ 342.3576 │\n",
       "└───────────┴───────────┴───────────┴───────────┴───┴───────────┴───────────┴──────────┴──────────┘"
      ]
     },
     "execution_count": 18,
     "metadata": {},
     "output_type": "execute_result"
    }
   ],
   "source": [
    "\"\"\"\n",
    "Incorporation of process variance. \n",
    "\"\"\"\n",
    "\n",
    "from numpy.random import gamma\n",
    "\n",
    "\n",
    "# Get sampled squared incremental triangle.\n",
    "tri_ii_sqrd = to_incr(to_table(ctri_ii_sqrd), as_tri=True).drop(\"ORIGIN\")\n",
    "\n",
    "for r_idx in range(nbr_devps):\n",
    "\n",
    "    for c_idx in range(nbr_devps - r_idx, nbr_devps):\n",
    "        # Get mean and variance using incremental loss value.\n",
    "        m = np.abs(tri_ii_sqrd[r_idx, str(c_idx)])\n",
    "        v = m * phi\n",
    "\n",
    "        # Determine shape and scale parameters. \n",
    "        shape = m**2 / v\n",
    "        scale = v / m\n",
    "\n",
    "        # Update value at [r_idx, c_idx] with sample from gamma distribution.\n",
    "        tri_ii_sqrd[r_idx, str(c_idx)] = rng.gamma(shape=shape, scale=scale, size=1).item()\n",
    "\n",
    "\n",
    "print(\"Sampled incremental triangle w/ process variance:\")\n",
    "\n",
    "tri_ii_sqrd\n"
   ]
  },
  {
   "cell_type": "markdown",
   "metadata": {},
   "source": [
    "\n",
    "<br>\n",
    "\n",
    "From this point, we proceed exactly as if performing a standard chain ladder analysis: Cumulate incremental losses, then compute the total needed reserve as the ultimate projected value minus the latest cumulative loss amount by origin period. In the next cell we convert `latest_values` to a numpy array to simplify differencing with ultimates, but this can also be computed element-wise in a list comprehension:"
   ]
  },
  {
   "cell_type": "code",
   "execution_count": 19,
   "metadata": {},
   "outputs": [
    {
     "name": "stdout",
     "output_type": "stream",
     "text": [
      "IBNR:\n"
     ]
    },
    {
     "data": {
      "text/plain": [
       "[0.0,\n",
       " 258.89359253426665,\n",
       " 329.5800615108092,\n",
       " 1650.8823904054043,\n",
       " 1466.8288652047886,\n",
       " 887.2653700652991,\n",
       " 1735.6459265833819,\n",
       " 9306.331478679494,\n",
       " 6564.227039438123,\n",
       " 10435.842507396274]"
      ]
     },
     "execution_count": 19,
     "metadata": {},
     "output_type": "execute_result"
    }
   ],
   "source": [
    "\n",
    "tri_ii_sqrd = tri_ii_sqrd.with_row_index(\"ORIGIN\", offset=1)\n",
    "ctri_ii_sqrd = to_cum(to_table(tri_ii_sqrd), as_tri=True)\n",
    "latest_origin, latest_values = zip(*get_latest(ctri_ii_sqrd))\n",
    "latest_values = np.asarray(latest_values)\n",
    "ultimates = ctri_ii_sqrd[:, -1].to_numpy().flatten()\n",
    "ibnr = (ultimates - latest_values).tolist()\n",
    "\n",
    "print(\"IBNR:\")\n",
    "\n",
    "ibnr\n"
   ]
  },
  {
   "cell_type": "markdown",
   "metadata": {},
   "source": [
    "\n",
    "The preceding steps are repeated for the desired number of bootstrap samples, resulting in the predictive distribution of total needed reserve by origin period and in aggregate.\n",
    "\n",
    "<br>\n",
    "\n",
    "### Bringing it All Together\n",
    "\n",
    "The steps outlined above are combined in the next cell to run 1000 bootstrap iterations, generating the predictive distribution of reserves. We also present code to visualize the predictive distribution by origin period and in aggregate. "
   ]
  },
  {
   "cell_type": "code",
   "execution_count": 20,
   "metadata": {},
   "outputs": [],
   "source": [
    "\n",
    "import matplotlib.pyplot as plt\n",
    "import numpy as np\n",
    "from numpy.random import gamma\n",
    "import polars as pl\n",
    "\n",
    "np.set_printoptions(suppress=True, precision=5)\n",
    "pl.Config(tbl_rows=30)\n",
    "pl.Config(float_precision=4)\n",
    "pl.Config(tbl_cols=None)\n",
    "# Set random seed for reproducibility.\n",
    "rng = np.random.default_rng(seed=516)\n",
    "\n",
    "# Number of bootstrap samples.\n",
    "nbr_samples = 1000\n",
    "\n",
    "# Load tabular incremental losses. Convert to incremental triangle. \n",
    "dfraa = pl.read_csv(\"https://gist.githubusercontent.com/jtrive84/976c80786a6e97cce7483e306562f85b/raw/06a5c8b1f823fbe2b6da15f90a672517fa5b4571/RAA.csv\")\n",
    "dfraa = dfraa.sort(by=[\"ORIGIN\", \"DEV\"])\n",
    "dfraa = dfraa.with_columns(pl.col(\"ORIGIN\").sub(1980).alias(\"ORIGIN\"))\n",
    "tri0 = to_tri(dfraa)\n",
    "nbr_devps = tri0.width - 1\n",
    "mask = ~np.isnan(tri0[:,1:])\n",
    "\n",
    "# Create cumulative triangle from original losses.\n",
    "ctri0 = to_cum(dfraa, as_tri=True)\n",
    "\n",
    "# All-year volume-weighted age-to-age factors.\n",
    "a2a = get_a2a_factors(ctri0)\n",
    "\n",
    "# Cumulative fitted triangle via backwards recursion.\n",
    "a2a_headers, a2a_values = zip(*a2a)\n",
    "\n",
    "# Create empty triangle with same shape as ctri0. \n",
    "ctri = pl.DataFrame(\n",
    "    {f\"{i}\": [np.nan] * nbr_devps for i in range(1, 11)}\n",
    ").with_row_index(\"ORIGIN\", offset=1)\n",
    "\n",
    "for r_idx in range(ctri[\"ORIGIN\"].shape[0]):\n",
    "\n",
    "    # Determine latest development period.\n",
    "    latest_devp = nbr_devps - r_idx\n",
    "\n",
    "    # Set latest diagonal of tri to same value as in tri0.\n",
    "    ctri[r_idx, str(latest_devp)] = ctri0[r_idx, str(latest_devp)] \n",
    "\n",
    "    # Use backward recursion to un-develop triangle using a2a_values. \n",
    "    for devp in range(latest_devp - 1, 0, -1):\n",
    "        ctri[r_idx, str(devp)] = (ctri[r_idx, str(devp + 1)] / a2a_values[devp - 1])\n",
    "\n",
    "# Incremental fitted triangle.\n",
    "tri = to_incr(to_table(ctri), as_tri=True)\n",
    "\n",
    "# Unscaled Pearson residuals.\n",
    "numer = tri0.select(tri0.columns[1:]) - tri.select(tri.columns[1:]) \n",
    "denom = tri.select(pl.col(tri0.columns[1:]).abs().sqrt())\n",
    "r_us = numer / denom\n",
    "\n",
    "# Degrees of freedom.\n",
    "n = tri0.count().sum().to_numpy().flatten()[1:].sum().item()\n",
    "p = tri0.height + tri0.width - 2\n",
    "DF = n - p\n",
    "\n",
    "# Scale parameter.\n",
    "phi = r_us.with_columns(pl.all().pow(2)).sum().to_numpy().flatten().sum().item() / DF\n",
    "\n",
    "# Adjusted Pearson residuals.\n",
    "r_adj = np.sqrt(n / DF).item() * r_us  \n",
    "\n",
    "# Create sampling distribution from adjusted Pearson residuals. Remove\n",
    "# nans and 0s. \n",
    "r = r_adj[:-1, :-1].to_numpy().flatten()\n",
    "r = r[np.logical_and(~np.isnan(r), r != 0)] \n",
    "\n",
    "# Sample tri0.width * tri0.height values at each iteration, but only\n",
    "# keep values in upper left portion of triangle. Use mask to determine \n",
    "# which values to retain.\n",
    "sqrd_ctris = []\n",
    "\n",
    "for ii in range(nbr_samples):\n",
    "\n",
    "    # Sample with replacement from adjusted residuals. \n",
    "    s_r = rng.choice(r, size=mask.shape, replace=True)\n",
    "    s_r = mask * s_r\n",
    "    s_r[s_r==0] = np.nan\n",
    "    s_r = pl.from_numpy(s_r, schema=[str(i) for i in range(1, 11)])\n",
    "\n",
    "    # Sampled incremental triangle.\n",
    "    tri_ii = tri[:,1:] + s_r * tri.select(pl.col(tri.columns[1:]).sqrt())\n",
    "    tri_ii = tri_ii.with_row_index(\"ORIGIN\", offset=1)\n",
    "\n",
    "    # Sampled cumulative triangle.\n",
    "    ctri_ii = to_cum(to_table(tri_ii), as_tri=True)\n",
    "\n",
    "    # Age-to-age factors for sampled cumulative triangle.\n",
    "    a2a_ii = get_a2a_factors(ctri_ii)\n",
    "\n",
    "    # Sampled squared cumulative triangle.\n",
    "    ctri_ii_sqrd = square_tri(ctri_ii, a2a_ii)\n",
    "\n",
    "    # Sampled squared incremental triangle.\n",
    "    tri_ii_sqrd = to_incr(to_table(ctri_ii_sqrd), as_tri=True)\n",
    "\n",
    "    # Incorporate process variance.\n",
    "    for r_idx in range(nbr_devps):\n",
    "        for c_idx in range(nbr_devps - r_idx, nbr_devps):\n",
    "            # Get mean and variance using incremental loss value.\n",
    "            m = np.abs(tri_ii_sqrd[r_idx, str(c_idx)])\n",
    "            v = m * phi\n",
    "\n",
    "            # Determine shape and scale parameters. \n",
    "            shape = m**2 / v\n",
    "            scale = v / m\n",
    "\n",
    "            # Update value at [r_idx, c_idx] with sample from gamma distribution.\n",
    "            tri_ii_sqrd[r_idx, str(c_idx)] = rng.gamma(shape=shape, scale=scale, size=1).item()\n",
    "\n",
    "    ctri_ii_sqrd2 = to_cum(to_table(tri_ii_sqrd), as_tri=True)\n",
    "\n",
    "    # Keep Sampled squared triangle.\n",
    "    sqrd_ctris.append(ctri_ii_sqrd2)\n"
   ]
  },
  {
   "cell_type": "markdown",
   "metadata": {},
   "source": [
    "\n",
    "<br>\n",
    "\n",
    "Obtain the predictive distribution of reserves and ultimates from `sqrd_ctris`. Each triangle in `sqrd_ctris` is converted to a Pandas DataFrame to keep the visualization code consistent with the prior post:\n"
   ]
  },
  {
   "cell_type": "code",
   "execution_count": 21,
   "metadata": {},
   "outputs": [],
   "source": [
    "\n",
    "ultimates, reserves = [], []\n",
    "\n",
    "for ii, ctri in enumerate(sqrd_ctris):\n",
    "\n",
    "    latest_origin, latest_values = zip(*get_latest(ctri))\n",
    "    ctri = ctri.to_pandas().set_index(\"ORIGIN\")\n",
    "    latest = pd.Series(\n",
    "        data=latest_values, index=[int(ii) for ii in latest_origin]\n",
    "    )\n",
    "\n",
    "    ult = (\n",
    "        ctri.iloc[:, -1]\n",
    "        .to_frame()\n",
    "        .reset_index(drop=False)\n",
    "        .rename({\"ORIGIN\": \"origin\", \"10\": \"ult\"}, axis=1)\n",
    "    )\n",
    "\n",
    "    ult[\"n\"] = ii\n",
    "    ultimates.append(ult)\n",
    "\n",
    "    ibnr = (\n",
    "        (ctri.iloc[:, -1] - latest).astype(float)\n",
    "        .to_frame()\n",
    "        .reset_index(drop=False)\n",
    "        .rename({\"ORIGIN\": \"origin\", 0: \"ibnr\"}, axis=1)\n",
    "    )\n",
    "\n",
    "    ibnr[\"n\"] = ii\n",
    "    reserves.append(ibnr)\n",
    "\n",
    "dfults = pd.concat(ultimates).reset_index(drop=True)\n",
    "dfibnr = pd.concat(reserves).reset_index(drop=True)\n",
    "\n"
   ]
  },
  {
   "cell_type": "markdown",
   "metadata": {},
   "source": [
    "\n",
    "<br>\n",
    "\n",
    "Using `dfults` and `dfibnr`, we create a summary of mean ultimate, mean IBNR, standard error of IBNR as well as 75th and 95th percentiles of the predictive distribution of reserves:\n"
   ]
  },
  {
   "cell_type": "code",
   "execution_count": 22,
   "metadata": {},
   "outputs": [
    {
     "name": "stdout",
     "output_type": "stream",
     "text": [
      "Boostrap chain ladder summary by origin:\n"
     ]
    },
    {
     "data": {
      "text/html": [
       "<div>\n",
       "<style scoped>\n",
       "    .dataframe tbody tr th:only-of-type {\n",
       "        vertical-align: middle;\n",
       "    }\n",
       "\n",
       "    .dataframe tbody tr th {\n",
       "        vertical-align: top;\n",
       "    }\n",
       "\n",
       "    .dataframe thead th {\n",
       "        text-align: right;\n",
       "    }\n",
       "</style>\n",
       "<table border=\"1\" class=\"dataframe\">\n",
       "  <thead>\n",
       "    <tr style=\"text-align: right;\">\n",
       "      <th></th>\n",
       "      <th>origin</th>\n",
       "      <th>latest</th>\n",
       "      <th>ult_mean</th>\n",
       "      <th>ibnr_mean</th>\n",
       "      <th>ibnr_se</th>\n",
       "      <th>ibnr_75th</th>\n",
       "      <th>ibnr_95th</th>\n",
       "    </tr>\n",
       "  </thead>\n",
       "  <tbody>\n",
       "    <tr>\n",
       "      <th>0</th>\n",
       "      <td>1</td>\n",
       "      <td>18834</td>\n",
       "      <td>18834.0</td>\n",
       "      <td>0.0</td>\n",
       "      <td>0.0</td>\n",
       "      <td>0.0</td>\n",
       "      <td>0.0</td>\n",
       "    </tr>\n",
       "    <tr>\n",
       "      <th>1</th>\n",
       "      <td>2</td>\n",
       "      <td>16704</td>\n",
       "      <td>17002.0</td>\n",
       "      <td>165.0</td>\n",
       "      <td>430.0</td>\n",
       "      <td>385.0</td>\n",
       "      <td>940.0</td>\n",
       "    </tr>\n",
       "    <tr>\n",
       "      <th>2</th>\n",
       "      <td>3</td>\n",
       "      <td>23466</td>\n",
       "      <td>24436.0</td>\n",
       "      <td>753.0</td>\n",
       "      <td>1056.0</td>\n",
       "      <td>1228.0</td>\n",
       "      <td>2719.0</td>\n",
       "    </tr>\n",
       "    <tr>\n",
       "      <th>3</th>\n",
       "      <td>4</td>\n",
       "      <td>27067</td>\n",
       "      <td>29034.0</td>\n",
       "      <td>1916.0</td>\n",
       "      <td>1714.0</td>\n",
       "      <td>2824.0</td>\n",
       "      <td>5079.0</td>\n",
       "    </tr>\n",
       "    <tr>\n",
       "      <th>4</th>\n",
       "      <td>5</td>\n",
       "      <td>26180</td>\n",
       "      <td>29014.0</td>\n",
       "      <td>2915.0</td>\n",
       "      <td>2085.0</td>\n",
       "      <td>4023.0</td>\n",
       "      <td>6865.0</td>\n",
       "    </tr>\n",
       "    <tr>\n",
       "      <th>5</th>\n",
       "      <td>6</td>\n",
       "      <td>15852</td>\n",
       "      <td>19656.0</td>\n",
       "      <td>3896.0</td>\n",
       "      <td>2452.0</td>\n",
       "      <td>5218.0</td>\n",
       "      <td>8692.0</td>\n",
       "    </tr>\n",
       "    <tr>\n",
       "      <th>6</th>\n",
       "      <td>7</td>\n",
       "      <td>12314</td>\n",
       "      <td>18031.0</td>\n",
       "      <td>5681.0</td>\n",
       "      <td>3066.0</td>\n",
       "      <td>7513.0</td>\n",
       "      <td>11501.0</td>\n",
       "    </tr>\n",
       "    <tr>\n",
       "      <th>7</th>\n",
       "      <td>8</td>\n",
       "      <td>13112</td>\n",
       "      <td>24818.0</td>\n",
       "      <td>11551.0</td>\n",
       "      <td>5142.0</td>\n",
       "      <td>14783.0</td>\n",
       "      <td>21143.0</td>\n",
       "    </tr>\n",
       "    <tr>\n",
       "      <th>8</th>\n",
       "      <td>9</td>\n",
       "      <td>5395</td>\n",
       "      <td>16291.0</td>\n",
       "      <td>10951.0</td>\n",
       "      <td>6283.0</td>\n",
       "      <td>14557.0</td>\n",
       "      <td>22634.0</td>\n",
       "    </tr>\n",
       "    <tr>\n",
       "      <th>9</th>\n",
       "      <td>10</td>\n",
       "      <td>2063</td>\n",
       "      <td>20003.0</td>\n",
       "      <td>17958.0</td>\n",
       "      <td>13786.0</td>\n",
       "      <td>25409.0</td>\n",
       "      <td>43653.0</td>\n",
       "    </tr>\n",
       "  </tbody>\n",
       "</table>\n",
       "</div>"
      ],
      "text/plain": [
       "   origin  latest  ult_mean  ibnr_mean  ibnr_se  ibnr_75th  ibnr_95th\n",
       "0       1   18834   18834.0        0.0      0.0        0.0        0.0\n",
       "1       2   16704   17002.0      165.0    430.0      385.0      940.0\n",
       "2       3   23466   24436.0      753.0   1056.0     1228.0     2719.0\n",
       "3       4   27067   29034.0     1916.0   1714.0     2824.0     5079.0\n",
       "4       5   26180   29014.0     2915.0   2085.0     4023.0     6865.0\n",
       "5       6   15852   19656.0     3896.0   2452.0     5218.0     8692.0\n",
       "6       7   12314   18031.0     5681.0   3066.0     7513.0    11501.0\n",
       "7       8   13112   24818.0    11551.0   5142.0    14783.0    21143.0\n",
       "8       9    5395   16291.0    10951.0   6283.0    14557.0    22634.0\n",
       "9      10    2063   20003.0    17958.0  13786.0    25409.0    43653.0"
      ]
     },
     "execution_count": 22,
     "metadata": {},
     "output_type": "execute_result"
    }
   ],
   "source": [
    "\n",
    "from functools import reduce\n",
    "\n",
    "# Latest cumulative loss amount by origin.\n",
    "latest_origin, latest_values = zip(*get_latest(ctri0))\n",
    "latest = (\n",
    "    pd.Series(data=latest_values, index=[int(ii) for ii in latest_origin])\n",
    "    .to_frame()\n",
    "    .reset_index(drop=False)\n",
    "    .rename({\"index\": \"origin\", 0: \"latest\"}, axis=1)\n",
    ")\n",
    "\n",
    "# Mean ultimate by origin.\n",
    "ult_mean = (\n",
    "    dfults.groupby(\"origin\")[\"ult\"].mean()\n",
    "    .to_frame()\n",
    "    .reset_index(drop=False)\n",
    "    .rename({\"ult\": \"ult_mean\"}, axis=1)\n",
    ")\n",
    "\n",
    "ibnr_mean =  (\n",
    "    dfibnr.groupby(\"origin\")[\"ibnr\"].mean()\n",
    "    .to_frame()\n",
    "    .reset_index(drop=False)\n",
    "    .rename({\"ibnr\": \"ibnr_mean\"}, axis=1)\n",
    ")\n",
    "\n",
    "# Standard error of reserve distribution by origin. \n",
    "ibnr_se = (\n",
    "    dfibnr.groupby(\"origin\")[\"ibnr\"].std(ddof=1)\n",
    "    .to_frame()\n",
    "    .reset_index(drop=False)\n",
    "    .rename({\"ibnr\": \"ibnr_se\"}, axis=1)\n",
    ")\n",
    "\n",
    "# 75th percentile of reserve distribution by origin. \n",
    "ibnr_75 = (\n",
    "    dfibnr.groupby(\"origin\")[\"ibnr\"].quantile(.75)\n",
    "    .to_frame()\n",
    "    .reset_index(drop=False)\n",
    "    .rename({\"ibnr\": \"ibnr_75th\"}, axis=1)\n",
    ")\n",
    "\n",
    "# 95th percentile of reserve distribution by origin. \n",
    "ibnr_95 = (\n",
    "    dfibnr.groupby(\"origin\")[\"ibnr\"].quantile(.95)\n",
    "    .to_frame()\n",
    "    .reset_index(drop=False)\n",
    "    .rename({\"ibnr\": \"ibnr_95th\"}, axis=1)\n",
    ")\n",
    "\n",
    "# Combine into a single DataFrame.\n",
    "bcl_summary = reduce(\n",
    "    lambda df1, df2: df1.merge(df2, on=\"origin\", how=\"left\"),\n",
    "    (latest, ult_mean, ibnr_mean, ibnr_se, ibnr_75, ibnr_95)\n",
    ")\n",
    "\n",
    "# Set ult_mean for earliest origin period to latest.\n",
    "bcl_summary.at[0, \"ult_mean\"] = bcl_summary.at[0, \"latest\"]\n",
    "\n",
    "print(\"Boostrap chain ladder summary by origin:\")\n",
    "\n",
    "\n",
    "bcl_summary.round(0)\n"
   ]
  },
  {
   "cell_type": "markdown",
   "metadata": {},
   "source": [
    "\n",
    "<br> \n",
    "\n",
    "While results by origin can be useful, typically actuaries are more interested in the aggregate view. To get aggregate results, we first group by simulation number, then proceed as in the prior cell:\n"
   ]
  },
  {
   "cell_type": "code",
   "execution_count": 23,
   "metadata": {},
   "outputs": [
    {
     "name": "stdout",
     "output_type": "stream",
     "text": [
      "Boostrap chain ladder summary in total:\n"
     ]
    },
    {
     "data": {
      "text/html": [
       "<div>\n",
       "<style scoped>\n",
       "    .dataframe tbody tr th:only-of-type {\n",
       "        vertical-align: middle;\n",
       "    }\n",
       "\n",
       "    .dataframe tbody tr th {\n",
       "        vertical-align: top;\n",
       "    }\n",
       "\n",
       "    .dataframe thead th {\n",
       "        text-align: right;\n",
       "    }\n",
       "</style>\n",
       "<table border=\"1\" class=\"dataframe\">\n",
       "  <thead>\n",
       "    <tr style=\"text-align: right;\">\n",
       "      <th></th>\n",
       "      <th>latest</th>\n",
       "      <th>ult_mean</th>\n",
       "      <th>ibnr_mean</th>\n",
       "      <th>ibnr_se</th>\n",
       "      <th>ibnr_75th</th>\n",
       "      <th>ibnr_95th</th>\n",
       "    </tr>\n",
       "  </thead>\n",
       "  <tbody>\n",
       "    <tr>\n",
       "      <th>total</th>\n",
       "      <td>160987</td>\n",
       "      <td>217184.0</td>\n",
       "      <td>55787.0</td>\n",
       "      <td>18960.0</td>\n",
       "      <td>66239.0</td>\n",
       "      <td>88935.0</td>\n",
       "    </tr>\n",
       "  </tbody>\n",
       "</table>\n",
       "</div>"
      ],
      "text/plain": [
       "       latest  ult_mean  ibnr_mean  ibnr_se  ibnr_75th  ibnr_95th\n",
       "total  160987  217184.0    55787.0  18960.0    66239.0    88935.0"
      ]
     },
     "execution_count": 23,
     "metadata": {},
     "output_type": "execute_result"
    }
   ],
   "source": [
    "\n",
    "# Aggregate bootstrap chain ladder results.\n",
    "\n",
    "agg_ults = dfults.groupby(\"n\")[\"ult\"].sum()\n",
    "agg_ibnr = dfibnr.groupby(\"n\")[\"ibnr\"].sum()\n",
    "\n",
    "dsumm = {\n",
    "    \"latest\": [latest[\"latest\"].sum().item()],\n",
    "    \"ult_mean\": [agg_ults.mean().item()],\n",
    "    \"ibnr_mean\": [agg_ibnr.mean().item()],\n",
    "    \"ibnr_se\": [agg_ibnr.std(ddof=1).item()],\n",
    "    \"ibnr_75th\": [agg_ibnr.quantile(.75).item()],\n",
    "    \"ibnr_95th\": [agg_ibnr.quantile(.95).item()]\n",
    "}\n",
    "\n",
    "bcl_summary_total = pd.DataFrame().from_dict(dsumm, orient=\"columns\")\n",
    "bcl_summary_total.index = [\"total\"]\n",
    "\n",
    "print(\"Boostrap chain ladder summary in total:\")\n",
    "\n",
    "bcl_summary_total.round(0)\n"
   ]
  },
  {
   "cell_type": "markdown",
   "metadata": {},
   "source": [
    "<br>\n",
    "\n",
    "## Visualizing Bootstrap Chain Ladder Results\n",
    "\n",
    "\n",
    "We can visualize actuals and predictions together by origin out to ultimate with 90% prediction intervals for each forecast period. Starting with `sqrd_tris`, we transform the data to make it easier for plotting:\n",
    "\n",
    "\n",
    "\n"
   ]
  },
  {
   "cell_type": "code",
   "execution_count": 24,
   "metadata": {},
   "outputs": [
    {
     "data": {
      "text/html": [
       "<div>\n",
       "<style scoped>\n",
       "    .dataframe tbody tr th:only-of-type {\n",
       "        vertical-align: middle;\n",
       "    }\n",
       "\n",
       "    .dataframe tbody tr th {\n",
       "        vertical-align: top;\n",
       "    }\n",
       "\n",
       "    .dataframe thead th {\n",
       "        text-align: right;\n",
       "    }\n",
       "</style>\n",
       "<table border=\"1\" class=\"dataframe\">\n",
       "  <thead>\n",
       "    <tr style=\"text-align: right;\">\n",
       "      <th></th>\n",
       "      <th>origin</th>\n",
       "      <th>dev</th>\n",
       "      <th>bcl_mean</th>\n",
       "      <th>bcl_95th</th>\n",
       "      <th>bcl_5th</th>\n",
       "      <th>actual_value</th>\n",
       "      <th>actual_devp_ind</th>\n",
       "      <th>value</th>\n",
       "    </tr>\n",
       "  </thead>\n",
       "  <tbody>\n",
       "    <tr>\n",
       "      <th>90</th>\n",
       "      <td>10</td>\n",
       "      <td>1</td>\n",
       "      <td>2044.92690</td>\n",
       "      <td>5819.41104</td>\n",
       "      <td>2.74973</td>\n",
       "      <td>2063.0</td>\n",
       "      <td>1</td>\n",
       "      <td>2063.00000</td>\n",
       "    </tr>\n",
       "    <tr>\n",
       "      <th>91</th>\n",
       "      <td>10</td>\n",
       "      <td>2</td>\n",
       "      <td>6523.89949</td>\n",
       "      <td>16103.08545</td>\n",
       "      <td>101.75998</td>\n",
       "      <td>NaN</td>\n",
       "      <td>0</td>\n",
       "      <td>6523.89949</td>\n",
       "    </tr>\n",
       "    <tr>\n",
       "      <th>92</th>\n",
       "      <td>10</td>\n",
       "      <td>3</td>\n",
       "      <td>10661.43665</td>\n",
       "      <td>25982.44515</td>\n",
       "      <td>319.20599</td>\n",
       "      <td>NaN</td>\n",
       "      <td>0</td>\n",
       "      <td>10661.43665</td>\n",
       "    </tr>\n",
       "    <tr>\n",
       "      <th>93</th>\n",
       "      <td>10</td>\n",
       "      <td>4</td>\n",
       "      <td>13682.08149</td>\n",
       "      <td>32977.99907</td>\n",
       "      <td>611.55764</td>\n",
       "      <td>NaN</td>\n",
       "      <td>0</td>\n",
       "      <td>13682.08149</td>\n",
       "    </tr>\n",
       "    <tr>\n",
       "      <th>94</th>\n",
       "      <td>10</td>\n",
       "      <td>5</td>\n",
       "      <td>16092.90839</td>\n",
       "      <td>38453.69231</td>\n",
       "      <td>799.41542</td>\n",
       "      <td>NaN</td>\n",
       "      <td>0</td>\n",
       "      <td>16092.90839</td>\n",
       "    </tr>\n",
       "    <tr>\n",
       "      <th>95</th>\n",
       "      <td>10</td>\n",
       "      <td>6</td>\n",
       "      <td>17973.94826</td>\n",
       "      <td>42833.83253</td>\n",
       "      <td>934.59346</td>\n",
       "      <td>NaN</td>\n",
       "      <td>0</td>\n",
       "      <td>17973.94826</td>\n",
       "    </tr>\n",
       "    <tr>\n",
       "      <th>96</th>\n",
       "      <td>10</td>\n",
       "      <td>7</td>\n",
       "      <td>18718.07392</td>\n",
       "      <td>45366.39099</td>\n",
       "      <td>1007.06181</td>\n",
       "      <td>NaN</td>\n",
       "      <td>0</td>\n",
       "      <td>18718.07392</td>\n",
       "    </tr>\n",
       "    <tr>\n",
       "      <th>97</th>\n",
       "      <td>10</td>\n",
       "      <td>8</td>\n",
       "      <td>19360.64161</td>\n",
       "      <td>46870.52200</td>\n",
       "      <td>1052.26676</td>\n",
       "      <td>NaN</td>\n",
       "      <td>0</td>\n",
       "      <td>19360.64161</td>\n",
       "    </tr>\n",
       "    <tr>\n",
       "      <th>98</th>\n",
       "      <td>10</td>\n",
       "      <td>9</td>\n",
       "      <td>19813.97172</td>\n",
       "      <td>47265.73702</td>\n",
       "      <td>1067.22772</td>\n",
       "      <td>NaN</td>\n",
       "      <td>0</td>\n",
       "      <td>19813.97172</td>\n",
       "    </tr>\n",
       "    <tr>\n",
       "      <th>99</th>\n",
       "      <td>10</td>\n",
       "      <td>10</td>\n",
       "      <td>20003.07058</td>\n",
       "      <td>47960.10396</td>\n",
       "      <td>1225.34543</td>\n",
       "      <td>NaN</td>\n",
       "      <td>0</td>\n",
       "      <td>20003.07058</td>\n",
       "    </tr>\n",
       "  </tbody>\n",
       "</table>\n",
       "</div>"
      ],
      "text/plain": [
       "    origin  dev     bcl_mean     bcl_95th     bcl_5th  actual_value  \\\n",
       "90      10    1   2044.92690   5819.41104     2.74973        2063.0   \n",
       "91      10    2   6523.89949  16103.08545   101.75998           NaN   \n",
       "92      10    3  10661.43665  25982.44515   319.20599           NaN   \n",
       "93      10    4  13682.08149  32977.99907   611.55764           NaN   \n",
       "94      10    5  16092.90839  38453.69231   799.41542           NaN   \n",
       "95      10    6  17973.94826  42833.83253   934.59346           NaN   \n",
       "96      10    7  18718.07392  45366.39099  1007.06181           NaN   \n",
       "97      10    8  19360.64161  46870.52200  1052.26676           NaN   \n",
       "98      10    9  19813.97172  47265.73702  1067.22772           NaN   \n",
       "99      10   10  20003.07058  47960.10396  1225.34543           NaN   \n",
       "\n",
       "    actual_devp_ind        value  \n",
       "90                1   2063.00000  \n",
       "91                0   6523.89949  \n",
       "92                0  10661.43665  \n",
       "93                0  13682.08149  \n",
       "94                0  16092.90839  \n",
       "95                0  17973.94826  \n",
       "96                0  18718.07392  \n",
       "97                0  19360.64161  \n",
       "98                0  19813.97172  \n",
       "99                0  20003.07058  "
      ]
     },
     "execution_count": 24,
     "metadata": {},
     "output_type": "execute_result"
    }
   ],
   "source": [
    "\n",
    "\n",
    "dflist = []\n",
    "\n",
    "for tri in sqrd_ctris:\n",
    "\n",
    "    dftri = (\n",
    "        tri.to_pandas().set_index(\"ORIGIN\")\n",
    "        .reset_index(drop=False)\n",
    "        .rename_axis(None, axis=1)\n",
    "        .rename({\"ORIGIN\": \"origin\"}, axis=1)\n",
    "        .melt(id_vars=\"origin\", var_name=\"dev\", value_name=\"bcl_value\")\n",
    "    )\n",
    "\n",
    "    dflist.append(dftri)\n",
    "\n",
    "\n",
    "\n",
    "df = pd.concat(dflist)\n",
    "df[\"dev\"] = df[\"dev\"].astype(int)\n",
    "df = df.sort_values([\"origin\", \"dev\"]).reset_index(drop=True)\n",
    "\n",
    "# Compute mean, 5th and 95th percentile of prediction interval for each forecast period.\n",
    "df = (\n",
    "    df\n",
    "    .groupby([\"origin\", \"dev\"], as_index=False)[\"bcl_value\"]\n",
    "    .agg({\n",
    "        \"bcl_mean\": lambda v: v.mean(), \n",
    "        \"bcl_95th\": lambda v: v.quantile(.95),\n",
    "        \"bcl_5th\": lambda v: v.quantile(.05)\n",
    "    })\n",
    ")\n",
    "\n",
    "# Attach actual values from original cumulative triangle.\n",
    "dfctri0 = (\n",
    "    ctri0.to_pandas().set_index(\"ORIGIN\")\n",
    "    .reset_index(drop=False)\n",
    "    .rename_axis(None, axis=1)\n",
    "    .rename({\"ORIGIN\": \"origin\"}, axis=1)\n",
    "    .melt(id_vars=\"origin\", var_name=\"dev\", value_name=\"actual_value\")\n",
    ")\n",
    "dfctri0[\"dev\"] = dfctri0[\"dev\"].astype(int)\n",
    "\n",
    "df = df.merge(dfctri0, on=[\"origin\", \"dev\"], how=\"left\")\n",
    "\n",
    "# If actual_value is nan, then dev is a prediction for that origin. Otherwise\n",
    "# it is an actual value. \n",
    "df[\"actual_devp_ind\"] = df[\"actual_value\"].map(lambda v: 1 if not np.isnan(v) else 0)\n",
    "df[\"value\"] = df.apply(lambda r: r.bcl_mean if r.actual_devp_ind==0 else r.actual_value, axis=1)\n",
    "\n",
    "df.tail(10)\n"
   ]
  },
  {
   "cell_type": "markdown",
   "metadata": {},
   "source": [
    "<br>\n",
    "\n",
    "Actuals with forecasts by origin year with 90% prediction intervals:"
   ]
  },
  {
   "cell_type": "code",
   "execution_count": 25,
   "metadata": {},
   "outputs": [
    {
     "data": {
      "image/png": "[encoded data removed]",
      "text/plain": [
       "<Figure size 1000x800 with 9 Axes>"
      ]
     },
     "metadata": {},
     "output_type": "display_data"
    }
   ],
   "source": [
    "\n",
    "import matplotlib as mpl\n",
    "from matplotlib.ticker import MaxNLocator\n",
    "\n",
    "\n",
    "fill_color = \"#FFC04C\"\n",
    "\n",
    "\n",
    "# Assume 9 origin periods (no distribution of fully-developed oldest origin period)\n",
    "indices = [(0, 0), (0, 1), (0, 2), (1, 0), (1, 1), (1, 2), (2, 0), (2, 1), (2, 2)]\n",
    "origin_periods = [1, 2, 3, 4, 5, 6, 7, 8, 9, 10]\n",
    "\n",
    "fig, ax = plt.subplots(3, 3, figsize=(10, 8), tight_layout=True, sharex=True) \n",
    "\n",
    "for (ii, jj), origin in zip(indices, origin_periods):\n",
    "\n",
    "    dforigin = df[df.origin==origin]\n",
    "\n",
    "    ax[ii, jj].set_title(f\"{origin}\", fontsize=8)\n",
    "\n",
    "    # Get last actual development period for origin.\n",
    "    last_actual_devp = dforigin[dforigin.actual_devp_ind==1].dev.max()\n",
    "\n",
    "    # Actual values.\n",
    "    act_dev = dforigin[dforigin.actual_devp_ind==1].dev.tolist()\n",
    "    act_val = dforigin[dforigin.actual_devp_ind==1].value.tolist()\n",
    "\n",
    "    # Predicted values.\n",
    "    pred_dev = [last_actual_devp] + dforigin[dforigin.actual_devp_ind==0].dev.tolist()\n",
    "    pred_val = [act_val[-1]] + dforigin[dforigin.actual_devp_ind==0].value.tolist()\n",
    "\n",
    "    # 5th and 95th percentiles.\n",
    "    pred_5th = [act_val[-1]] +  dforigin[dforigin.actual_devp_ind==0].bcl_5th.tolist()\n",
    "    pred_95th = [act_val[-1]] + dforigin[dforigin.actual_devp_ind==0].bcl_95th.tolist()\n",
    "\n",
    "    ax[ii, jj].plot(\n",
    "        pred_dev, pred_val, \"o\", markersize=7, color=\"#1d2951\", markerfacecolor=\"#FFFFFF\", \n",
    "        markeredgecolor=\"#1d2951\", markeredgewidth=.35, linestyle=\"--\", linewidth=1., label=\"predicted\"\n",
    "    )\n",
    "\n",
    "    ax[ii, jj].plot(\n",
    "        act_dev, act_val, \"o\", markersize=7, color=\"#1d2951\", markerfacecolor=\"#1d2951\", \n",
    "         markeredgecolor=\"#1d2951\", markeredgewidth=.35, linestyle=\"-\", linewidth=1., label=\"actual\"\n",
    "    )\n",
    "\n",
    "    ax[ii, jj].plot(\n",
    "        pred_dev, pred_95th, color=\"#000000\", linestyle=\":\",  # color=\"#FFFFB2\",\n",
    "        linewidth=.75, label=\"95th percentile\"\n",
    "    )\n",
    "\n",
    "    ax[ii, jj].plot(\n",
    "        pred_dev, pred_5th, color=\"#000000\", linestyle=\"-.\",  # color=\"#FFFFB2\",\n",
    "        linewidth=.75, label=\"5th percentile\"\n",
    "    )\n",
    "\n",
    "    ax[ii, jj].fill_between(pred_dev, pred_5th, pred_95th, color=fill_color, alpha=.50)\n",
    "    ax[ii, jj].xaxis.set_major_formatter(mpl.ticker.StrMethodFormatter(\"{x:,.0f}\"))\n",
    "    ax[ii, jj].get_yaxis().set_major_formatter(mpl.ticker.FuncFormatter(lambda x, p: format(int(x), ',')))\n",
    "    ax[ii, jj].tick_params(axis=\"x\", which=\"major\", direction='in', labelsize=7)\n",
    "    ax[ii, jj].tick_params(axis=\"y\", which=\"major\", direction='in', labelsize=7)\n",
    "    ax[ii, jj].xaxis.set_ticks_position(\"none\")\n",
    "    ax[ii, jj].yaxis.set_ticks_position(\"none\")\n",
    "    ax[ii, jj].grid(True)   \n",
    "    ax[ii, jj].set_axisbelow(True) \n",
    "    ax[ii, jj].legend(loc=\"upper left\", fancybox=True, framealpha=1, fontsize=\"x-small\")\n",
    "\n",
    "plt.suptitle(\"Bootstrap chain ladder forecasts with 90% prediction interval\", fontsize=10, weight=\"bold\")\n",
    "\n",
    "plt.show()\n"
   ]
  },
  {
   "cell_type": "markdown",
   "metadata": {},
   "source": [
    "\n",
    "<br>\n",
    "\n",
    "As expected, the prediction intervals grow wider for origin periods with fewer development periods of actual data to account for the greater uncertainty in ultimate projections.\n",
    "\n",
    "Second, an exhibit with a separate histogram per facet can be used to visualize the distribution of IBNR generated by the bootstrap chain ladder:"
   ]
  },
  {
   "cell_type": "code",
   "execution_count": 26,
   "metadata": {},
   "outputs": [
    {
     "data": {
      "image/png": "[encoded data removed]",
      "text/plain": [
       "<Figure size 1000x700 with 9 Axes>"
      ]
     },
     "metadata": {},
     "output_type": "display_data"
    }
   ],
   "source": [
    "\n",
    "import matplotlib as mpl\n",
    "import matplotlib.pyplot as plt\n",
    "\n",
    "\n",
    "# Color for each histogram.\n",
    "hist_color = \"#5473ff\"\n",
    "\n",
    "# Assume 9 origin periods (no distribution of fully-developed oldest origin period)\n",
    "indices = [(0, 0), (0, 1), (0, 2), (1, 0), (1, 1), (1, 2), (2, 0), (2, 1), (2, 2)]\n",
    "origin_periods = [1, 2, 3, 4, 5, 6, 7, 8, 9, 10]\n",
    "\n",
    "fig, ax = plt.subplots(3, 3, figsize=(10, 7), tight_layout=True) \n",
    "\n",
    "for (ii, jj), origin in zip(indices, origin_periods):\n",
    "    ax[ii, jj].set_title(str(origin), fontsize=8, weight=\"normal\")\n",
    "    ax[ii, jj].hist(\n",
    "        dfibnr[dfibnr.origin==origin].ibnr, 20, density=True, alpha=1, \n",
    "        color=hist_color, edgecolor=\"#FFFFFF\", linewidth=1.0\n",
    "        )\n",
    "    \n",
    "    # ax[ii, jj].yaxis.set_major_formatter(mpl.ticker.StrMethodFormatter(\"{x:,.0f}\"))\n",
    "    ax[ii, jj].set_yticklabels([])\n",
    "    ax[ii, jj].xaxis.set_major_formatter(mpl.ticker.StrMethodFormatter(\"{x:,.0f}\"))\n",
    "    ax[ii, jj].tick_params(axis=\"x\", which=\"major\", direction='in', labelsize=6)\n",
    "    ax[ii, jj].tick_params(axis=\"x\", which=\"minor\", direction='in', labelsize=6)\n",
    "    ax[ii, jj].tick_params(axis=\"y\", which=\"major\", direction='in', labelsize=6)\n",
    "    ax[ii, jj].tick_params(axis=\"y\", which=\"minor\", direction='in', labelsize=6)\n",
    "    ax[ii, jj].xaxis.set_ticks_position(\"none\")\n",
    "    ax[ii, jj].yaxis.set_ticks_position(\"none\")\n",
    "    ax[ii, jj].grid(True)   \n",
    "    ax[ii, jj].set_axisbelow(True) \n",
    "\n",
    "plt.suptitle(\"Boostrap chain ladder: IBNR by origin\", fontsize=9, weight=\"bold\")\n",
    "plt.show()\n"
   ]
  },
  {
   "cell_type": "markdown",
   "metadata": {},
   "source": [
    "\n",
    "<br>\n",
    "\n",
    "\n",
    "\n",
    "Finally, we can create a similar exhibit for the aggregate distribution of IBNR, with vertical lines added at the 50th, 75th, 95th and 99th percentile of total needed reserve:"
   ]
  },
  {
   "cell_type": "code",
   "execution_count": 27,
   "metadata": {},
   "outputs": [
    {
     "data": {
      "image/png": "[encoded data removed]",
      "text/plain": [
       "<Figure size 750x525 with 1 Axes>"
      ]
     },
     "metadata": {},
     "output_type": "display_data"
    }
   ],
   "source": [
    "\n",
    "hist_color = \"#5473ff\"\n",
    "\n",
    "dfibnr_total = dfibnr.groupby(\"n\", as_index=False)[\"ibnr\"].sum()\n",
    "ibnr_total = dfibnr_total[\"ibnr\"].values\n",
    "ibnr_50 = np.quantile(ibnr_total, .50).item()\n",
    "ibnr_75 = np.quantile(ibnr_total, .75).item()\n",
    "ibnr_95 = np.quantile(ibnr_total, .95).item()\n",
    "ibnr_99 = np.quantile(ibnr_total, .99).item()\n",
    "\n",
    "fig, ax = plt.subplots(1, 1, figsize=(7.5, 5.25), tight_layout=True) \n",
    "\n",
    "ax.set_title(\"Bootstrap chain ladder: total IBNR\", fontsize=10, weight=\"bold\")\n",
    "\n",
    "ax.hist(\n",
    "    ibnr_total, 27, density=True, alpha=1, color=hist_color, \n",
    "    edgecolor=\"#FFFFFF\", linewidth=1.0\n",
    "    )\n",
    "\n",
    "# 50th percentile.\n",
    "ax.axvline(ibnr_50, color=\"#000000\", linewidth=1.25, linestyle=\"--\")\n",
    "ax.annotate(\n",
    "    r\"$p_{{50}} = {:,.0f}$\".format(ibnr_50), xycoords=\"data\", xy=(ibnr_50, 2e-5),\n",
    "    fontsize=11, rotation=90, weight=\"normal\", color=\"#000000\", xytext=(10, 0), \n",
    "    textcoords=\"offset pixels\"\n",
    ")\n",
    "\n",
    "# 75th percentile.\n",
    "ax.axvline(ibnr_75, color=\"#000000\", linewidth=1.25, linestyle=\"--\")\n",
    "ax.annotate(\n",
    "    r\"$p_{{75}} = {:,.0f}$\".format(ibnr_75), xycoords=\"data\", xy=(ibnr_75, 2e-5),\n",
    "    fontsize=11, rotation=90, weight=\"normal\", color=\"#000000\", xytext=(10, 0), \n",
    "    textcoords=\"offset pixels\"\n",
    ")\n",
    "\n",
    "# 95th percentile.\n",
    "ax.axvline(ibnr_95, color=\"#000000\", linewidth=1.25, linestyle=\"--\")\n",
    "ax.annotate(\n",
    "    r\"$p_{{95}} = {:,.0f}$\".format(ibnr_95), xycoords=\"data\", xy=(ibnr_95, 2e-5),\n",
    "    fontsize=11, rotation=90, weight=\"normal\", color=\"#000000\", xytext=(10, 0), \n",
    "    textcoords=\"offset pixels\"\n",
    ")\n",
    "\n",
    "# 99th percentile.\n",
    "ax.axvline(ibnr_99, color=\"#000000\", linewidth=1.25, linestyle=\"--\")\n",
    "ax.annotate(\n",
    "    r\"$p_{{99}} = {:,.0f}$\".format(ibnr_99), xycoords=\"data\", xy=(ibnr_99, 2e-5),\n",
    "    fontsize=11, rotation=90, weight=\"normal\", color=\"#000000\", xytext=(10, 0), \n",
    "    textcoords=\"offset pixels\"\n",
    ")\n",
    "\n",
    "# ax[ii, jj].yaxis.set_major_formatter(mpl.ticker.StrMethodFormatter(\"{x:,.0f}\"))\n",
    "ax.set_yticklabels([])\n",
    "ax.xaxis.set_major_formatter(mpl.ticker.StrMethodFormatter(\"{x:,.0f}\"))\n",
    "ax.tick_params(axis=\"x\", which=\"major\", direction='in', labelsize=8)\n",
    "# ax.tick_params(axis=\"x\", which=\"minor\", direction='in', labelsize=8)\n",
    "ax.tick_params(axis=\"y\", which=\"major\", direction='in', labelsize=8)\n",
    "# ax.tick_params(axis=\"y\", which=\"minor\", direction='in', labelsize=8)\n",
    "ax.xaxis.set_ticks_position(\"none\")\n",
    "ax.yaxis.set_ticks_position(\"none\")\n",
    "ax.grid(True)   \n",
    "ax.set_axisbelow(True) \n",
    "plt.show()\n"
   ]
  }
 ],
 "metadata": {
  "kernelspec": {
   "display_name": "polars",
   "language": "python",
   "name": "python3"
  },
  "language_info": {
   "codemirror_mode": {
    "name": "ipython",
    "version": 3
   },
   "file_extension": ".py",
   "mimetype": "text/x-python",
   "name": "python",
   "nbconvert_exporter": "python",
   "pygments_lexer": "ipython3",
   "version": "3.12.8"
  }
 },
 "nbformat": 4,
 "nbformat_minor": 2
}
