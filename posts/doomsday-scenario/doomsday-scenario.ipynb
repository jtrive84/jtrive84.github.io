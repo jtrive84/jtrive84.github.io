{
 "cells": [
  {
   "cell_type": "raw",
   "metadata": {},
   "source": [
    "---\n",
    "title: The Doomsday Argument\n",
    "date: 2024-03-16\n",
    "description: Walking through the probabilities associated with the doomsday argument\n",
    "categories: [Other]\n",
    "---"
   ]
  },
  {
   "cell_type": "markdown",
   "metadata": {},
   "source": [
    "A few years ago, Lex Fridman had [Nick Bostrom as a guest on his podcast](https://www.youtube.com/watch?v=rfKiTGj-zeQ&t=4424s). They discussed many topics, but of particular interest for me was the Doomsday Argument, a controversial hypothesis regarding the estimation of the remaining lifespan of the human species. It proposes that based on statistical reasoning and the assumption that humans are not special in the grand scheme of things, one can estimate the likelihood of humanity's extinction.\n",
    "It is a probabilistic argument that claims to predict the number of future members of the human species given an estimate of the total number of humans born so far. Supposing all humans are born in a random order, chances are that any one human is born roughly in the middle. The argument has three main points:\n",
    "\n",
    "1. Assuming that humans are a random sample from all humans that will ever exist, the probability that any individual is born at a particular time in human history is proportional to the population size at that time.\n",
    "\n",
    "2. Based on historical population data, one can estimate the total number of humans who have ever lived up to the present.\n",
    "\n",
    "3. Under the assumption that humans will continue to reproduce at a roughly constant rate until extinction, the argument suggests that since you are observing humanity at a random point in its history, it is statistically more likely that you are living closer to the midpoint of human existence rather than at the beginning or end.\n",
    "\n",
    "\n",
    "In the podcast, Bostrom suggests that we have systematically underestimated the probability that humanity will go extinct soon, and uses sampling from two urns and observing the results as an analogy:\n",
    "\n",
    "Imagine we have two urns: The first (urn A) has 10 balls numbered 1 thru 10, and the second (urn B) has 1,000,000 balls numbered 1-1,000,000. Someone puts one urn in front of you, and asks you what is the probability that it is the 10 ball urn? With no other information, as a rational participant you might say 50%.\n",
    "\n",
    "But you are then allowed to reach in and pick a ball at random from the urn. Suppose you draw a ball at random, and find that you've drawn a ball with 7 on it. Drawing a 7 is strong evidence for the 10 ball urn, since the probability \n",
    "of drawing a 7 from the 10 ball urn is 10%, while the probability of drawing a\n",
    "7 from the 1,000,000 ball urn is .00001%. \n",
    "\n",
    "You then perform a Bayesian update: If your prior was 50/50 for the 10 ball urn, \n",
    "you become virtually certain after finding a randomly sampled 7 that it only has \n",
    "10 balls in it. \n",
    "\n",
    "Let:\n",
    "\n",
    "- $P[A]$ = Prior probability that the unknown urn is urn A = .50.\n",
    "- $P[B]$ = Prior probability that the unknown urn is urn B = .50.\n",
    "- $P[U|X]$ = Given a randomly drawn ball $X$, the probability that it came from urn $U$.\n",
    "- $P[X|U]$ = Given that a random draw originates from urn $U$, the probability of observing the drawn $X$.\n",
    "\n",
    "The expression for the Bayesian update is then:\n",
    "\n",
    "$$\n",
    "P[U|X] = \\frac{P[X|U]P[U]}{P[X]}\n",
    "$$\n",
    "\n",
    "We know $P[X=7|A] = .10$ and $P[X=7|B] = .000001$, since there are 10 balls in urn $A$ and 1,000,000 balls in urn $B$, and each has an equally likely chance of being drawn.\n",
    "\n",
    "\n",
    "After observing a 7, For urn A we have:\n",
    "\n",
    "$$\n",
    "P[A|X=7] = \\frac{P[X=7|A]P[A]}{P[X=7|A]P[A] + P[X=7|B]P[B]} = \\frac{.10 \\times .50}{.10 \\times .50 + .000001 \\times .50} \\approx 0.99999.\n",
    "$$\n",
    "\n",
    "\n",
    "After observing a 7, For urn B we have:\n",
    "\n",
    "$$\n",
    "P[B|X=7] = \\frac{P[X=7|B]P[B]}{P[X=7|A]P[A] + P[X=7|B]P[B]} = \\frac{.000001 \\times .50}{.10 \\times .50 + .000001 \\times .50} \\approx 9.9999 \\times 10^{-6}.\n",
    "$$\n",
    "\n",
    "Therefore, there is a greater than 99.99% probability that the unknown urn is urn $A$ given the observed 7. \n",
    "\n",
    "\n",
    "The Doomsday argument asks how many humans will have lived by the time the species goes extinct. \n",
    "\n",
    "Suppose we consider 2 hypotheses: \n",
    "\n",
    "- There will be **200,000,000,000** humans (200 billion) in total.\n",
    "- There will be **200,000,000,000,000** humans (200 trillion) in total.\n",
    "\n",
    "\n",
    "\n",
    "\n",
    "Take your own birth rank as a random sample (your position in the sequence of all humans who have\n",
    "ever lived), and reason that you are a random sample from the set of all humans who have\n",
    "ever existed. It turns out you are roughly human 100 billion. If there are only going to be a total of 200 billion humans that ever live, 100 billion is a perfectly unremarkable number, and your actual birth rank lies somewhere in the middle. \n",
    "\n",
    "But if there are going to be 200 trillion humans, then a birth rank of 100 billion is remarkably early \n",
    "(100,000,000,000 / 200,000,000,000,000 = 0.0005). \n",
    "\n",
    "When considering these two hypotheses, you should update in favor of the human species having a lower \n",
    "total number of members (what Bostrom calls \"doom soon\"). \n",
    "\n",
    "He goes on to summarize that there has to be something \"fishy\" with this argument, because from very weak premises, \n",
    "it gets a very striking implication, that we have almost no chance of reaching 200T humans in the future. How can we get there by simply reflecting on when we were born?\n"
   ]
  },
  {
   "cell_type": "raw",
   "metadata": {},
   "source": []
  },
  {
   "cell_type": "raw",
   "metadata": {},
   "source": []
  }
 ],
 "metadata": {
  "kernelspec": {
   "display_name": "py311",
   "language": "python",
   "name": "py311"
  },
  "language_info": {
   "codemirror_mode": {
    "name": "ipython",
    "version": 3
   },
   "file_extension": ".py",
   "mimetype": "text/x-python",
   "name": "python",
   "nbconvert_exporter": "python",
   "pygments_lexer": "ipython3",
   "version": "3.11.7"
  }
 },
 "nbformat": 4,
 "nbformat_minor": 2
}
