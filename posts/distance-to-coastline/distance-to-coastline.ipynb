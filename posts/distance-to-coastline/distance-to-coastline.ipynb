{
 "cells": [
  {
   "cell_type": "raw",
   "metadata": {
    "vscode": {
     "languageId": "raw"
    }
   },
   "source": [
    "---\n",
    "title: Determining Distance to Coastline for Policy Locations Using GeoPandas\n",
    "date: 2024-10-14\n",
    "description: Determining distance to coastline for policy locations using GeoPandas\n",
    "categories: [Python, Geospatial]\n",
    "---"
   ]
  },
  {
   "cell_type": "markdown",
   "metadata": {
    "vscode": {
     "languageId": "raw"
    }
   },
   "source": [
    "\n",
    "Knowing the distance to coastline for an exposure is crucial for insurance rating applications because it helps insurers assess the risk of hazards like hurricanes, storm surges, and flooding, which are much more prevalent in coastal areas. This information allows insurers to make informed decisions about pricing, underwriting and reinsurance. Properties closer to the coast are generally at higher risk, leading to higher premiums for these properties. Insurance rating plans may use distance to coastline directly as an explanatory variable, with factors inversely proportional to distance to coastline. \n",
    "\n",
    "This article walks through how GeoPandas can be used to calculate distance to coastline for a collection of simulated latitude-longitude pairs in the Florida region, and how these exposure locations can be assigned to different risk levels based on the distance calculation. \n",
    "\n",
    "<br>\n",
    "\n",
    "\n",
    "### Coastal Shapefiles\n",
    "\n",
    "The United States Census Bureau provides shapefiles for state, county and ZCTA boundaries as well as roads, rails an coastlines (see full list [here](https://www2.census.gov/geo/tiger/TIGER2024/2024_TL_Shapefiles_File_Name_Definitions.pdf)). Shapefiles are a widely-used geospatial vector data format that store the geometric location and attribute information of geographic features, which can be represented as points, lines, or polygons. \n",
    "\n",
    "\n",
    "We being by downloading the COASTLINE zip archive available on the Census Bureau's [FTP site](https://www2.census.gov/geo/tiger/TIGER2024/COASTLINE/). The COASTLINE shapefile is loaded into GeoPandas (the STATE shapefile is also loaded for later use). We limit our analysis to the continental United States and filter out the Great Lakes. Inspecting the first few records:\n",
    "\n"
   ]
  },
  {
   "cell_type": "code",
   "execution_count": null,
   "metadata": {},
   "outputs": [],
   "source": [
    "\n",
    "import numpy as np\n",
    "import pandas as pd\n",
    "import geopandas as gpd\n",
    "\n",
    "np.set_printoptions(suppress=True, precision=5)\n",
    "pd.options.mode.chained_assignment = None\n",
    "pd.set_option('display.max_columns', None)\n",
    "pd.set_option('display.width', None)\n",
    "\n",
    "\n",
    "coastline_shp = \"tl_2024_us_coastline.zip\"\n",
    "us_shp = \"tl_2024_us_state.zip\"\n",
    "\n",
    "\n",
    "# Bounding box of lower 48 states. Remove Great Lakes.\n",
    "xmin, ymin, xmax, ymax = -125, 24.6, -65, 50\n",
    "coast = gpd.read_file(coastline_shp)\n",
    "coast = coast.cx[xmin:xmax, ymin:ymax]\n",
    "coast = coast[coast.NAME!=\"Great Lakes\"].reset_index(drop=True)\n",
    "\n",
    "# State boundaries.\n",
    "states = gpd.read_file(us_shp)[[\"NAME\", \"geometry\"]]\n",
    "states = states.cx[xmin:xmax, ymin:ymax].reset_index(drop=True)\n",
    "\n",
    "print(f\"coast.shape : {coast.shape}\")\n",
    "print(f\"states.shape: {states.shape}\")\n",
    "\n",
    "coast.head(10)\n"
   ]
  },
  {
   "cell_type": "markdown",
   "metadata": {},
   "source": [
    "\n",
    "<br>\n",
    "\n",
    "The coastline shapefile is comprised of ~3,000 LINESTRING objects. Let's get a count of geometries by NAME:"
   ]
  },
  {
   "cell_type": "code",
   "execution_count": null,
   "metadata": {},
   "outputs": [],
   "source": [
    "\n",
    "coast[\"NAME\"].value_counts().sort_index()\n"
   ]
  },
  {
   "cell_type": "markdown",
   "metadata": {},
   "source": [
    "\n",
    "<br>"
   ]
  },
  {
   "cell_type": "markdown",
   "metadata": {},
   "source": [
    "\n",
    "<br> \n",
    "\n",
    "We can visualize the coastline by calling the `coast` GeoDataFrame's `plot` method:\n"
   ]
  },
  {
   "cell_type": "code",
   "execution_count": null,
   "metadata": {},
   "outputs": [],
   "source": [
    "\n",
    "import matplotlib.pyplot as plt\n",
    "\n",
    "fig, ax = plt.subplots(1, 1, figsize=(8, 6), tight_layout=True)\n",
    "ax.set_title(\"Lower 48 Coastline\", fontsize=9)\n",
    "coast.plot(ax=ax, edgecolor=\"red\", linewidth=1.0)\n",
    "ax.axis(\"off\")\n",
    "plt.show()\n"
   ]
  },
  {
   "cell_type": "markdown",
   "metadata": {},
   "source": [
    "\n",
    "<br> \n",
    "\n",
    "To overlay the coastline along with state boundaries, download the STATE shapefile from the Census Bureau's FTP site and plot them together:"
   ]
  },
  {
   "cell_type": "code",
   "execution_count": null,
   "metadata": {},
   "outputs": [],
   "source": [
    "\n",
    "fig, ax = plt.subplots(1, 1, figsize=(8, 6), tight_layout=True)\n",
    "ax.set_title(\"Lower 48 States with Coastline\", fontsize=9)\n",
    "coast.plot(ax=ax, edgecolor=\"red\", linewidth=1.50, linestyle=\"--\")\n",
    "states.boundary.plot(ax=ax, edgecolor=\"black\", linewidth=0.50)\n",
    "ax.axis(\"off\")\n",
    "plt.show()"
   ]
  },
  {
   "cell_type": "markdown",
   "metadata": {},
   "source": [
    "\n",
    "<br>\n",
    "\n",
    "Let's next generate synthetic latitude-longitude pairs from within the Florida bounding envelope. The envelope bounds can be obtained from Florida's geometry as follows:"
   ]
  },
  {
   "cell_type": "code",
   "execution_count": null,
   "metadata": {},
   "outputs": [],
   "source": [
    "\n",
    "\n",
    "# Get bounding box for each state.\n",
    "states[\"bbox\"] = states.geometry.map(lambda gg: gg.envelope.bounds)\n",
    "\n",
    "# Put coordinates in separate columns.\n",
    "states[[\"lon0\", \"lat0\", \"lon1\", \"lat1\"]] = pd.DataFrame(states.bbox.tolist(), index=states.index)\n",
    "\n",
    "states.head()\n"
   ]
  },
  {
   "cell_type": "markdown",
   "metadata": {},
   "source": [
    "\n",
    "<br>\n",
    "\n",
    "\n",
    "\n",
    "Let's draw the bounding region using folium:\n",
    "\n"
   ]
  },
  {
   "cell_type": "code",
   "execution_count": null,
   "metadata": {},
   "outputs": [],
   "source": [
    "\n",
    "import folium \n",
    "\n",
    "# Florida bounding box. \n",
    "lon0, lat0, lon1, lat1 = states[states.NAME==\"Florida\"].bbox.item()\n",
    "\n",
    "mlat, mlon = (lat0 + lat1) / 2, (lon0 + lon1) / 2\n",
    "\n",
    "m = folium.Map(\n",
    "    location=[mlat, mlon], \n",
    "    zoom_start=6, \n",
    "    zoom_control=True, \n",
    "    no_touch=True,\n",
    "    tiles=\"OpenStreetMap\"\n",
    "    )\n",
    "\n",
    "folium.Rectangle(\n",
    "    [(lat0, lon0), (lat1, lon1)], \n",
    "    fill_color=\"blue\", fill_opacity=.05\n",
    "    ).add_to(m)\n",
    "\n",
    "m\n"
   ]
  },
  {
   "cell_type": "markdown",
   "metadata": {},
   "source": [
    "\n",
    "<br>\n",
    "\n",
    "Sampling from the bounding region highlighted above will result in many points in the Gulf. Let's narrow the sampling space:"
   ]
  },
  {
   "cell_type": "code",
   "execution_count": null,
   "metadata": {},
   "outputs": [],
   "source": [
    "\n",
    "lon0, lat0, lon1, lat1 = (-80.5, 26, -81.75, 28)\n",
    "\n",
    "mlat, mlon = (lat0 + lat1) / 2, (lon0 + lon1) / 2\n",
    "\n",
    "m = folium.Map(\n",
    "    location=[mlat, mlon], \n",
    "    zoom_start=7, \n",
    "    zoom_control=True, \n",
    "    no_touch=True,\n",
    "    tiles=\"OpenStreetMap\"\n",
    "    )\n",
    "\n",
    "folium.Rectangle(\n",
    "    [(lat0, lon0), (lat1, lon1)], \n",
    "    fill_color=\"blue\", fill_opacity=.05\n",
    "    ).add_to(m)\n",
    "\n",
    "m"
   ]
  },
  {
   "cell_type": "code",
   "execution_count": 9,
   "metadata": {},
   "outputs": [],
   "source": [
    "\n",
    "# Sample within bounds defined by lat0, lon0, lat1, lon1. \n",
    "\n",
    "nbr_locations = 50\n",
    "\n",
    "rng = np.random.default_rng(516)\n",
    "\n",
    "rlats = rng.uniform(low=lat0, high=lat1, size=nbr_locations)\n",
    "rlons = rng.uniform(low=lon1, high=lon0, size=nbr_locations)\n",
    "points = list(zip(rlats, rlons))\n"
   ]
  },
  {
   "cell_type": "markdown",
   "metadata": {},
   "source": [
    "\n",
    "<br>\n",
    "\n",
    "\n",
    "Visualizing the synthetic locations:\n"
   ]
  },
  {
   "cell_type": "code",
   "execution_count": null,
   "metadata": {},
   "outputs": [],
   "source": [
    "\n",
    "m = folium.Map(location=[mlat, mlon], zoom_start=8)\n",
    "\n",
    "for lat, lon in points:\n",
    "\n",
    "    folium.CircleMarker(\n",
    "        location=[lat, lon], \n",
    "        radius=5, \n",
    "        color=\"red\", \n",
    "        fill_color=\"red\", \n",
    "        fill=True,\n",
    "        fill_opacity=1\n",
    "        ).add_to(m)\n",
    "\n",
    "m\n"
   ]
  },
  {
   "cell_type": "markdown",
   "metadata": {},
   "source": [
    "\n",
    "<br>\n",
    "\n",
    "Next the `points` list needs to be represented as a GeoDataFrame, using the generated points as the geometry. We set `\"crs=EPSG:4326\"` representing longitude-latitude pairs. A policy_id is included as an identifier for each point. \n"
   ]
  },
  {
   "cell_type": "code",
   "execution_count": null,
   "metadata": {},
   "outputs": [],
   "source": [
    "\n",
    "dfpoints = pd.DataFrame({\n",
    "    \"policy_id\": [str(ii).zfill(7) for ii in range(len(points))],\n",
    "    \"lat\": rlats, \n",
    "    \"lon\": rlons, \n",
    "})\n",
    "\n",
    "# Create GeoDataFrame.\n",
    "points = gpd.GeoDataFrame(\n",
    "    dfpoints,\n",
    "    geometry=gpd.points_from_xy(dfpoints.lon, dfpoints.lat),\n",
    "    crs=\"EPSG:4326\"\n",
    ")\n",
    "\n",
    "points.head(10)\n"
   ]
  },
  {
   "cell_type": "markdown",
   "metadata": {},
   "source": [
    "\n",
    "<br>\n",
    "\n",
    "With both the coastline shapefile and point data represented as GeoDataFrames, we execute the `sjoin_nearest` spatial join to get the distance from each point to the nearest coastline. First we need to set the crs to a projected coordinate system so the distances are returned in units of meters instead of degrees. Projected coordinate systems use linear units like meters or feet, which makes it easier to perform precise spatial measurements. Here we opt for the Conus Albers equal area conic projection (EPSG:5069).\n",
    "\n",
    "In the call to `sjoin_nearest`, we specify \"meters\" for the `distance_col` argument. This column will hold the distance to the coastline for each point in `points` in units of meters. A miles column is added after the join. \n"
   ]
  },
  {
   "cell_type": "code",
   "execution_count": null,
   "metadata": {},
   "outputs": [],
   "source": [
    "\n",
    "# Convert from GPS to  Conus Albers. \n",
    "points = points.to_crs(\"EPSG:5069\")\n",
    "coast = coast.to_crs(\"EPSG:5069\")\n",
    "\n",
    "# Perform spatial join. Covert meters to miles. \n",
    "gdf = gpd.sjoin_nearest(points, coast, how=\"left\", distance_col=\"meters\")\n",
    "gdf[\"miles\"] = gdf[\"meters\"] * 0.000621371\n",
    "\n",
    "# Get min, max and average distance to coast line.\n",
    "min_dist = gdf.miles.min()\n",
    "max_dist = gdf.miles.max()\n",
    "avg_dist = gdf.miles.mean()\n",
    "\n",
    "print(f\"min. distance to coastline: {min_dist}\")\n",
    "print(f\"max. distance to coastline: {max_dist}\")\n",
    "print(f\"avg. distance to coastline: {avg_dist}\")\n"
   ]
  },
  {
   "cell_type": "markdown",
   "metadata": {},
   "source": [
    "\n",
    "<br>\n",
    "\n",
    "### Rate Group Based on Distance to Coastline\n",
    "\n",
    "Let's imagine a hypothetical rating plan that uses the following distances from the coastline to determine rates:\n",
    "\n",
    "* 0 - 5 miles: very high risk\n",
    "* 5 - 25 miles: high risk\n",
    "* 25 - 50 miles: medium risk\n",
    "* greater than 50 miles: low risk\n",
    "\n",
    "<br>\n",
    "\n",
    "A rolling join via `merge_asof` can be used to select the last row in the right DataFrame (group thresholds) whose `on` key is less than or equal to `gdf`'s key, which will be \"miles\" in both DataFrames.  "
   ]
  },
  {
   "cell_type": "code",
   "execution_count": null,
   "metadata": {},
   "outputs": [],
   "source": [
    "\n",
    "# Create dfgroups DataFrame. \n",
    "dfgroups = pd.DataFrame({\n",
    "    \"risk\": [\"very high\", \"high\", \"medium\", \"low\"],\n",
    "    \"miles\": [0., 5., 25., 50.]\n",
    "})\n",
    "\n",
    "# Assign risk group to each policy location.\n",
    "gdf = gdf.sort_values(\"miles\", ascending=True)\n",
    "gdf = pd.merge_asof(gdf, dfgroups, on=\"miles\", direction=\"backward\")\n",
    "\n",
    "gdf.head(10)\n"
   ]
  },
  {
   "cell_type": "markdown",
   "metadata": {},
   "source": [
    "\n",
    "<br> \n",
    "\n",
    "Counting the number of policies per risk group:"
   ]
  },
  {
   "cell_type": "code",
   "execution_count": null,
   "metadata": {},
   "outputs": [],
   "source": [
    "\n",
    "gdf.risk.value_counts().sort_index()\n"
   ]
  },
  {
   "cell_type": "markdown",
   "metadata": {},
   "source": [
    "\n",
    "<br>\n",
    "\n",
    "Finally, we can assign each risk a different color and visualize the resulting risk groups with folium:\n"
   ]
  },
  {
   "cell_type": "code",
   "execution_count": null,
   "metadata": {},
   "outputs": [],
   "source": [
    "\n",
    "# Colors for each group.\n",
    "dcolors = {\n",
    "    \"very high\": \"#f40002\",\n",
    "    \"high\": \"#ff721f\",\n",
    "    \"medium\": \"#fafc15\",\n",
    "    \"low\": \"#268a6d\"\n",
    "}\n",
    "\n",
    "gdf[\"color\"] = gdf[\"risk\"].map(dcolors)\n",
    "\n",
    "m = folium.Map(location=[mlat, mlon], zoom_start=8)\n",
    "\n",
    "for tt in gdf.itertuples():\n",
    "    lat, lon, color = tt.lat, tt.lon, tt.color\n",
    "    folium.CircleMarker(\n",
    "        location=[lat, lon],\n",
    "        radius=6, \n",
    "        color=color, \n",
    "        fill_color=color, \n",
    "        fill=True,\n",
    "        fill_opacity=1\n",
    "        ).add_to(m)\n",
    "\n",
    "m\n"
   ]
  },
  {
   "cell_type": "markdown",
   "metadata": {},
   "source": [
    "\n",
    "<br>\n"
   ]
  }
 ],
 "metadata": {
  "kernelspec": {
   "display_name": "module3",
   "language": "python",
   "name": "python3"
  },
  "language_info": {
   "codemirror_mode": {
    "name": "ipython",
    "version": 3
   },
   "file_extension": ".py",
   "mimetype": "text/x-python",
   "name": "python",
   "nbconvert_exporter": "python",
   "pygments_lexer": "ipython3",
   "version": "3.11.10"
  }
 },
 "nbformat": 4,
 "nbformat_minor": 2
}
