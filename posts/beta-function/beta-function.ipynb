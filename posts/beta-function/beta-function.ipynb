{
 "cells": [
  {
   "cell_type": "raw",
   "metadata": {},
   "source": [
    "---\n",
    "title: The Beta Function and its Variants \n",
    "date: 2024-02-09\n",
    "description: An investigation of the complete and incomplete beta functions with use cases \n",
    "categories: [Statistical Modeling]\n",
    "---"
   ]
  },
  {
   "cell_type": "markdown",
   "metadata": {},
   "source": [
    "\n",
    "This post highlights variants of the beta function and includes an implementation that \n",
    "reproduces CDF output from `scipy.stats.nbinom` for a given parameterization.           \n",
    "\n",
    "No discussion of the beta function would be complete without first introducing the gamma function. The gamma function is an extension of the factorial function, with its argument shifted down by 1, to real and complex numbers:  \n",
    "\n",
    "$$\n",
    "\\Gamma(x) = \\int_{0}^{\\infty} t^{x-1} e^{-t} dt\n",
    "$$\n",
    "\n",
    "\n",
    "If $n$ is a positive integer, the gamma function reduces to:\n",
    "\n",
    "$$\n",
    "\\Gamma(n) = (n-1)!.\n",
    "$$\n",
    "\n",
    "The beta function is given by:\n",
    "\n",
    "$$\n",
    "B(a, b) = \\int_{0}^{1} t^{a-1} (1-t)^{b-1} dt, \\quad a, b \\in \\mathbb{R}^{\\geq}.\n",
    "$$\n",
    "\n",
    "The beta function can be represented in terms of the gamma function as follows:\n",
    "\n",
    "$$\n",
    "B(a, b) = \\frac{\\Gamma(a)\\Gamma(b)}{\\Gamma(a+b)}\n",
    "$$\n",
    "\n",
    "When $a, b \\in \\mathbb{Z}^{\\geq}$, the expression simplifies to:\n",
    "\n",
    "$$\n",
    "B(a, b) = \\frac{(a-1)!(b-1)!}{(a+b-1)!}.\n",
    "$$\n",
    "\n",
    "In the first beta function expression, the limits of integration were $(0,1)$. The *incomplete beta function* is a generalization of the beta function which allows the upper limit of integration to take on values within the range $[0,x]$. Symbolically, the incomplete beta function is represented as:\n",
    "\n",
    "$$\n",
    "B(x; a, b) = \\int_{0}^{x} t^{a-1} (1-t)^{b-1} dt.\n",
    "$$\n",
    "\n",
    "When $x=1$, *the incomplete beta function and the beta function are equivalent*. Put another way, the beta function is the incomplete \n",
    "beta function evaluated at $x=1$. Having described the beta function and the incomplete beta function, the regularized incomplete beta \n",
    "function is introduced, which is also referred to as the *regularized beta function*. It is defined as the ratio of the incomplete beta \n",
    "function to the beta function, evaluated at $x$:\n",
    "\n",
    "$$\n",
    "I_{x}(a,b) = \\frac{B(x; a,b)}{B(a,b)}\n",
    "$$\n",
    "\n",
    "The regularized beta function is the cumulative distribution function for the beta distribution, which can be used to calculate the CDF \n",
    "for both the negative binomial and binomial distributions. For a binomial random variable $X$, to determine the probability of $k$ or \n",
    "fewer successes in $n$ independent trials, $k \\leq n$, the CDF can be expressed by:\n",
    "\n",
    "$$\n",
    "F(x) = \\sum_{i=0}^{n} \\binom{n}{i} p^{i} (1-p)^{n-i} = I_{1-p}(n-k,1+k).\n",
    "$$\n",
    "\n",
    "To demonstrate, assume $p=.25$, $n=5$. The probability of 3 or fewer successes is conventionally computed via binomial expansion as:\n",
    "\n",
    "$$\n",
    "P[X \\leq 3] = \\binom{5}{0} .25^{0} .75^{5} + \\binom{5}{1} .25^{1} .75^{4} + \\binom{5}{2} .25^{2} .75^{3} + \\binom{5}{3} .25^{3} .75^{2} = \\mathbf{0.984375}.\n",
    "$$\n",
    "\n",
    "Equivalently, leveraging the regularized incomplete beta function yields:\n",
    "\n",
    "$$\n",
    "P[X \\leq 3] = I_{.75}(2, 4) = \\mathbf{0.984375}.\n",
    "$$\n",
    "\n",
    "\n",
    "For the negative binomial distribution, assuming the common $r,k$ parameterization in which the PDF is given by\n",
    "\n",
    "$$\n",
    "P(X=k) = \\binom{k+r-1}{k} p^{k} (1-p)^{r} \\quad \\text{for} k = 0, 1, 2, \\cdots.\n",
    "$$\n",
    "\n",
    "\n",
    "The negative binomial CDF can be computed using the regularized incomplete beta function:\n",
    "\n",
    "$$\n",
    "P(X \\leq k) = 1 - I_{p}(k+1, r).\n",
    "$$\n",
    "\n",
    "\n",
    "### Implementation\n",
    "\n",
    "In what follows, a function to compute the CDF of the negative binomial distribution using functions available in `scipy.special` is \n",
    "demonstrated. Results will be compared to `scipy.stats.nbinom.cdf` for a set of inputs to assess the correctness of the implementation."
   ]
  },
  {
   "cell_type": "code",
   "execution_count": 5,
   "metadata": {},
   "outputs": [],
   "source": [
    "\"\"\"\n",
    "Calculation of negative binomial CDF using regularized incomplete \n",
    "beta function. Note that the call signature for nbinom.cdf is:\n",
    "\n",
    "    nbinom.cdf(<nbr_failures>, <nbr_successes>, <prob_success>)\n",
    "\"\"\"\n",
    "from scipy.special import betainc\n",
    "from scipy.stats import nbinom\n",
    "import numpy as np\n",
    "\n",
    "# Vectorization of nbinom.pmf.\n",
    "nb_pdfs = np.vectorize(nbinom.pmf)\n",
    "\n",
    "\n",
    "def nb_cdf(k, n,  p):\n",
    "    \"\"\"\n",
    "    Negative binomial CDF using the regularized incomplete beta function.\n",
    "    \"\"\"\n",
    "    I = betainc(n + 1, k, p)\n",
    "    return(1 - I)\n",
    "\n"
   ]
  },
  {
   "cell_type": "markdown",
   "metadata": {},
   "source": [
    "We test the implementation against the actual negative binomial CDF:"
   ]
  },
  {
   "cell_type": "code",
   "execution_count": 6,
   "metadata": {},
   "outputs": [
    {
     "name": "stdout",
     "output_type": "stream",
     "text": [
      "sum_pdfs: 0.588099\n",
      "actual_cdf: 0.588099\n",
      "new_cdf: 0.588099\n"
     ]
    }
   ],
   "source": [
    "\n",
    "nbr_successes, nbr_failures, prob_success = 10, 10, .5\n",
    "sum_pdfs = nb_pdfs(np.arange(nbr_failures + 1), nbr_successes, prob_success).sum()\n",
    "actual_cdf = nbinom.cdf(nbr_failures, nbr_successes, prob_success)\n",
    "new_cdf = nb_cdf(nbr_failures, nbr_successes, prob_success)\n",
    "\n",
    "print(f\"sum_pdfs: {sum_pdfs:.6f}\")\n",
    "print(f\"actual_cdf: {actual_cdf:.6f}\")\n",
    "print(f\"new_cdf: {new_cdf:.6f}\")\n"
   ]
  },
  {
   "cell_type": "markdown",
   "metadata": {},
   "source": [
    "\n",
    "As expected, all three approaches arrive at the same value for the negative binomial CDF. "
   ]
  }
 ],
 "metadata": {
  "kernelspec": {
   "display_name": "py311",
   "language": "python",
   "name": "python3"
  },
  "language_info": {
   "codemirror_mode": {
    "name": "ipython",
    "version": 3
   },
   "file_extension": ".py",
   "mimetype": "text/x-python",
   "name": "python",
   "nbconvert_exporter": "python",
   "pygments_lexer": "ipython3",
   "version": "3.11.7"
  }
 },
 "nbformat": 4,
 "nbformat_minor": 2
}
