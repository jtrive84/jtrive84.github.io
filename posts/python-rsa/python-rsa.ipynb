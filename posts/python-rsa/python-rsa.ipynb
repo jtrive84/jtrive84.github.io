{
 "cells": [
  {
   "cell_type": "raw",
   "metadata": {},
   "source": [
    "---\n",
    "title: Simple Example of RSA Encryption and Decryption    \n",
    "date: 2024-02-01\n",
    "description: An illustrative example of RSA encryption and decryption using small primes       \n",
    "categories: [Python]\n",
    "---"
   ]
  },
  {
   "cell_type": "markdown",
   "metadata": {},
   "source": [
    "The RSA algorithm is named after Ron Rivest, Adi Shamir and Len Adleman, who invented the system in 1977. The RSA cryptosystem is the most widely-used public key cryptography algorithm in the world. It can be used to encrypt a message without requiring the exchange of a secret key. RSA exploits the fact that while multiplying large integers is trivial, determining the factors of large integers is much \n",
    "more difficult. The original paper introducing the RSA cryptosystem is quite readable, and is available for downloaded [here](https://people.csail.mit.edu/rivest/Rsapaper.pdf).\n",
    "\n",
    "In this post, we'll walk through each step of the RSA algorithm (key generation, key distribution, encryption and decryption) with an illustrative example using small primes.    \n",
    "\n",
    "\n",
    "### RSA Algorithm\n",
    "  \n",
    "1. Generate two prime numbers $p,q$ then compute their product $n$.              \n",
    "2. Compute *Euler's totient*: $\\phi = (p - 1)(q - 1)$.           \n",
    "3. Select a number $e$ that is relatively coprime with $(p -1)$ and $(q - 1)$.             \n",
    "4. Compute $d$ such that $ed \\equiv 1 (mod \\phi)$.        \n",
    " \n",
    "\n",
    "Once we have $n$, $d$ and $e$, we specify our public key as $(n, e)$ and private key as $(n, d)$.\n",
    "\n",
    "For a plain text message $m$, we can generate the corresponding ciphertext $c$ by computing:\n",
    "\n",
    "$$\n",
    "c = m^{e} \\bmod n\n",
    "$$\n",
    "\n",
    "Similarly, we can convert the ciphertext $c$ back to plaintext $m$ using:   \n",
    "\n",
    "$$\n",
    "m = c^{d} \\bmod n\n",
    "$$\n",
    "\n",
    "\n",
    "### Demonstration\n",
    "\n",
    "In order to use the RSA cryptosystem, it is necessary to use an encoding to \n",
    "represent letters as numbers. A well know mapping of english letters to numeric \n",
    "values is the [ASCII character encoding](https://en.wikipedia.org/wiki/ASCII).\n",
    "Using the ASCII encoding, **HELP!** would be encoded as \n",
    "**72 - 69 - 76 - 80 - 33**.     \n",
    "\n",
    "We start by generating two primes then compute their product. In practice, the \n",
    "modulus can be 1024-bits or greater. A 1024-bit modulus corresponds to a number \n",
    "with over 300 decimal digits[ref]https://www.di-mgt.com.au/rsa_alg.html[/ref].\n",
    "\n",
    "As stated above, we select $p$ and $q$ then compute $n$:\n",
    "\n",
    "$$\n",
    "\\begin{align}\n",
    "p&=19\\\\\n",
    "q&=29\\\\\n",
    "n&=pq = 551\n",
    "\\end{align}\n",
    "$$\n",
    "\n",
    "Then we compute Euler's totient:   \n",
    "\n",
    "$$\n",
    "\\phi = (p -1)(q-1) = 18 \\times 28 = 504\n",
    "$$\n",
    "\n",
    "\n",
    "Next we need to find a number $e$, where $1 < e < \\phi$ that is relatively \n",
    "coprime with $(p - 1)$ and $(q - 1)$. In other words, find $e$ such that the \n",
    "greatest common divisor of $\\phi$ and $e$ is 1. For this example, we set $e=17$.  \n",
    "\n",
    "Finally, we need to find $d$ such that $ed \\equiv 1 (mod \\phi)$. This can be \n",
    "accomplished using the following function implemented in Python:    \n"
   ]
  },
  {
   "cell_type": "code",
   "execution_count": 1,
   "metadata": {},
   "outputs": [],
   "source": [
    "import itertools\n",
    "\n",
    "def get_d(e, phi):\n",
    "    \"\"\"\n",
    "    Compute d such that e * d = 1 % phi.\n",
    "    \"\"\"\n",
    "    for i in itertools.count(start=int(phi / e)):\n",
    "        v = (e * i) % phi\n",
    "        if v==1: \n",
    "            break\n",
    "    return(i)"
   ]
  },
  {
   "cell_type": "markdown",
   "metadata": {},
   "source": [
    "Running `get_d` yields $89$. To summarize:\n",
    "\n",
    "$$\n",
    "\\begin{align}\n",
    "p&=19\\\\\n",
    "q&=29\\\\\n",
    "n&=551\\\\\n",
    "\\phi&=504\\\\\n",
    "e&=17\\\\\n",
    "d&=89\n",
    "\\end{align}\n",
    "$$\n",
    "\n",
    "Given these values, our public key is $(551, 17)$ and our private key is $(551, 89)$.  \n",
    "\n",
    "\n",
    "Given the numerically-encoded plaintext **HELP!** as $72 - 69 - 76 - 80 - 33$, \n",
    "we generate the ciphertext. Recall that in order to convert plaintext to \n",
    "ciphertext, we use $c = m^{e} \\bmod n$. Note that Python's `pow` function takes \n",
    "an optional 3rd parameter representing the modulus. For example, calling \n",
    "`pow(a, b, c)` calculates $a^{b}\\bmod c$:"
   ]
  },
  {
   "cell_type": "code",
   "execution_count": 2,
   "metadata": {},
   "outputs": [
    {
     "data": {
      "text/plain": [
       "[185, 293, 171, 5, 528]"
      ]
     },
     "execution_count": 2,
     "metadata": {},
     "output_type": "execute_result"
    }
   ],
   "source": [
    "\n",
    "p, q, n, phi, e, d = 19, 29, 551, 504, 17, 89\n",
    "m = [72, 69, 76, 80, 33]\n",
    "c = [pow(i, e, n) for i in m]\n",
    "c\n"
   ]
  },
  {
   "cell_type": "markdown",
   "metadata": {},
   "source": [
    "\n",
    "As expected, when we print `c`, the numbers are completely different than the \n",
    "plaintext encoding.   \n",
    "\n",
    "This message can only be decoded by the entity in possession of the private \n",
    "key. Let's imagine that we received a message from a counter party who \n",
    "generated the ciphertext using the public key. We need to decrypt the message \n",
    "using our private key. To do so, we calculate $m = c^{d} \\bmod n$. In Python, \n",
    "we can obtain the ASCII character associated with an integer by calling the \n",
    "$chr$ function. Picking up where we left off in the previous example, we first \n",
    "convert the ciphertext to plaintext, then the plaintext array of integers to a \n",
    "string: \n"
   ]
  },
  {
   "cell_type": "code",
   "execution_count": 3,
   "metadata": {},
   "outputs": [
    {
     "name": "stdout",
     "output_type": "stream",
     "text": [
      "m : [72, 69, 76, 80, 33]\n",
      "pt: HELP!\n"
     ]
    }
   ],
   "source": [
    "m = [pow(i, d, n) for i in c]\n",
    "pt = \"\".join(chr(i) for i in m)\n",
    "print(f\"m : {m}\")\n",
    "print(f\"pt: {pt}\")"
   ]
  },
  {
   "cell_type": "markdown",
   "metadata": {},
   "source": [
    "## Breaking RSA with Brute-Force\n",
    "\n",
    "Recently I came across a \n",
    "[question](https://crypto.stackexchange.com/questions/3043/how-much-computing-resource-is-required-to-brute-force-rsa) posted to crypto.statsexchange inquiring about the computing resources that would be required to brute-force \n",
    "enumerate every possible RSA {1024, 2048,4096}-bit key-pair. Here was a\n",
    "response I found particularly helpful:\n",
    "\n",
    ">Even if you had infinite computing power you would not have the space to \n",
    ">store all these public/private key pairs (I'll spare you the semi-mathematical \n",
    ">posts comparing the space required to the number of protons in the universe). \n",
    ">Many people have trouble perceiving just how big a number $2^{2048}$ is, it's \n",
    ">a common error. A much more practical approach instead is to harvest as many \n",
    ">real-life public keys as possible, and trying to find common factors between \n",
    ">them. It actually works because of poor key generation practices.   \n"
   ]
  }
 ],
 "metadata": {
  "kernelspec": {
   "display_name": "py311",
   "language": "python",
   "name": "py311"
  },
  "language_info": {
   "codemirror_mode": {
    "name": "ipython",
    "version": 3
   },
   "file_extension": ".py",
   "mimetype": "text/x-python",
   "name": "python",
   "nbconvert_exporter": "python",
   "pygments_lexer": "ipython3",
   "version": "3.11.7"
  }
 },
 "nbformat": 4,
 "nbformat_minor": 2
}
