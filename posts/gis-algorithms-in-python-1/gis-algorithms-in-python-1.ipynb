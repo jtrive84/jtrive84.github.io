{
 "cells": [
  {
   "cell_type": "raw",
   "metadata": {
    "vscode": {
     "languageId": "raw"
    }
   },
   "source": [
    "---\n",
    "title: GIS Algorithms in Python, Part I - Point-to-Point and Point-to-Line Distances\n",
    "date: 2024-11-22\n",
    "description: Computing point-to-point and point-to-line distances in Python\n",
    "categories: [Geospatial, Python]\n",
    "---"
   ]
  },
  {
   "cell_type": "markdown",
   "metadata": {},
   "source": [
    "\n",
    "I’ve been spending time exploring Ningchuan Xiao's excellent book, *GIS Algorithms*. This text offers a comprehensive dive into fundamental geospatial concepts including geometric algorithms, spatial indexing, and spatial analysis. The author thoroughly explains the theoretical foundations of each concept and provides practical Python implementations as examples.\n",
    "\n",
    "In a series of upcoming posts, I’ll break down and share insights on these concepts one-by-one. In this post, we’ll focus on two straightforward geometric algorithms: calculating point-to-point and point-to-line distances. The accompanying code leverages the Shapely library to handle geometric primitives such as points and lines and to validate our custom implementations of each algorithm. "
   ]
  },
  {
   "cell_type": "markdown",
   "metadata": {
    "vscode": {
     "languageId": "raw"
    }
   },
   "source": [
    "\n",
    "## Point-to-Point Distance\n",
    "\n",
    "We begin by computing the distance between two points in a rectilinear coordinate system. This can be accomplished using the Pythagorean theorem. For $p_{0} = (x_{0}, y_{0})$ and $p_{1} = (x_{1}, y_{1})$, the straight line distance $D$ between $p_{0}$ and $p_{2}$ is given by:\n",
    "\n",
    "$$\n",
    "D = \\sqrt{(x_{1} - x_{0})^{2} + (y_{1} - y_{0})^{2}}. \n",
    "$$\n",
    "\n",
    "In the next cell, `point2point` computes the distance between two points using the Pythagorean theorem:\n"
   ]
  },
  {
   "cell_type": "code",
   "execution_count": null,
   "metadata": {},
   "outputs": [
    {
     "name": "stdout",
     "output_type": "stream",
     "text": [
      "Distance using point2point: 4.47214\n",
      "Distance using shapely    : 4.47214\n"
     ]
    }
   ],
   "source": [
    "\n",
    "from math import sqrt\n",
    "from shapely.geometry import Point\n",
    "\n",
    "\n",
    "def point2point(p0, p1):\n",
    "    \"\"\"\n",
    "    Return the distance between p1 and p2. \n",
    "\n",
    "    Parameters\n",
    "    ----------\n",
    "    p0: shapely.geometry.point.Point\n",
    "        First point.\n",
    "\n",
    "    p1: shapely.geometry.point.Point\n",
    "        Second point.\n",
    "\n",
    "    Returns\n",
    "    -------\n",
    "    float\n",
    "        Straight-line distance between p0 and p1. \n",
    "    \"\"\"\n",
    "    x0: float = p0.x\n",
    "    y0: float = p0.y\n",
    "    x1: float = p1.x\n",
    "    y1: float = p1.y\n",
    "    return sqrt((x1 - x0)**2 + (y1 - y0)**2)\n",
    "\n",
    "\n",
    "# Define two points.\n",
    "p0 = Point(2., 3.)\n",
    "p1 = Point(4., 7.)\n",
    "\n",
    "# Compute distances using point2point and shapely. \n",
    "p2p = point2point(p0, p1)\n",
    "shp = p0.distance(p1)\n",
    "\n",
    "print(f\"Distance using point2point: {p2p:.5f}\")\n",
    "print(f\"Distance using shapely    : {shp:.5f}\")\n"
   ]
  },
  {
   "cell_type": "markdown",
   "metadata": {},
   "source": [
    "\n",
    "<br>\n",
    "\n",
    "If it is necessary to compute distance between two points on a sphere separated by a large extent, using `point2point` will not be accurate. We can instead opt for the haversine formula, which calculates the great-circle distance between two points on the Earth's surface. It is especially suited for applications where accuracy over large distances is critical. The `haversine` function in the next cell accepts two points, with `x` representing longitude and `y` latitude, and returns the great circle distance between them. To use the haversine formula, it is necessary to specify a value for the radius of the Earth. We use 6,371 km, a generally accepted value for the Earth's mean radius (see [here](https://www.movable-type.co.uk/scripts/latlong.html)):\n"
   ]
  },
  {
   "cell_type": "code",
   "execution_count": 2,
   "metadata": {},
   "outputs": [],
   "source": [
    "\n",
    "from math import asin, cos, sin, radians\n",
    "\n",
    "\n",
    "def get_haversine(p0, p1):\n",
    "\t\"\"\"\n",
    "\tCalculate the great circle distance between two points on the earth \n",
    "\t(specified in decimal degrees).\n",
    "\n",
    "\tParameters\n",
    "\t----------\n",
    "\t\tp0: shapely.geometry.point.Point\n",
    "\t\tFirst point with x = longitude and y = latitude.\n",
    "\n",
    "\tp1: shapely.geometry.point.Point\n",
    "\t\tSecond point with x = longitude and y = latitude.\n",
    "\n",
    "\tReturns\n",
    "\t-------\n",
    "\tfloat\n",
    "\t\tGreat circle distance between p0 and p1 in km.\n",
    "\n",
    "\tReferences\n",
    "\t----------\n",
    "\thttp://www.movable-type.co.uk/scripts/latlong.html\n",
    "\t\"\"\"\n",
    "\tR: float = 6371.\n",
    "\tlon0: float = p0.x\n",
    "\tlat0: float = p0.y\n",
    "\tlon1: float = p1.x\n",
    "\tlat1: float = p1.y\n",
    "\t\n",
    "\t# Convert lat and lon degrees to radians.\n",
    "\trlon0, rlat0, rlon1, rlat1 = map(radians, (lon0, lat0, lon1, lat1))\n",
    "\tdlon = rlon1 - rlon0\n",
    "\tdlat = rlat1 - rlat0\n",
    "\ta = sin(dlat / 2)**2 + cos(rlat0) * cos(rlat1) * sin(dlon / 2)**2\n",
    "\tc = 2 * asin(sqrt(a))\n",
    "\treturn R * c\n"
   ]
  },
  {
   "cell_type": "markdown",
   "metadata": {},
   "source": [
    "<br>\n",
    "\n",
    "The pyproj library can be used to validate our haversine distance calculation. `p0` represents Chicago, Illinois and `p1` Burlington, Vermont. `pyproj.inv` returns the distance in meters, so we divide by 1000 to covert to km:"
   ]
  },
  {
   "cell_type": "code",
   "execution_count": 3,
   "metadata": {},
   "outputs": [
    {
     "name": "stdout",
     "output_type": "stream",
     "text": [
      "Distance (km) via get_haversine: 1,203\n",
      "Distance (km) via pyproj       : 1,205\n"
     ]
    }
   ],
   "source": [
    "\n",
    "import pyproj\n",
    "\n",
    "# p0 = Chicago, IL, p1 = Burlington, VT. \n",
    "p0 = Point(-87.6298, 41.8781)\n",
    "p1 = Point(-73.2121, 44.4759) \n",
    "\n",
    "# Compute distances using get_haversine and geopy. \n",
    "get_haversine_dist = get_haversine(p0, p1)\n",
    "geodesic = pyproj.Geod(ellps=\"WGS84\")\n",
    "_, _, pyproj_dist = geodesic.inv(*p0.coords[0], *p1.coords[0])\n",
    "\n",
    "print(f\"Distance (km) via get_haversine: {get_haversine_dist:,.0f}\")\n",
    "print(f\"Distance (km) via pyproj       : {pyproj_dist / 1000:,.0f}\")\n"
   ]
  },
  {
   "cell_type": "markdown",
   "metadata": {},
   "source": [
    "\n",
    "The results are very close. We could get them to match exactly by tweaking the value used for the Earth's radius. \n",
    "\n",
    "<br>\n",
    "\n",
    "## Point-to-Line Distance\n",
    "\n",
    "In Chapter 2 of *GIS Algorithms*, a general expression for the distance from a point to a line in rectilinear coordinates is presented. The distance $D$ is defined as\n",
    "\n",
    "$$ \n",
    "D = \\frac{|ax_{0} + by_{0} + c|}{\\sqrt{a^{2} + b^{2}}},\n",
    "$$\n",
    "\n",
    "where $ax_{0} + by_{0} + c$ is a line on the 2-D plane where $a, b$ and $c$ are constants. To obtain this expression, we calculate the distance from the point to the intersection point $(x_{1}, y_{1})$ between the line and a perpendicular line passing through $(x_{0}, y_{0})$.\n",
    "\n",
    "Let $L = ax_{0} + by_{0} + c$. The slope of the line perpendicular to $L$ is $b / a$, therefore\n",
    "\n",
    "$$\n",
    "\\frac{y_{1} - y_{0}}{x_{1} - x_{0}} = \\frac{b}{a},\n",
    "$$\n",
    "\n",
    "resulting in\n",
    "\n",
    "$$\n",
    "a(y_{1} - y_{0}) - b(x_{1} - x_{0}) = 0.\n",
    "$$\n",
    "\n",
    "Squaring both sides and rearranging yields\n",
    "\n",
    "$$\n",
    "a^{2}(y_{1} - y_{0})^{2} + b^{2}(x_{1} - x_{0})^{2} = 2ab(x_{1} - x_{0})(y_{1} - y_{0}).\n",
    "$$\n",
    "\n",
    "After adding $a^{2}(x_{1} - x_{0})^{2} + b^{2}(y_{1} - y_{0})^{2}$ to both sides, the L.H.S. can be rewritten as\n",
    "\n",
    "$$\n",
    "(a^{2} + b^{2})\\big((y_{1} - y_{0})^{2} + (x_{1} - x_{0})^{2}\\big),\n",
    "$$\n",
    "\n",
    "and the R.H.S. as \n",
    "\n",
    "$$\n",
    "(ax_{1} + by_{1} - ax_{0} - by_{0})^{2}.\n",
    "$$\n",
    "\n",
    "Since the intersection point $(x_{1}, y_{1})$ also falls on the original line $L$, $ax_{1} + by_{1} = -c$. Substituting this result within the R.H.S expression above gives us\n",
    "\n",
    "$$\n",
    "(a^{2} + b^{2})\\big((y_{1} - y_{0})^{2} + (x_{1} - x_{0})^{2}\\big) = (ax_{0} + by_{0} + c)^{2}.\n",
    "$$\n",
    "  \n",
    "\n",
    "$(y_{1} - y_{0})^{2} + (x_{1} - x_{0})^{2}$ is the square of the distance between $(x_{0}, y_{0})$ and $L$. Rearranging, we obtain the original expression for $D$:\n",
    "\n",
    "$$\n",
    "D = \\frac{|ax_{0} + by_{0} + c|}{\\sqrt{a^{2} + b^{2}}}.\n",
    "$$\n",
    "\n",
    "<br>\n",
    "\n",
    "In order to obtain the values for $a, b$ and $c$, we assume two endpoints that define a line segment $(x_{1}, y_{1})$ and $(x_{2}, y_{2})$. Let\n",
    "\n",
    "$$\n",
    "\\begin{align*}\n",
    "dx &= x_{1} - x_{2}\\\\\n",
    "dy &= y_{1} - y_{2}\\\\\n",
    "y &= \\frac{dy}{dx}x + n,\n",
    "\\end{align*}\n",
    "$$\n",
    " \n",
    "where $n$ is a constant we need to compute. Plugging $(x_{1}, y_{1})$ into the last equation and solving for $n$ yields\n",
    "\n",
    "$$\n",
    "n = y_{1} - \\frac{dy}{dx}x_{1}.\n",
    "$$\n",
    "\n",
    "Thus, a general form for the line can be expressed as\n",
    "\n",
    "$$\n",
    "y = \\frac{dy}{dx}x + y_{1} - \\frac{dy}{dx}x_{1}.\n",
    "$$\n",
    "\n",
    "Multiplying through by $dx$ and rearranging results in\n",
    "\n",
    "$$\n",
    "xdy - ydx + y_{1}dx -x_{1}dy = 0.\n",
    "$$\n",
    "\n",
    "Referring back to our original expression for $L$, it is easy to see that\n",
    "\n",
    "$$\n",
    "\\begin{align*}\n",
    "a &= dy\\\\\n",
    "b &= -dx\\\\\n",
    "c &= y_{1}dx - x_{1}dy.\n",
    "\\end{align*}\n",
    "$$\n",
    "\n",
    "<br>\n",
    "\n",
    "\n",
    "Given a point $(x_{0}, y_{0})$ and a line segment $L$ defined by two endpoints $(x_{1}, y_{1})$ and $(x_{2}, y_{2})$, we can now determine the distance from $(x_{0}, y_{0})$ to the intersection point between $L$ and the perpendicular line passing through $(x_{0}, y_{0})$:"
   ]
  },
  {
   "cell_type": "code",
   "execution_count": null,
   "metadata": {},
   "outputs": [],
   "source": [
    "\n",
    "from shapely.geometry import LineString\n",
    "\n",
    "\n",
    "def point2line(p, l):\n",
    "    \"\"\"\n",
    "    Compute distance between point p and line l.\n",
    "\n",
    "    Parameters\n",
    "    ----------\n",
    "    p: shapely.geometry.point.Point\n",
    "        Point of interest.\n",
    "    l: shapely.geometry.linestring.LineString\n",
    "        Line defined by two end points. \n",
    "\n",
    "    Returns\n",
    "    -------\n",
    "    float\n",
    "        Distance from p to l. \n",
    "    \"\"\"\n",
    "    # Get endpoints from l. \n",
    "    p1, p2 = l.coords[:2]\n",
    "    x0: float = p.x\n",
    "    y0: float = p.y\n",
    "    x1: float = p1[0]\n",
    "    y1: float = p1[1]\n",
    "    x2: float = p2[0]\n",
    "    y2: float = p2[1]\n",
    "    dx = x1 - x2\n",
    "    dy = y1 - y2\n",
    "    a = dy\n",
    "    b = -dx\n",
    "    c = y1 * dx - x1 * dy\n",
    "    return abs(a * x0 + b * y0 + c) / sqrt(a**2 + b**2)\n"
   ]
  },
  {
   "cell_type": "markdown",
   "metadata": {},
   "source": [
    "\n",
    "<br>\n",
    "\n",
    "We create a line and point and use `point2line` to calculate the distance. The distance is also calculated using shapely to for verification:\n"
   ]
  },
  {
   "cell_type": "code",
   "execution_count": 28,
   "metadata": {},
   "outputs": [
    {
     "name": "stdout",
     "output_type": "stream",
     "text": [
      "point2line distance: 5.58440\n",
      "shapely distance   : 5.58440\n"
     ]
    }
   ],
   "source": [
    "\n",
    "p = Point(8., 3.)\n",
    "l = LineString([[1., 1.], [5., 10.]])\n",
    "\n",
    "point2line_dist = point2line(p, l)\n",
    "shapely_dist = p.distance(l)\n",
    "\n",
    "print(f\"point2line distance: {point2line_dist:.5f}\")\n",
    "print(f\"shapely distance   : {shapely_dist:.5f}\")\n"
   ]
  },
  {
   "cell_type": "markdown",
   "metadata": {},
   "source": [
    "\n",
    "<br>\n",
    "\n",
    "Let's visualize `p` and `l`, along with the line perpendicular to `l` passing through `p`:"
   ]
  },
  {
   "cell_type": "code",
   "execution_count": 61,
   "metadata": {},
   "outputs": [
    {
     "data": {
      "image/png": "[encoded data removed]",
      "text/plain": [
       "<Figure size 750x500 with 1 Axes>"
      ]
     },
     "metadata": {},
     "output_type": "display_data"
    }
   ],
   "source": [
    "\n",
    "import matplotlib.pyplot as plt\n",
    "\n",
    "# Determine slope and intercept of line perpendicular to l passing through p.\n",
    "x0, y0 = p.coords[0]\n",
    "(x1, y1), (x2, y2) = l.coords[:2]\n",
    "\n",
    "# Get slope and intercept of l.\n",
    "m = (y2 - y1) / (x2 - x1)\n",
    "b = y1 - m * x1\n",
    "\n",
    "# Get slope of line perpendicular to l.\n",
    "mp = -1 / m\n",
    "\n",
    "# Get intercept of line perpendicular to l that passes through (x0, y0).\n",
    "bp = y0 - mp * x0\n",
    "\n",
    "# Determine x and y where l and line perpendicular to l intersect. \n",
    "# The two points that define the line perpendicular to l are (x0, y0) \n",
    "# and (x_intersect, y_intersect).\n",
    "x_intersect = (bp - b) / (m - mp)\n",
    "y_intersect = m * x_intersect + b\n",
    "\n",
    "# Group coordinates for plotting.\n",
    "xx, yy = [x1, x2], [y1, y2]\n",
    "xxp, yyp = [x0, x_intersect], [y0, y_intersect]\n",
    "\n",
    "\n",
    "fig, ax = plt.subplots(1, 1, figsize=(7.5, 5.), tight_layout=True) \n",
    "\n",
    "# Plot point p.\n",
    "ax.plot(x0, y0, \"o\", markersize=8, color=\"red\", label=\"original point\")\n",
    "\n",
    "# Plot line segment l.\n",
    "ax.plot(xx, yy, linewidth=2.0, color=\"blue\", label=\"original line\")\n",
    "\n",
    "# Plot line segment perpendicular to l.\n",
    "ax.plot(xxp, yyp, linewidth=2.0, color=\"green\", linestyle=\"--\", label=\"perpendicular line\")\n",
    "\n",
    "# Plot intersection point.\n",
    "ax.plot(x_intersect, y_intersect, \"o\", markersize=8, color=\"green\", label=\"intersection point\")\n",
    "\n",
    "ax.annotate(\n",
    "    f\"({x0:.2f}, {y0:.2f})\", xy=(x0, y0), xycoords=\"data\", ha=\"left\", va=\"bottom\", \n",
    "    textcoords=\"offset points\", xytext=(5, 5), fontsize=10, rotation=0, weight=\"normal\", \n",
    "    color=\"#000000\"\n",
    ") \n",
    "\n",
    "ax.annotate(\n",
    "    \"p\", xy=(x0, y0), xycoords=\"data\", ha=\"left\", va=\"bottom\", textcoords=\"offset points\", \n",
    "    xytext=(-12, -12), fontsize=10, rotation=0, weight=\"normal\", color=\"#000000\"\n",
    ") \n",
    "\n",
    "ax.annotate(\n",
    "    f\"({x_intersect:.2f}, {y_intersect:.2f})\", xy=(x_intersect, y_intersect), \n",
    "    xycoords=\"data\", ha=\"left\", va=\"bottom\", textcoords=\"offset points\", \n",
    "    xytext=(5, 5), fontsize=10, rotation=0, weight=\"normal\", color=\"#000000\"\n",
    ") \n",
    "\n",
    "ax.axis('equal')\n",
    "ax.tick_params(axis=\"x\", which=\"major\", direction='in', labelsize=7)\n",
    "ax.tick_params(axis=\"y\", which=\"major\", direction='in', labelsize=7)\n",
    "ax.xaxis.set_ticks_position(\"none\")\n",
    "ax.yaxis.set_ticks_position(\"none\")\n",
    "ax.legend(loc=\"upper right\", fancybox=True, framealpha=1, fontsize=\"small\")\n",
    "plt.show()\n"
   ]
  },
  {
   "cell_type": "markdown",
   "metadata": {},
   "source": [
    "\n",
    "<br>\n",
    "\n",
    "Since we have the endpoints of the line perpendicular to `l` passing through `p`, we can show that `point2point` returns the same distance as `point2line`:"
   ]
  },
  {
   "cell_type": "code",
   "execution_count": null,
   "metadata": {},
   "outputs": [
    {
     "data": {
      "text/plain": [
       "5.584403908234904"
      ]
     },
     "execution_count": 60,
     "metadata": {},
     "output_type": "execute_result"
    }
   ],
   "source": [
    "\n",
    "p1 = Point(x0, y0)\n",
    "p2 = Point(x_intersect, y_intersect)\n",
    "\n",
    "point2point(p1, p2)\n"
   ]
  }
 ],
 "metadata": {
  "kernelspec": {
   "display_name": "py311",
   "language": "python",
   "name": "python3"
  },
  "language_info": {
   "codemirror_mode": {
    "name": "ipython",
    "version": 3
   },
   "file_extension": ".py",
   "mimetype": "text/x-python",
   "name": "python",
   "nbconvert_exporter": "python",
   "pygments_lexer": "ipython3",
   "version": "3.11.10"
  }
 },
 "nbformat": 4,
 "nbformat_minor": 2
}
